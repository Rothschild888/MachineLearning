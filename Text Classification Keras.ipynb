{
 "cells": [
  {
   "cell_type": "code",
   "execution_count": 1,
   "metadata": {},
   "outputs": [],
   "source": [
    "from __future__ import absolute_import\n",
    "from __future__ import division\n",
    "from __future__ import print_function"
   ]
  },
  {
   "cell_type": "code",
   "execution_count": 2,
   "metadata": {},
   "outputs": [
    {
     "name": "stdout",
     "output_type": "stream",
     "text": [
      "You have TensorFlow version 1.13.1\n"
     ]
    },
    {
     "name": "stderr",
     "output_type": "stream",
     "text": [
      "Using TensorFlow backend.\n"
     ]
    }
   ],
   "source": [
    "import itertools\n",
    "import os\n",
    "\n",
    "%matplotlib inline\n",
    "import matplotlib.pyplot as plt\n",
    "import numpy as np\n",
    "import pandas as pd\n",
    "import tensorflow as tf\n",
    "\n",
    "from sklearn.preprocessing import LabelBinarizer, LabelEncoder\n",
    "from sklearn.metrics import confusion_matrix\n",
    "\n",
    "from tensorflow import keras\n",
    "from keras.models import Sequential\n",
    "from keras.layers import Dense, Activation, Dropout\n",
    "from keras.preprocessing import text, sequence\n",
    "from keras import utils\n",
    "\n",
    "# This code was tested with TensorFlow v1.4\n",
    "print(\"You have TensorFlow version\", tf.__version__)"
   ]
  },
  {
   "cell_type": "code",
   "execution_count": 7,
   "metadata": {},
   "outputs": [
    {
     "data": {
      "text/html": [
       "<div>\n",
       "<style scoped>\n",
       "    .dataframe tbody tr th:only-of-type {\n",
       "        vertical-align: middle;\n",
       "    }\n",
       "\n",
       "    .dataframe tbody tr th {\n",
       "        vertical-align: top;\n",
       "    }\n",
       "\n",
       "    .dataframe thead th {\n",
       "        text-align: right;\n",
       "    }\n",
       "</style>\n",
       "<table border=\"1\" class=\"dataframe\">\n",
       "  <thead>\n",
       "    <tr style=\"text-align: right;\">\n",
       "      <th></th>\n",
       "      <th>Date received</th>\n",
       "      <th>Product</th>\n",
       "      <th>Sub-product</th>\n",
       "      <th>Issue</th>\n",
       "      <th>Sub-issue</th>\n",
       "      <th>Consumer complaint narrative</th>\n",
       "      <th>Company public response</th>\n",
       "      <th>Company</th>\n",
       "      <th>State</th>\n",
       "      <th>ZIP code</th>\n",
       "      <th>Tags</th>\n",
       "      <th>Consumer consent provided?</th>\n",
       "      <th>Submitted via</th>\n",
       "      <th>Date sent to company</th>\n",
       "      <th>Company response to consumer</th>\n",
       "      <th>Timely response?</th>\n",
       "      <th>Consumer disputed?</th>\n",
       "      <th>Complaint ID</th>\n",
       "    </tr>\n",
       "  </thead>\n",
       "  <tbody>\n",
       "    <tr>\n",
       "      <th>0</th>\n",
       "      <td>05/24/2019</td>\n",
       "      <td>Debt collection</td>\n",
       "      <td>Medical debt</td>\n",
       "      <td>Attempts to collect debt not owed</td>\n",
       "      <td>Debt was paid</td>\n",
       "      <td>NaN</td>\n",
       "      <td>NaN</td>\n",
       "      <td>ONLINE Information Services, Inc.</td>\n",
       "      <td>TN</td>\n",
       "      <td>38128</td>\n",
       "      <td>NaN</td>\n",
       "      <td>NaN</td>\n",
       "      <td>Web</td>\n",
       "      <td>05/24/2019</td>\n",
       "      <td>Closed with explanation</td>\n",
       "      <td>Yes</td>\n",
       "      <td>NaN</td>\n",
       "      <td>3252932</td>\n",
       "    </tr>\n",
       "    <tr>\n",
       "      <th>1</th>\n",
       "      <td>05/24/2019</td>\n",
       "      <td>Credit reporting, credit repair services, or o...</td>\n",
       "      <td>Credit reporting</td>\n",
       "      <td>Incorrect information on your report</td>\n",
       "      <td>Information belongs to someone else</td>\n",
       "      <td>NaN</td>\n",
       "      <td>NaN</td>\n",
       "      <td>AMERICAN EXPRESS COMPANY</td>\n",
       "      <td>NaN</td>\n",
       "      <td>NaN</td>\n",
       "      <td>NaN</td>\n",
       "      <td>NaN</td>\n",
       "      <td>Web</td>\n",
       "      <td>05/24/2019</td>\n",
       "      <td>Closed with non-monetary relief</td>\n",
       "      <td>Yes</td>\n",
       "      <td>NaN</td>\n",
       "      <td>3253201</td>\n",
       "    </tr>\n",
       "    <tr>\n",
       "      <th>2</th>\n",
       "      <td>05/24/2019</td>\n",
       "      <td>Debt collection</td>\n",
       "      <td>Other debt</td>\n",
       "      <td>Attempts to collect debt not owed</td>\n",
       "      <td>Debt is not yours</td>\n",
       "      <td>NaN</td>\n",
       "      <td>NaN</td>\n",
       "      <td>Diversified Consultants, Inc.</td>\n",
       "      <td>NC</td>\n",
       "      <td>28347</td>\n",
       "      <td>NaN</td>\n",
       "      <td>NaN</td>\n",
       "      <td>Web</td>\n",
       "      <td>05/24/2019</td>\n",
       "      <td>In progress</td>\n",
       "      <td>Yes</td>\n",
       "      <td>NaN</td>\n",
       "      <td>3252699</td>\n",
       "    </tr>\n",
       "    <tr>\n",
       "      <th>3</th>\n",
       "      <td>05/24/2019</td>\n",
       "      <td>Debt collection</td>\n",
       "      <td>Mortgage debt</td>\n",
       "      <td>Attempts to collect debt not owed</td>\n",
       "      <td>Debt was already discharged in bankruptcy and ...</td>\n",
       "      <td>NaN</td>\n",
       "      <td>NaN</td>\n",
       "      <td>Designed Receivable Solultions, Inc.</td>\n",
       "      <td>CA</td>\n",
       "      <td>92376</td>\n",
       "      <td>NaN</td>\n",
       "      <td>NaN</td>\n",
       "      <td>Web</td>\n",
       "      <td>05/24/2019</td>\n",
       "      <td>Closed with explanation</td>\n",
       "      <td>Yes</td>\n",
       "      <td>NaN</td>\n",
       "      <td>3252624</td>\n",
       "    </tr>\n",
       "    <tr>\n",
       "      <th>4</th>\n",
       "      <td>05/24/2019</td>\n",
       "      <td>Credit card or prepaid card</td>\n",
       "      <td>Store credit card</td>\n",
       "      <td>Closing your account</td>\n",
       "      <td>Can't close your account</td>\n",
       "      <td>NaN</td>\n",
       "      <td>NaN</td>\n",
       "      <td>TIDEWATER FINANCE COMPANY, INC.</td>\n",
       "      <td>PA</td>\n",
       "      <td>15207</td>\n",
       "      <td>NaN</td>\n",
       "      <td>NaN</td>\n",
       "      <td>Web</td>\n",
       "      <td>05/24/2019</td>\n",
       "      <td>In progress</td>\n",
       "      <td>Yes</td>\n",
       "      <td>NaN</td>\n",
       "      <td>3252406</td>\n",
       "    </tr>\n",
       "  </tbody>\n",
       "</table>\n",
       "</div>"
      ],
      "text/plain": [
       "  Date received                                            Product  \\\n",
       "0    05/24/2019                                    Debt collection   \n",
       "1    05/24/2019  Credit reporting, credit repair services, or o...   \n",
       "2    05/24/2019                                    Debt collection   \n",
       "3    05/24/2019                                    Debt collection   \n",
       "4    05/24/2019                        Credit card or prepaid card   \n",
       "\n",
       "         Sub-product                                 Issue  \\\n",
       "0       Medical debt     Attempts to collect debt not owed   \n",
       "1   Credit reporting  Incorrect information on your report   \n",
       "2         Other debt     Attempts to collect debt not owed   \n",
       "3      Mortgage debt     Attempts to collect debt not owed   \n",
       "4  Store credit card                  Closing your account   \n",
       "\n",
       "                                           Sub-issue  \\\n",
       "0                                      Debt was paid   \n",
       "1                Information belongs to someone else   \n",
       "2                                  Debt is not yours   \n",
       "3  Debt was already discharged in bankruptcy and ...   \n",
       "4                           Can't close your account   \n",
       "\n",
       "  Consumer complaint narrative Company public response  \\\n",
       "0                          NaN                     NaN   \n",
       "1                          NaN                     NaN   \n",
       "2                          NaN                     NaN   \n",
       "3                          NaN                     NaN   \n",
       "4                          NaN                     NaN   \n",
       "\n",
       "                                Company State ZIP code Tags  \\\n",
       "0     ONLINE Information Services, Inc.    TN    38128  NaN   \n",
       "1              AMERICAN EXPRESS COMPANY   NaN      NaN  NaN   \n",
       "2         Diversified Consultants, Inc.    NC    28347  NaN   \n",
       "3  Designed Receivable Solultions, Inc.    CA    92376  NaN   \n",
       "4       TIDEWATER FINANCE COMPANY, INC.    PA    15207  NaN   \n",
       "\n",
       "  Consumer consent provided? Submitted via Date sent to company  \\\n",
       "0                        NaN           Web           05/24/2019   \n",
       "1                        NaN           Web           05/24/2019   \n",
       "2                        NaN           Web           05/24/2019   \n",
       "3                        NaN           Web           05/24/2019   \n",
       "4                        NaN           Web           05/24/2019   \n",
       "\n",
       "      Company response to consumer Timely response? Consumer disputed?  \\\n",
       "0          Closed with explanation              Yes                NaN   \n",
       "1  Closed with non-monetary relief              Yes                NaN   \n",
       "2                      In progress              Yes                NaN   \n",
       "3          Closed with explanation              Yes                NaN   \n",
       "4                      In progress              Yes                NaN   \n",
       "\n",
       "   Complaint ID  \n",
       "0       3252932  \n",
       "1       3253201  \n",
       "2       3252699  \n",
       "3       3252624  \n",
       "4       3252406  "
      ]
     },
     "execution_count": 7,
     "metadata": {},
     "output_type": "execute_result"
    }
   ],
   "source": [
    "df = pd.read_csv('Data/Consumer_Complaints.csv', encoding='latin-1')\n",
    "df.head()"
   ]
  },
  {
   "cell_type": "code",
   "execution_count": 8,
   "metadata": {},
   "outputs": [
    {
     "data": {
      "text/html": [
       "<div>\n",
       "<style scoped>\n",
       "    .dataframe tbody tr th:only-of-type {\n",
       "        vertical-align: middle;\n",
       "    }\n",
       "\n",
       "    .dataframe tbody tr th {\n",
       "        vertical-align: top;\n",
       "    }\n",
       "\n",
       "    .dataframe thead th {\n",
       "        text-align: right;\n",
       "    }\n",
       "</style>\n",
       "<table border=\"1\" class=\"dataframe\">\n",
       "  <thead>\n",
       "    <tr style=\"text-align: right;\">\n",
       "      <th></th>\n",
       "      <th>Consumer complaint narrative</th>\n",
       "      <th>Product</th>\n",
       "    </tr>\n",
       "  </thead>\n",
       "  <tbody>\n",
       "    <tr>\n",
       "      <th>38665</th>\n",
       "      <td>I have reached out to All 3 credit bureaus and...</td>\n",
       "      <td>Credit reporting, credit repair services, or o...</td>\n",
       "    </tr>\n",
       "    <tr>\n",
       "      <th>39143</th>\n",
       "      <td>I am a victim of identity theft. My personal i...</td>\n",
       "      <td>Credit reporting, credit repair services, or o...</td>\n",
       "    </tr>\n",
       "    <tr>\n",
       "      <th>39177</th>\n",
       "      <td>I am a victim of identity theft. My personal i...</td>\n",
       "      <td>Credit reporting, credit repair services, or o...</td>\n",
       "    </tr>\n",
       "    <tr>\n",
       "      <th>39276</th>\n",
       "      <td>On all credit agencies the same accounts are n...</td>\n",
       "      <td>Credit reporting, credit repair services, or o...</td>\n",
       "    </tr>\n",
       "    <tr>\n",
       "      <th>39978</th>\n",
       "      <td>I have a student loan thats discharge and its ...</td>\n",
       "      <td>Credit reporting, credit repair services, or o...</td>\n",
       "    </tr>\n",
       "  </tbody>\n",
       "</table>\n",
       "</div>"
      ],
      "text/plain": [
       "                            Consumer complaint narrative  \\\n",
       "38665  I have reached out to All 3 credit bureaus and...   \n",
       "39143  I am a victim of identity theft. My personal i...   \n",
       "39177  I am a victim of identity theft. My personal i...   \n",
       "39276  On all credit agencies the same accounts are n...   \n",
       "39978  I have a student loan thats discharge and its ...   \n",
       "\n",
       "                                                 Product  \n",
       "38665  Credit reporting, credit repair services, or o...  \n",
       "39143  Credit reporting, credit repair services, or o...  \n",
       "39177  Credit reporting, credit repair services, or o...  \n",
       "39276  Credit reporting, credit repair services, or o...  \n",
       "39978  Credit reporting, credit repair services, or o...  "
      ]
     },
     "execution_count": 8,
     "metadata": {},
     "output_type": "execute_result"
    }
   ],
   "source": [
    "col = ['Consumer complaint narrative','Product']\n",
    "df = df[col]\n",
    "df = df[pd.notnull(df['Consumer complaint narrative'])]\n",
    "df.head()"
   ]
  },
  {
   "cell_type": "code",
   "execution_count": 9,
   "metadata": {},
   "outputs": [
    {
     "data": {
      "text/plain": [
       "Consumer complaint narrative    0\n",
       "Product                         0\n",
       "dtype: int64"
      ]
     },
     "execution_count": 9,
     "metadata": {},
     "output_type": "execute_result"
    }
   ],
   "source": [
    "df.isnull().sum()"
   ]
  },
  {
   "cell_type": "code",
   "execution_count": 7,
   "metadata": {},
   "outputs": [
    {
     "data": {
      "text/plain": [
       "Credit reporting, credit repair services, or other personal consumer reports    92633\n",
       "Debt collection                                                                 86841\n",
       "Mortgage                                                                        53050\n",
       "Credit reporting                                                                31588\n",
       "Student loan                                                                    21839\n",
       "Credit card or prepaid card                                                     21429\n",
       "Credit card                                                                     18838\n",
       "Bank account or service                                                         14885\n",
       "Checking or savings account                                                     12898\n",
       "Consumer Loan                                                                    9474\n",
       "Vehicle loan or lease                                                            5762\n",
       "Money transfer, virtual currency, or money service                               5485\n",
       "Payday loan, title loan, or personal loan                                        4433\n",
       "Payday loan                                                                      1747\n",
       "Money transfers                                                                  1497\n",
       "Prepaid card                                                                     1450\n",
       "Other financial service                                                           292\n",
       "Virtual currency                                                                   16\n",
       "Name: Product, dtype: int64"
      ]
     },
     "execution_count": 7,
     "metadata": {},
     "output_type": "execute_result"
    }
   ],
   "source": [
    "df['Product'].value_counts()"
   ]
  },
  {
   "cell_type": "code",
   "execution_count": 10,
   "metadata": {},
   "outputs": [
    {
     "name": "stdout",
     "output_type": "stream",
     "text": [
      "Train size: 307325\n",
      "Test size: 76832\n"
     ]
    }
   ],
   "source": [
    "# Split data into train and test\n",
    "train_size = int(len(df) * .8)\n",
    "print (\"Train size: %d\" % train_size)\n",
    "print (\"Test size: %d\" % (len(df) - train_size))"
   ]
  },
  {
   "cell_type": "code",
   "execution_count": 9,
   "metadata": {},
   "outputs": [],
   "source": [
    "train_narrative = df['Consumer complaint narrative'][:train_size]\n",
    "train_product = df['Product'][:train_size]\n",
    "\n",
    "test_narrative = df['Consumer complaint narrative'][train_size:]\n",
    "test_product = df['Product'][train_size:]"
   ]
  },
  {
   "cell_type": "code",
   "execution_count": 11,
   "metadata": {},
   "outputs": [],
   "source": [
    "max_words = 1000\n",
    "tokenize = text.Tokenizer(num_words=max_words, char_level=False)"
   ]
  },
  {
   "cell_type": "code",
   "execution_count": 13,
   "metadata": {},
   "outputs": [],
   "source": [
    "tokenize.fit_on_texts(train_narrative) # only fit on train\n",
    "x_train = tokenize.texts_to_matrix(train_narrative)\n",
    "x_test = tokenize.texts_to_matrix(test_narrative)"
   ]
  },
  {
   "cell_type": "code",
   "execution_count": 14,
   "metadata": {},
   "outputs": [],
   "source": [
    "# Use sklearn utility to convert label strings to numbered index\n",
    "encoder = LabelEncoder()\n",
    "encoder.fit(train_product)\n",
    "y_train = encoder.transform(train_product)\n",
    "y_test = encoder.transform(test_product)"
   ]
  },
  {
   "cell_type": "code",
   "execution_count": 15,
   "metadata": {},
   "outputs": [],
   "source": [
    "# Converts the labels to a one-hot representation\n",
    "num_classes = np.max(y_train) + 1\n",
    "y_train = utils.to_categorical(y_train, num_classes)\n",
    "y_test = utils.to_categorical(y_test, num_classes)"
   ]
  },
  {
   "cell_type": "code",
   "execution_count": 16,
   "metadata": {},
   "outputs": [
    {
     "name": "stdout",
     "output_type": "stream",
     "text": [
      "x_train shape: (307325, 1000)\n",
      "x_test shape: (76832, 1000)\n",
      "y_train shape: (307325, 18)\n",
      "y_test shape: (76832, 18)\n"
     ]
    }
   ],
   "source": [
    "# Inspect the dimensions of our training and test data (this is helpful to debug)\n",
    "print('x_train shape:', x_train.shape)\n",
    "print('x_test shape:', x_test.shape)\n",
    "print('y_train shape:', y_train.shape)\n",
    "print('y_test shape:', y_test.shape)"
   ]
  },
  {
   "cell_type": "code",
   "execution_count": 17,
   "metadata": {},
   "outputs": [],
   "source": [
    "batch_size = 32\n",
    "epochs = 5"
   ]
  },
  {
   "cell_type": "code",
   "execution_count": 18,
   "metadata": {},
   "outputs": [],
   "source": [
    "# Build the model\n",
    "model = Sequential()\n",
    "model.add(Dense(512, input_shape=(max_words,)))\n",
    "model.add(Activation('relu'))\n",
    "model.add(Dropout(0.5))\n",
    "model.add(Dense(num_classes))\n",
    "model.add(Activation('softmax'))\n",
    "\n",
    "model.compile(loss='categorical_crossentropy',\n",
    "             optimizer='adam',\n",
    "             metrics=['accuracy'])"
   ]
  },
  {
   "cell_type": "code",
   "execution_count": 19,
   "metadata": {
    "scrolled": true
   },
   "outputs": [
    {
     "name": "stdout",
     "output_type": "stream",
     "text": [
      "Train on 276592 samples, validate on 30733 samples\n",
      "Epoch 1/5\n",
      "276592/276592 [==============================] - 181s 653us/step - loss: 0.8295 - acc: 0.7307 - val_loss: 1.1557 - val_acc: 0.5399\n",
      "Epoch 2/5\n",
      "276592/276592 [==============================] - 221s 798us/step - loss: 0.7292 - acc: 0.7570 - val_loss: 1.2077 - val_acc: 0.5371s\n",
      "Epoch 3/5\n",
      "276592/276592 [==============================] - 282s 1ms/step - loss: 0.6825 - acc: 0.7717 - val_loss: 1.2219 - val_acc: 0.5288\n",
      "Epoch 4/5\n",
      "276592/276592 [==============================] - 289s 1ms/step - loss: 0.6462 - acc: 0.7835 - val_loss: 1.2386 - val_acc: 0.5461\n",
      "Epoch 5/5\n",
      "276592/276592 [==============================] - 273s 989us/step - loss: 0.6153 - acc: 0.7925 - val_loss: 1.2628 - val_acc: 0.5580\n"
     ]
    }
   ],
   "source": [
    "history = model.fit(x_train, y_train,\n",
    "                   batch_size=batch_size,\n",
    "                   epochs=epochs,\n",
    "                   verbose=1,\n",
    "                   validation_split=0.1)"
   ]
  },
  {
   "cell_type": "code",
   "execution_count": 20,
   "metadata": {},
   "outputs": [
    {
     "name": "stdout",
     "output_type": "stream",
     "text": [
      "76832/76832 [==============================] - 15s 201us/step\n",
      "Test score: 1.3846809557704616\n",
      "Test accuracy: 0.5345949604331528\n"
     ]
    }
   ],
   "source": [
    "# Evaluate the accuracy of our trained model\n",
    "score = model.evaluate(x_test, y_test,\n",
    "                      batch_size=batch_size, verbose=1)\n",
    "print('Test score:', score[0])\n",
    "print('Test accuracy:', score[1])"
   ]
  },
  {
   "cell_type": "code",
   "execution_count": 22,
   "metadata": {},
   "outputs": [
    {
     "name": "stdout",
     "output_type": "stream",
     "text": [
      "To Whom It May Concern, I just received verbal con ...\n",
      "Actual label:Credit card\n",
      "Predicted label: Credit reporting, credit repair services, or other personal consumer reports\n",
      "\n",
      "My complaint has to do with Bank of America 's pol ...\n",
      "Actual label:Bank account or service\n",
      "Predicted label: Checking or savings account\n",
      "\n",
      "This item has been disputed previously. The compla ...\n",
      "Actual label:Credit reporting\n",
      "Predicted label: Credit reporting, credit repair services, or other personal consumer reports\n",
      "\n",
      "Less than minimum payments were being made to a cl ...\n",
      "Actual label:Debt collection\n",
      "Predicted label: Debt collection\n",
      "\n",
      "M & T BANK purchased my mortgage loan for my home  ...\n",
      "Actual label:Bank account or service\n",
      "Predicted label: Mortgage\n",
      "\n",
      "I submitted a loan modification package to my lend ...\n",
      "Actual label:Mortgage\n",
      "Predicted label: Mortgage\n",
      "\n",
      "ShellPoint XXXX XXXX XXXX XXXX XXXX XXXX XXXX XXXX ...\n",
      "Actual label:Mortgage\n",
      "Predicted label: Mortgage\n",
      "\n",
      "I have been sued by Portfolio Recovery Associates. ...\n",
      "Actual label:Debt collection\n",
      "Predicted label: Debt collection\n",
      "\n",
      "They are calling anyone with my last name leaving  ...\n",
      "Actual label:Debt collection\n",
      "Predicted label: Debt collection\n",
      "\n",
      "This is a multifocal complaint. It will be submitt ...\n",
      "Actual label:Mortgage\n",
      "Predicted label: Mortgage\n",
      "\n"
     ]
    }
   ],
   "source": [
    "# Here's how to generate a prediction on individual examples\n",
    "text_labels = encoder.classes_ \n",
    "\n",
    "for i in range(10):\n",
    "    prediction = model.predict(np.array([x_test[i]]))\n",
    "    predicted_label = text_labels[np.argmax(prediction)]\n",
    "    print(test_narrative.iloc[i][:50], \"...\")\n",
    "    print('Actual label:' + test_product.iloc[i])\n",
    "    print(\"Predicted label: \" + predicted_label + \"\\n\")"
   ]
  },
  {
   "cell_type": "code",
   "execution_count": null,
   "metadata": {},
   "outputs": [],
   "source": []
  }
 ],
 "metadata": {
  "kernelspec": {
   "display_name": "python36",
   "language": "python",
   "name": "python36"
  },
  "language_info": {
   "codemirror_mode": {
    "name": "ipython",
    "version": 3
   },
   "file_extension": ".py",
   "mimetype": "text/x-python",
   "name": "python",
   "nbconvert_exporter": "python",
   "pygments_lexer": "ipython3",
   "version": "3.6.8"
  }
 },
 "nbformat": 4,
 "nbformat_minor": 2
}
