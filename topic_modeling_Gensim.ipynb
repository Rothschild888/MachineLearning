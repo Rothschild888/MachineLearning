{
 "cells": [
  {
   "cell_type": "code",
   "execution_count": 7,
   "metadata": {},
   "outputs": [],
   "source": [
    "import spacy\n",
    "spacy.load('en')\n",
    "from spacy.lang.en import English\n",
    "parser = English()\n",
    "\n",
    "def tokenize(text):\n",
    "    lda_tokens = []\n",
    "    tokens = parser(text)\n",
    "    for token in tokens:\n",
    "        if token.orth_.isspace():\n",
    "            continue\n",
    "        elif token.like_url:\n",
    "            lda_tokens.append('URL')\n",
    "        elif token.orth_.startswith('@'):\n",
    "            lda_tokens.append('SCREEN_NAME')\n",
    "        else:\n",
    "            lda_tokens.append(token.lower_)\n",
    "    return lda_tokens"
   ]
  },
  {
   "cell_type": "code",
   "execution_count": 8,
   "metadata": {},
   "outputs": [
    {
     "name": "stderr",
     "output_type": "stream",
     "text": [
      "[nltk_data] Downloading package wordnet to\n",
      "[nltk_data]     /Users/rothschild/nltk_data...\n",
      "[nltk_data]   Unzipping corpora/wordnet.zip.\n"
     ]
    },
    {
     "data": {
      "text/plain": [
       "True"
      ]
     },
     "execution_count": 8,
     "metadata": {},
     "output_type": "execute_result"
    }
   ],
   "source": [
    "import nltk\n",
    "nltk.download('wordnet')"
   ]
  },
  {
   "cell_type": "code",
   "execution_count": 3,
   "metadata": {},
   "outputs": [],
   "source": [
    "from nltk.corpus import wordnet as wn\n",
    "def get_lemma(word):\n",
    "    lemma = wn.morphy(word)\n",
    "    if lemma is None:\n",
    "        return word\n",
    "    else:\n",
    "        return lemma\n",
    "\n",
    "from nltk.stem.wordnet import WordNetLemmatizer\n",
    "def get_lemma2(word):\n",
    "    return WordNetLemmatizer().lemmatize(word)"
   ]
  },
  {
   "cell_type": "code",
   "execution_count": 4,
   "metadata": {},
   "outputs": [
    {
     "name": "stdout",
     "output_type": "stream",
     "text": [
      "dogs dog dog\n",
      "ran run ran\n",
      "discouraged discourage discouraged\n"
     ]
    }
   ],
   "source": [
    "for w in ['dogs','ran','discouraged']:\n",
    "    print(w, get_lemma(w), get_lemma2(w))"
   ]
  },
  {
   "cell_type": "code",
   "execution_count": 5,
   "metadata": {},
   "outputs": [
    {
     "name": "stderr",
     "output_type": "stream",
     "text": [
      "[nltk_data] Downloading package stopwords to\n",
      "[nltk_data]     C:\\Users\\Rothschild\\AppData\\Roaming\\nltk_data...\n",
      "[nltk_data]   Package stopwords is already up-to-date!\n"
     ]
    }
   ],
   "source": [
    "nltk.download('stopwords')\n",
    "en_stop = set(nltk.corpus.stopwords.words('english'))"
   ]
  },
  {
   "cell_type": "code",
   "execution_count": 6,
   "metadata": {},
   "outputs": [],
   "source": [
    "def prepare_text_for_lda(text):\n",
    "    tokens = tokenize(text)\n",
    "    tokens = [token for token in tokens if len(token) > 4]\n",
    "    tokens = [token for token in tokens if token not in en_stop]\n",
    "    tokens = [get_lemma(token) for token in tokens]\n",
    "    return tokens"
   ]
  },
  {
   "cell_type": "code",
   "execution_count": 14,
   "metadata": {},
   "outputs": [
    {
     "name": "stdout",
     "output_type": "stream",
     "text": [
      "['scalable', 'algorithm', 'maximize', 'range', 'spatial', 'database']\n",
      "['multiuser', 'detection', 'base', 'grover', 'algorithm']\n",
      "['efficient', 'implementation', 'relational']\n",
      "['scalable', 'secret', 'generation', 'exploit', 'channel', 'phase', 'randomness', 'wireless', 'network']\n",
      "['novel', 'feature', 'extraction', 'algorithm', 'classification', 'flight', 'call']\n",
      "['similarity']\n",
      "['analysis', 'design', 'lump', 'element', 'quadrature', 'coupler', 'lossy', 'passive', 'elements']\n",
      "['potential', 'structure', 'aggregation', 'sensor', 'network']\n",
      "['object', 'database', 'morphology']\n",
      "['network', 'correlate', 'gathering']\n",
      "['economic', 'effect', 'prefix', 'deaggregation']\n",
      "['performance', 'cavlc', 'encoder', 'design', 'mpeg-4', 'h.264', 'video', 'coding', 'application']\n",
      "['overview', 'management', 'platform', 'digital', 'advertising']\n",
      "['mapping', 'optimize', 'conjunction', 'base', 'scalable', 'transcoder']\n",
      "['universal', 'embed', 'compression', 'engine', 'system', 'expansion', 'progressive', 'wavelet', 'coding']\n",
      "['performance', 'analysis', 'correlation', 'base', 'optical', 'algorithm', 'noisy', 'environment']\n",
      "['important', 'issue', 'distribute', 'management', 'system']\n",
      "['baseball', 'exploration', 'system', 'using', 'spatial', 'pattern', 'recognition']\n",
      "['scalable', 'progressive', 'analytics', 'cloud']\n",
      "['location', 'discovery', 'using', 'drive', 'statistical', 'error', 'modeling']\n",
      "['bitos', 'enhance', 'bittorrent', 'supporting', 'streaming', 'application']\n",
      "['mining', 'indexing', 'search', 'textual', 'chemical', 'molecule', 'information']\n",
      "['interactive', 'exploratory', 'search', 'multi', 'search', 'result']\n"
     ]
    }
   ],
   "source": [
    "import random\n",
    "text_data = []\n",
    "with open('Data\\dataset.csv') as f:\n",
    "    for line in f:\n",
    "        tokens = prepare_text_for_lda(line)\n",
    "        if random.random() > .99:\n",
    "            print(tokens)\n",
    "            text_data.append(tokens)"
   ]
  },
  {
   "cell_type": "code",
   "execution_count": 15,
   "metadata": {},
   "outputs": [],
   "source": [
    "from gensim import corpora\n",
    "dictionary = corpora.Dictionary(text_data)"
   ]
  },
  {
   "cell_type": "code",
   "execution_count": 16,
   "metadata": {},
   "outputs": [],
   "source": [
    "corpus = [dictionary.doc2bow(text) for text in text_data]"
   ]
  },
  {
   "cell_type": "code",
   "execution_count": 17,
   "metadata": {},
   "outputs": [],
   "source": [
    "import pickle\n",
    "pickle.dump(corpus, open('corpus.pkl','wb'))\n",
    "dictionary.save('dictionary.gensim')"
   ]
  },
  {
   "cell_type": "markdown",
   "metadata": {},
   "source": [
    "## Try 5 topics"
   ]
  },
  {
   "cell_type": "code",
   "execution_count": 18,
   "metadata": {},
   "outputs": [],
   "source": [
    "import gensim\n",
    "NUM_TOPICS = 5\n",
    "ldamodel = gensim.models.ldamodel.LdaModel(corpus, num_topics = NUM_TOPICS, id2word=dictionary, passes=15)\n",
    "ldamodel.save('model5.gensim')"
   ]
  },
  {
   "cell_type": "code",
   "execution_count": 19,
   "metadata": {},
   "outputs": [
    {
     "name": "stdout",
     "output_type": "stream",
     "text": [
      "(0, '0.039*\"scalable\" + 0.039*\"network\" + 0.021*\"design\" + 0.021*\"coupler\"')\n",
      "(1, '0.062*\"algorithm\" + 0.042*\"base\" + 0.023*\"performance\" + 0.023*\"analysis\"')\n",
      "(2, '0.039*\"management\" + 0.039*\"digital\" + 0.039*\"overview\" + 0.039*\"advertising\"')\n",
      "(3, '0.039*\"search\" + 0.039*\"system\" + 0.039*\"coding\" + 0.039*\"progressive\"')\n",
      "(4, '0.026*\"database\" + 0.026*\"spatial\" + 0.026*\"scalable\" + 0.026*\"supporting\"')\n"
     ]
    }
   ],
   "source": [
    "topics = ldamodel.print_topics(num_words=4)\n",
    "for topic in topics:\n",
    "    print(topic)"
   ]
  },
  {
   "cell_type": "code",
   "execution_count": 20,
   "metadata": {},
   "outputs": [
    {
     "name": "stdout",
     "output_type": "stream",
     "text": [
      "[(0, 1)]\n",
      "[(0, 0.10000595), (1, 0.59888273), (2, 0.10001081), (3, 0.10000595), (4, 0.10109453)]\n"
     ]
    }
   ],
   "source": [
    "new_doc = 'Practical Bayesian Optimization of Machine Learning Algorithms'\n",
    "new_doc = prepare_text_for_lda(new_doc)\n",
    "new_doc_bow = dictionary.doc2bow(new_doc)\n",
    "print(new_doc_bow)\n",
    "print(ldamodel.get_document_topics(new_doc_bow))"
   ]
  },
  {
   "cell_type": "code",
   "execution_count": 21,
   "metadata": {},
   "outputs": [
    {
     "name": "stdout",
     "output_type": "stream",
     "text": [
      "(0, '0.030*\"system\" + 0.030*\"scalable\" + 0.030*\"spatial\" + 0.030*\"network\"')\n",
      "(1, '0.037*\"algorithm\" + 0.026*\"base\" + 0.026*\"design\" + 0.026*\"analysis\"')\n",
      "(2, '0.044*\"search\" + 0.031*\"scalable\" + 0.018*\"management\" + 0.018*\"network\"')\n"
     ]
    }
   ],
   "source": [
    "ldamodel = gensim.models.ldamodel.LdaModel(corpus, num_topics = 3, id2word=dictionary, passes=15)\n",
    "ldamodel.save('model3.gensim')\n",
    "topics = ldamodel.print_topics(num_words=4)\n",
    "for topic in topics:\n",
    "    print(topic)"
   ]
  },
  {
   "cell_type": "code",
   "execution_count": 22,
   "metadata": {},
   "outputs": [
    {
     "name": "stdout",
     "output_type": "stream",
     "text": [
      "(0, '0.054*\"using\" + 0.028*\"application\" + 0.028*\"video\" + 0.028*\"cavlc\"')\n",
      "(1, '0.058*\"molecule\" + 0.058*\"mining\" + 0.058*\"information\" + 0.058*\"chemical\"')\n",
      "(2, '0.034*\"progressive\" + 0.034*\"system\" + 0.034*\"coding\" + 0.034*\"compression\"')\n",
      "(3, '0.034*\"algorithm\" + 0.034*\"performance\" + 0.034*\"base\" + 0.034*\"optical\"')\n",
      "(4, '0.091*\"search\" + 0.048*\"multi\" + 0.048*\"result\" + 0.048*\"interactive\"')\n",
      "(5, '0.078*\"management\" + 0.041*\"database\" + 0.041*\"spatial\" + 0.041*\"algorithm\"')\n",
      "(6, '0.079*\"network\" + 0.079*\"correlate\" + 0.079*\"gathering\" + 0.007*\"transcoder\"')\n",
      "(7, '0.041*\"algorithm\" + 0.041*\"design\" + 0.041*\"analysis\" + 0.041*\"passive\"')\n",
      "(8, '0.055*\"scalable\" + 0.055*\"network\" + 0.055*\"secret\" + 0.055*\"channel\"')\n",
      "(9, '0.009*\"similarity\" + 0.009*\"scalable\" + 0.009*\"network\" + 0.009*\"database\"')\n"
     ]
    }
   ],
   "source": [
    "ldamodel = gensim.models.ldamodel.LdaModel(corpus, num_topics = 10, id2word=dictionary, passes=15)\n",
    "ldamodel.save('model10.gensim')\n",
    "topics = ldamodel.print_topics(num_words=4)\n",
    "for topic in topics:\n",
    "    print(topic)"
   ]
  },
  {
   "cell_type": "markdown",
   "metadata": {},
   "source": [
    "## pyLDAvis"
   ]
  },
  {
   "cell_type": "code",
   "execution_count": 23,
   "metadata": {},
   "outputs": [],
   "source": [
    "dictionary = gensim.corpora.Dictionary.load('dictionary.gensim')\n",
    "corpus = pickle.load(open('corpus.pkl', 'rb'))\n",
    "lda = gensim.models.ldamodel.LdaModel.load('model5.gensim')"
   ]
  },
  {
   "cell_type": "code",
   "execution_count": 24,
   "metadata": {},
   "outputs": [
    {
     "name": "stderr",
     "output_type": "stream",
     "text": [
      "D:\\Anaconda3\\envs\\python36\\lib\\site-packages\\pyLDAvis\\_prepare.py:257: FutureWarning: Sorting because non-concatenation axis is not aligned. A future version\n",
      "of pandas will change to not sort by default.\n",
      "\n",
      "To accept the future behavior, pass 'sort=False'.\n",
      "\n",
      "To retain the current behavior and silence the warning, pass 'sort=True'.\n",
      "\n",
      "  return pd.concat([default_term_info] + list(topic_dfs))\n"
     ]
    },
    {
     "data": {
      "text/html": [
       "\n",
       "<link rel=\"stylesheet\" type=\"text/css\" href=\"https://cdn.rawgit.com/bmabey/pyLDAvis/files/ldavis.v1.0.0.css\">\n",
       "\n",
       "\n",
       "<div id=\"ldavis_el1714821175455902404389825335\"></div>\n",
       "<script type=\"text/javascript\">\n",
       "\n",
       "var ldavis_el1714821175455902404389825335_data = {\"mdsDat\": {\"x\": [0.0058114913931054234, -0.12029574536515196, -0.004186643262021558, 0.11244841798405382, 0.006222479250014218], \"y\": [0.1340693138240637, -0.05207571711113711, 0.0010513786330133207, -0.061401975480111726, -0.02164299986582815], \"topics\": [1, 2, 3, 4, 5], \"cluster\": [1, 1, 1, 1, 1], \"Freq\": [25.402212142944336, 22.090023040771484, 8.349654197692871, 25.73624610900879, 18.421865463256836]}, \"tinfo\": {\"Category\": [\"Default\", \"Default\", \"Default\", \"Default\", \"Default\", \"Default\", \"Default\", \"Default\", \"Default\", \"Default\", \"Default\", \"Default\", \"Default\", \"Default\", \"Default\", \"Default\", \"Default\", \"Default\", \"Default\", \"Default\", \"Default\", \"Default\", \"Default\", \"Default\", \"Default\", \"Default\", \"Default\", \"Default\", \"Default\", \"Default\", \"Topic1\", \"Topic1\", \"Topic1\", \"Topic1\", \"Topic1\", \"Topic1\", \"Topic1\", \"Topic1\", \"Topic1\", \"Topic1\", \"Topic1\", \"Topic1\", \"Topic1\", \"Topic1\", \"Topic1\", \"Topic1\", \"Topic1\", \"Topic1\", \"Topic1\", \"Topic1\", \"Topic1\", \"Topic1\", \"Topic1\", \"Topic1\", \"Topic1\", \"Topic1\", \"Topic1\", \"Topic1\", \"Topic1\", \"Topic1\", \"Topic1\", \"Topic2\", \"Topic2\", \"Topic2\", \"Topic2\", \"Topic2\", \"Topic2\", \"Topic2\", \"Topic2\", \"Topic2\", \"Topic2\", \"Topic2\", \"Topic2\", \"Topic2\", \"Topic2\", \"Topic2\", \"Topic2\", \"Topic2\", \"Topic2\", \"Topic2\", \"Topic2\", \"Topic2\", \"Topic2\", \"Topic2\", \"Topic2\", \"Topic2\", \"Topic2\", \"Topic2\", \"Topic2\", \"Topic2\", \"Topic2\", \"Topic2\", \"Topic2\", \"Topic2\", \"Topic2\", \"Topic3\", \"Topic3\", \"Topic3\", \"Topic3\", \"Topic3\", \"Topic3\", \"Topic3\", \"Topic3\", \"Topic3\", \"Topic3\", \"Topic3\", \"Topic3\", \"Topic3\", \"Topic3\", \"Topic3\", \"Topic3\", \"Topic3\", \"Topic3\", \"Topic3\", \"Topic3\", \"Topic3\", \"Topic3\", \"Topic3\", \"Topic3\", \"Topic3\", \"Topic3\", \"Topic3\", \"Topic3\", \"Topic3\", \"Topic3\", \"Topic3\", \"Topic3\", \"Topic3\", \"Topic3\", \"Topic3\", \"Topic3\", \"Topic3\", \"Topic3\", \"Topic3\", \"Topic3\", \"Topic3\", \"Topic3\", \"Topic3\", \"Topic3\", \"Topic3\", \"Topic3\", \"Topic3\", \"Topic3\", \"Topic4\", \"Topic4\", \"Topic4\", \"Topic4\", \"Topic4\", \"Topic4\", \"Topic4\", \"Topic4\", \"Topic4\", \"Topic4\", \"Topic4\", \"Topic4\", \"Topic4\", \"Topic4\", \"Topic4\", \"Topic4\", \"Topic4\", \"Topic4\", \"Topic4\", \"Topic4\", \"Topic4\", \"Topic4\", \"Topic4\", \"Topic4\", \"Topic4\", \"Topic4\", \"Topic4\", \"Topic4\", \"Topic4\", \"Topic4\", \"Topic5\", \"Topic5\", \"Topic5\", \"Topic5\", \"Topic5\", \"Topic5\", \"Topic5\", \"Topic5\", \"Topic5\", \"Topic5\", \"Topic5\", \"Topic5\", \"Topic5\", \"Topic5\", \"Topic5\", \"Topic5\", \"Topic5\", \"Topic5\", \"Topic5\", \"Topic5\", \"Topic5\", \"Topic5\", \"Topic5\", \"Topic5\", \"Topic5\", \"Topic5\", \"Topic5\", \"Topic5\", \"Topic5\", \"Topic5\", \"Topic5\", \"Topic5\", \"Topic5\", \"Topic5\", \"Topic5\"], \"Freq\": [2.0, 1.0, 0.0, 0.0, 0.0, 0.0, 0.0, 0.0, 0.0, 0.0, 2.0, 2.0, 2.0, 1.0, 1.0, 1.0, 2.0, 1.0, 1.0, 1.0, 1.0, 1.0, 1.0, 1.0, 1.0, 1.0, 1.0, 1.0, 1.0, 1.0, 0.7165795564651489, 0.7165790796279907, 0.716579020023346, 0.7165789008140564, 0.7165788412094116, 0.7165789008140564, 0.7165788412094116, 0.7165787816047668, 0.7165788412094116, 0.7165787816047668, 0.7165787816047668, 0.7165784239768982, 0.7165782451629639, 0.7165780067443848, 0.7165749073028564, 0.7165742516517639, 0.7165742516517639, 0.7165740728378296, 0.7165732383728027, 0.7165729999542236, 0.7165706753730774, 0.716570258140564, 0.7165700793266296, 0.7165695428848267, 0.7165459394454956, 0.716545581817627, 0.7164162397384644, 1.3142327070236206, 1.3159922361373901, 0.7165600061416626, 0.7165806889533997, 1.822946548461914, 0.6830667853355408, 0.6830662488937378, 0.6830655336380005, 0.6830652356147766, 0.6830646395683289, 0.6830644011497498, 0.6830640435218811, 0.6830639243125916, 0.6830637454986572, 0.6830630898475647, 0.683057427406311, 0.6830573678016663, 0.6830552220344543, 0.6830386519432068, 0.6830378770828247, 0.682934582233429, 0.6828963756561279, 0.6828895211219788, 0.6828885078430176, 0.6828739047050476, 0.6828374266624451, 1.2532631158828735, 0.6823101043701172, 0.683090329170227, 0.6830923557281494, 0.6829209923744202, 0.11385340988636017, 0.11385229974985123, 0.11385204643011093, 0.11385199427604675, 0.11388174444437027, 0.11386384814977646, 0.11385835707187653, 0.43298760056495667, 0.4329875707626343, 0.4329875707626343, 0.4329874515533447, 0.432985782623291, 0.4329855740070343, 0.43298545479774475, 0.4329831004142761, 0.43334826827049255, 0.07217510044574738, 0.07217457890510559, 0.07217437773942947, 0.07217149436473846, 0.07217137515544891, 0.07217136025428772, 0.07217136025428772, 0.07217130810022354, 0.07217125594615936, 0.07217112183570862, 0.07217061519622803, 0.07217048108577728, 0.0721704438328743, 0.07217037677764893, 0.07217036932706833, 0.07217028737068176, 0.07217022031545639, 0.07217560708522797, 0.07217536121606827, 0.07217201590538025, 0.07217167317867279, 0.07244502007961273, 0.07243188470602036, 0.07240701466798782, 0.07238347083330154, 0.0723571702837944, 0.07235664129257202, 0.07239367812871933, 0.0723765417933464, 0.07234813272953033, 0.0722014531493187, 0.07218171656131744, 0.0721786692738533, 0.07217686623334885, 0.0721762403845787, 0.07217619568109512, 0.07217554748058319, 0.07217481732368469, 0.07217457890510559, 1.3309180736541748, 1.3308634757995605, 0.7261093854904175, 0.7261093854904175, 0.7261091470718384, 0.7261088490486145, 0.7261083722114563, 0.7261049747467041, 0.7261048555374146, 0.7261043787002563, 0.7261039614677429, 0.726102352142334, 0.7261020541191101, 0.7261013388633728, 0.7261013984680176, 0.7260891795158386, 0.7260889410972595, 0.7257952690124512, 0.7257949113845825, 0.725750207901001, 0.7257106900215149, 0.7256691455841064, 0.7256470322608948, 1.3317172527313232, 1.3318419456481934, 0.7261276841163635, 0.7259960770606995, 0.7260884046554565, 0.7260255217552185, 0.7261136174201965, 0.6302735805511475, 0.6302733421325684, 0.630273163318634, 0.6302727460861206, 0.6302729249000549, 0.6302729249000549, 0.6302727460861206, 0.6302701830863953, 0.6302698254585266, 0.6302696466445923, 0.6302695274353027, 0.630269467830658, 0.6302688121795654, 0.6302688717842102, 0.6302556395530701, 0.6302549242973328, 0.6302509903907776, 0.6297556757926941, 0.6309600472450256, 0.6303738951683044, 0.6302646994590759, 0.6298394799232483, 0.629522979259491, 0.6289812922477722, 0.6302807331085205, 0.10505439341068268, 0.10505365580320358, 0.10505352914333344, 0.1050531268119812, 0.10505282878875732, 0.10526543855667114, 0.10526172816753387, 0.10522786527872086, 0.10521486401557922, 0.10521341860294342], \"Term\": [\"algorithm\", \"management\", \"advertising\", \"digital\", \"overview\", \"platform\", \"prefix\", \"economic\", \"deaggregation\", \"effect\", \"base\", \"network\", \"system\", \"coding\", \"progressive\", \"database\", \"search\", \"supporting\", \"maximize\", \"range\", \"streaming\", \"enhance\", \"bittorrent\", \"bitos\", \"sensor\", \"potential\", \"distribute\", \"aggregation\", \"important\", \"issue\", \"coupler\", \"secret\", \"passive\", \"channel\", \"exploit\", \"phase\", \"elements\", \"element\", \"generation\", \"lossy\", \"lump\", \"quadrature\", \"randomness\", \"wireless\", \"indexing\", \"mining\", \"molecule\", \"chemical\", \"information\", \"textual\", \"conjunction\", \"transcoder\", \"mapping\", \"optimize\", \"correlate\", \"gathering\", \"similarity\", \"network\", \"scalable\", \"analysis\", \"design\", \"algorithm\", \"correlation\", \"optical\", \"noisy\", \"environment\", \"extraction\", \"classification\", \"call\", \"novel\", \"flight\", \"feature\", \"grover\", \"detection\", \"multiuser\", \"morphology\", \"object\", \"statistical\", \"drive\", \"discovery\", \"error\", \"modeling\", \"location\", \"base\", \"database\", \"analysis\", \"performance\", \"using\", \"effect\", \"deaggregation\", \"economic\", \"prefix\", \"similarity\", \"scalable\", \"efficient\", \"digital\", \"overview\", \"advertising\", \"platform\", \"prefix\", \"economic\", \"deaggregation\", \"effect\", \"management\", \"efficient\", \"implementation\", \"relational\", \"issue\", \"structure\", \"important\", \"distribute\", \"potential\", \"aggregation\", \"sensor\", \"streaming\", \"bitos\", \"enhance\", \"maximize\", \"bittorrent\", \"supporting\", \"range\", \"object\", \"morphology\", \"multiuser\", \"detection\", \"embed\", \"engine\", \"wavelet\", \"expansion\", \"universal\", \"compression\", \"system\", \"progressive\", \"coding\", \"similarity\", \"scalable\", \"database\", \"network\", \"gathering\", \"correlate\", \"base\", \"search\", \"algorithm\", \"coding\", \"progressive\", \"cavlc\", \"encoder\", \"h.264\", \"video\", \"mpeg-4\", \"exploration\", \"baseball\", \"recognition\", \"pattern\", \"exploratory\", \"result\", \"multi\", \"interactive\", \"cloud\", \"analytics\", \"compression\", \"universal\", \"expansion\", \"wavelet\", \"engine\", \"embed\", \"system\", \"search\", \"application\", \"spatial\", \"performance\", \"using\", \"design\", \"supporting\", \"range\", \"maximize\", \"streaming\", \"enhance\", \"bittorrent\", \"bitos\", \"sensor\", \"potential\", \"distribute\", \"aggregation\", \"important\", \"issue\", \"structure\", \"implementation\", \"relational\", \"efficient\", \"management\", \"database\", \"spatial\", \"application\", \"network\", \"system\", \"algorithm\", \"scalable\", \"effect\", \"economic\", \"deaggregation\", \"prefix\", \"advertising\", \"using\", \"location\", \"modeling\", \"error\", \"discovery\"], \"Total\": [2.0, 1.0, 0.0, 0.0, 0.0, 0.0, 0.0, 0.0, 0.0, 0.0, 2.0, 2.0, 2.0, 1.0, 1.0, 1.0, 2.0, 1.0, 1.0, 1.0, 1.0, 1.0, 1.0, 1.0, 1.0, 1.0, 1.0, 1.0, 1.0, 1.0, 1.128676176071167, 1.1286760568618774, 1.1286760568618774, 1.1286760568618774, 1.128675937652588, 1.1286760568618774, 1.128675937652588, 1.128675937652588, 1.1286760568618774, 1.1286760568618774, 1.1286760568618774, 1.128675937652588, 1.128675937652588, 1.128675937652588, 1.1286752223968506, 1.128675103187561, 1.128675103187561, 1.128675103187561, 1.128674864768982, 1.1286752223968506, 1.1286745071411133, 1.1286742687225342, 1.1286743879318237, 1.1286742687225342, 1.1286695003509521, 1.1286693811416626, 1.128644347190857, 2.2511398792266846, 2.8561482429504395, 1.697906494140625, 1.7337757349014282, 2.764575481414795, 1.1007497310638428, 1.1007496118545532, 1.1007496118545532, 1.1007496118545532, 1.1007493734359741, 1.1007493734359741, 1.1007494926452637, 1.1007493734359741, 1.1007494926452637, 1.1007492542266846, 1.1007483005523682, 1.1007483005523682, 1.1007481813430786, 1.1007455587387085, 1.1007455587387085, 1.1007393598556519, 1.100736379623413, 1.1007357835769653, 1.1007356643676758, 1.1007345914840698, 1.1007318496704102, 2.267096996307373, 1.625929355621338, 1.697906494140625, 1.705848217010498, 1.7058260440826416, 0.8923565149307251, 0.89235520362854, 0.8923550248146057, 0.8923550248146057, 1.128644347190857, 2.8561482429504395, 1.0567574501037598, 0.8923539519309998, 0.8923540115356445, 0.8923540115356445, 0.8923540115356445, 0.8923550248146057, 0.8923550248146057, 0.89235520362854, 0.8923565149307251, 1.4174318313598633, 1.0567574501037598, 1.0567572116851807, 1.0567574501037598, 1.0567580461502075, 1.056758165359497, 1.056758165359497, 1.056758165359497, 1.056758165359497, 1.056758165359497, 1.056758165359497, 1.0567582845687866, 1.0567584037780762, 1.0567584037780762, 1.0567584037780762, 1.0567584037780762, 1.0567584037780762, 1.0567585229873657, 1.1007455587387085, 1.1007455587387085, 1.1007481813430786, 1.1007483005523682, 1.1364314556121826, 1.136440396308899, 1.1364572048187256, 1.1364731788635254, 1.136491060256958, 1.136491298675537, 2.266932725906372, 1.7415863275527954, 1.74160635471344, 1.128644347190857, 2.8561482429504395, 1.625929355621338, 2.2511398792266846, 1.1286693811416626, 1.1286695003509521, 2.267096996307373, 2.33889102935791, 2.764575481414795, 1.74160635471344, 1.7415863275527954, 1.1366180181503296, 1.1366180181503296, 1.1366180181503296, 1.13661789894104, 1.13661789894104, 1.1366170644760132, 1.1366171836853027, 1.1366169452667236, 1.1366169452667236, 1.1366164684295654, 1.1366164684295654, 1.1366162300109863, 1.1366164684295654, 1.1366138458251953, 1.1366139650344849, 1.136491298675537, 1.136491060256958, 1.1364731788635254, 1.1364572048187256, 1.136440396308899, 1.1364314556121826, 2.266932725906372, 2.33889102935791, 1.6618602275848389, 1.6618425846099854, 1.705848217010498, 1.7058260440826416, 1.7337757349014282, 1.0567584037780762, 1.0567585229873657, 1.0567584037780762, 1.0567582845687866, 1.0567584037780762, 1.0567584037780762, 1.0567584037780762, 1.056758165359497, 1.056758165359497, 1.056758165359497, 1.056758165359497, 1.056758165359497, 1.0567580461502075, 1.056758165359497, 1.0567572116851807, 1.0567574501037598, 1.0567574501037598, 1.4174318313598633, 1.625929355621338, 1.6618425846099854, 1.6618602275848389, 2.2511398792266846, 2.266932725906372, 2.764575481414795, 2.8561482429504395, 0.8923565149307251, 0.8923550248146057, 0.89235520362854, 0.8923550248146057, 0.8923540115356445, 1.7058260440826416, 1.1007318496704102, 1.1007345914840698, 1.1007356643676758, 1.1007357835769653], \"loglift\": [30.0, 29.0, 28.0, 27.0, 26.0, 25.0, 24.0, 23.0, 22.0, 21.0, 20.0, 19.0, 18.0, 17.0, 16.0, 15.0, 14.0, 13.0, 12.0, 11.0, 10.0, 9.0, 8.0, 7.0, 6.0, 5.0, 4.0, 3.0, 2.0, 1.0, 0.9160000085830688, 0.9160000085830688, 0.9160000085830688, 0.9160000085830688, 0.9160000085830688, 0.9160000085830688, 0.9160000085830688, 0.9160000085830688, 0.9160000085830688, 0.9160000085830688, 0.9160000085830688, 0.9160000085830688, 0.9160000085830688, 0.9160000085830688, 0.9160000085830688, 0.9160000085830688, 0.9160000085830688, 0.9160000085830688, 0.9160000085830688, 0.9160000085830688, 0.9160000085830688, 0.9160000085830688, 0.9160000085830688, 0.9160000085830688, 0.9160000085830688, 0.9160000085830688, 0.9157999753952026, 0.8321999907493591, 0.5954999923706055, 0.5076000094413757, 0.4867999851703644, 1.0936000347137451, 1.0328999757766724, 1.0328999757766724, 1.0328999757766724, 1.0328999757766724, 1.0328999757766724, 1.0328999757766724, 1.0328999757766724, 1.0328999757766724, 1.0328999757766724, 1.0328999757766724, 1.0328999757766724, 1.0328999757766724, 1.0328999757766724, 1.0328999757766724, 1.0328999757766724, 1.0326999425888062, 1.0326999425888062, 1.0326000452041626, 1.0326000452041626, 1.0326000452041626, 1.0326000452041626, 0.9172999858856201, 0.641700029373169, 0.5995000004768372, 0.5949000120162964, 0.5946000218391418, -0.5489000082015991, -0.5489000082015991, -0.5489000082015991, -0.5489000082015991, -0.7835999727249146, -1.7122000455856323, -0.7179999947547913, 1.7597999572753906, 1.7597999572753906, 1.7597999572753906, 1.7597999572753906, 1.7597999572753906, 1.7597999572753906, 1.7597999572753906, 1.7597999572753906, 1.2978999614715576, -0.20090000331401825, -0.20090000331401825, -0.20090000331401825, -0.20100000500679016, -0.20100000500679016, -0.20100000500679016, -0.20100000500679016, -0.20100000500679016, -0.20100000500679016, -0.20100000500679016, -0.20100000500679016, -0.20100000500679016, -0.20100000500679016, -0.20100000500679016, -0.20100000500679016, -0.20100000500679016, -0.20100000500679016, -0.24169999361038208, -0.24169999361038208, -0.24169999361038208, -0.24169999361038208, -0.26989999413490295, -0.2700999975204468, -0.2703999876976013, -0.27079999446868896, -0.2711000144481659, -0.2711000144481659, -0.9610999822616577, -0.697700023651123, -0.6980999708175659, -0.266400009393692, -1.195099949836731, -0.6316999793052673, -0.957099974155426, -0.26669999957084656, -0.26669999957084656, -0.9642000198364258, -0.9954000115394592, -1.162600040435791, 1.0882999897003174, 1.0882999897003174, 0.9092000126838684, 0.9092000126838684, 0.9092000126838684, 0.9092000126838684, 0.9092000126838684, 0.9092000126838684, 0.9092000126838684, 0.9092000126838684, 0.9092000126838684, 0.9090999960899353, 0.9090999960899353, 0.9090999960899353, 0.9090999960899353, 0.9090999960899353, 0.9090999960899353, 0.9088000059127808, 0.9088000059127808, 0.9088000059127808, 0.9088000059127808, 0.9086999893188477, 0.9086999893188477, 0.8252999782562256, 0.7942000031471252, 0.5292999744415283, 0.5291000008583069, 0.5030999779701233, 0.5030999779701233, 0.4869000017642975, 1.1748000383377075, 1.1748000383377075, 1.1748000383377075, 1.1748000383377075, 1.1748000383377075, 1.1748000383377075, 1.1748000383377075, 1.1748000383377075, 1.1748000383377075, 1.1748000383377075, 1.1748000383377075, 1.1748000383377075, 1.1748000383377075, 1.1748000383377075, 1.1748000383377075, 1.1748000383377075, 1.1748000383377075, 0.8804000020027161, 0.7450000047683716, 0.7222999930381775, 0.722100019454956, 0.4178999960422516, 0.41040000319480896, 0.2110999971628189, 0.18060000240802765, -0.44780001044273376, -0.44780001044273376, -0.44780001044273376, -0.44780001044273376, -0.44780001044273376, -1.0937000513076782, -0.6556000113487244, -0.656000018119812, -0.6560999751091003, -0.6560999751091003], \"logprob\": [30.0, 29.0, 28.0, 27.0, 26.0, 25.0, 24.0, 23.0, 22.0, 21.0, 20.0, 19.0, 18.0, 17.0, 16.0, 15.0, 14.0, 13.0, 12.0, 11.0, 10.0, 9.0, 8.0, 7.0, 6.0, 5.0, 4.0, 3.0, 2.0, 1.0, -3.86080002784729, -3.86080002784729, -3.86080002784729, -3.86080002784729, -3.86080002784729, -3.86080002784729, -3.86080002784729, -3.86080002784729, -3.86080002784729, -3.86080002784729, -3.86080002784729, -3.86080002784729, -3.86080002784729, -3.86080002784729, -3.86080002784729, -3.86080002784729, -3.86080002784729, -3.86080002784729, -3.86080002784729, -3.86080002784729, -3.86080002784729, -3.86080002784729, -3.86080002784729, -3.86080002784729, -3.86080002784729, -3.86080002784729, -3.8610000610351562, -3.254300117492676, -3.2528998851776123, -3.86080002784729, -3.86080002784729, -2.7873001098632812, -3.7690000534057617, -3.7690000534057617, -3.7690000534057617, -3.7690000534057617, -3.7690000534057617, -3.7690000534057617, -3.7690000534057617, -3.7690000534057617, -3.7690000534057617, -3.7690000534057617, -3.7690000534057617, -3.7690000534057617, -3.7690000534057617, -3.7690000534057617, -3.7690000534057617, -3.769200086593628, -3.769200086593628, -3.769200086593628, -3.769200086593628, -3.769200086593628, -3.7692999839782715, -3.1619999408721924, -3.7701001167297363, -3.768899917602539, -3.768899917602539, -3.769200086593628, -5.5605998039245605, -5.5605998039245605, -5.560699939727783, -5.560699939727783, -5.560400009155273, -5.560500144958496, -5.5605998039245605, -3.2518999576568604, -3.2518999576568604, -3.2518999576568604, -3.2518999576568604, -3.2518999576568604, -3.2518999576568604, -3.2518999576568604, -3.2518999576568604, -3.2511000633239746, -5.043600082397461, -5.043600082397461, -5.043600082397461, -5.043600082397461, -5.043600082397461, -5.043600082397461, -5.043600082397461, -5.043600082397461, -5.043600082397461, -5.043600082397461, -5.043600082397461, -5.043600082397461, -5.043600082397461, -5.043600082397461, -5.043600082397461, -5.043600082397461, -5.043600082397461, -5.043499946594238, -5.043499946594238, -5.043600082397461, -5.043600082397461, -5.03980016708374, -5.039999961853027, -5.040299892425537, -5.0406999588012695, -5.040999889373779, -5.040999889373779, -5.040500164031982, -5.040800094604492, -5.041200160980225, -5.0432000160217285, -5.043499946594238, -5.043499946594238, -5.043499946594238, -5.043499946594238, -5.043499946594238, -5.043499946594238, -5.043600082397461, -5.043600082397461, -3.254699945449829, -3.254699945449829, -3.860599994659424, -3.860599994659424, -3.860599994659424, -3.860599994659424, -3.860599994659424, -3.860599994659424, -3.860599994659424, -3.860599994659424, -3.860599994659424, -3.860599994659424, -3.860599994659424, -3.860599994659424, -3.860599994659424, -3.8606998920440674, -3.8606998920440674, -3.8610999584198, -3.8610999584198, -3.8610999584198, -3.8612000942230225, -3.8612000942230225, -3.861299991607666, -3.2541000843048096, -3.253999948501587, -3.860599994659424, -3.86080002784729, -3.8606998920440674, -3.8606998920440674, -3.860599994659424, -3.667799949645996, -3.667799949645996, -3.667799949645996, -3.667799949645996, -3.667799949645996, -3.667799949645996, -3.667799949645996, -3.667799949645996, -3.667799949645996, -3.667799949645996, -3.667799949645996, -3.667799949645996, -3.667799949645996, -3.667799949645996, -3.667799949645996, -3.667799949645996, -3.667799949645996, -3.668600082397461, -3.6666998863220215, -3.6677000522613525, -3.667799949645996, -3.6684999465942383, -3.6689999103546143, -3.6698999404907227, -3.667799949645996, -5.459499835968018, -5.459499835968018, -5.459499835968018, -5.459499835968018, -5.459499835968018, -5.457499980926514, -5.457499980926514, -5.457799911499023, -5.458000183105469, -5.458000183105469]}, \"token.table\": {\"Topic\": [5, 2, 5, 1, 2, 4, 4, 5, 1, 2, 4, 5, 5, 2, 4, 1, 1, 2, 4, 4, 4, 1, 1, 2, 1, 2, 5, 1, 4, 2, 2, 5, 2, 5, 1, 1, 4, 4, 4, 5, 2, 2, 4, 1, 4, 4, 2, 2, 2, 1, 1, 2, 4, 5, 5, 1, 1, 4, 5, 2, 1, 1, 5, 1, 5, 1, 2, 1, 2, 4, 4, 2, 1, 5, 2, 2, 2, 2, 1, 1, 4, 2, 4, 1, 5, 4, 1, 1, 5, 4, 5, 4, 1, 4, 5, 1, 4, 1, 5, 1, 4, 5, 2, 5, 5, 5, 4, 5, 1, 1, 4, 2, 4, 4, 4, 1], \"Freq\": [0.9462903141975403, 0.7234383821487427, 0.36171919107437134, 0.588960587978363, 0.588960587978363, 0.8798061609268188, 0.6017352938652039, 0.6017352938652039, 0.44109272956848145, 0.44109272956848145, 0.8798037171363831, 0.9462900757789612, 0.9462900757789612, 0.908471941947937, 0.8798030614852905, 0.8859938383102417, 0.885994553565979, 0.9084720015525818, 0.8798062801361084, 0.5741825699806213, 0.8799011707305908, 0.8859950304031372, 0.8859989643096924, 0.9084717035293579, 0.8859937191009521, 0.6150328516960144, 0.6150328516960144, 0.576775848865509, 0.576775848865509, 0.9084728956222534, 0.9084832072257996, 0.9462903141975403, 0.9084827303886414, 0.946290910243988, 0.8859938979148865, 0.8859938979148865, 0.8799474835395813, 0.8798030614852905, 0.8799405694007874, 0.9462900757789612, 0.9084718227386475, 0.9084833264350891, 0.879915177822113, 0.8859938979148865, 0.8798037767410278, 0.879804253578186, 0.9084720015525818, 0.9084721207618713, 0.908471941947937, 0.8859990239143372, 0.8859938383102417, 0.9084728956222534, 0.8798030614852905, 0.9462911486625671, 0.9462903141975403, 0.8859944939613342, 0.8859947323799133, 0.879804253578186, 0.9462904334068298, 0.9084864854812622, 0.8859938383102417, 0.8859938383102417, 0.7055013179779053, 0.8859951496124268, 0.9462900757789612, 0.885994553565979, 0.9084842205047607, 0.885994553565979, 0.9084751605987549, 0.8798031210899353, 0.8798044323921204, 0.908473014831543, 0.4442194104194641, 0.4442194104194641, 0.9084718227386475, 0.9084720015525818, 0.9084751605987549, 0.9084718227386475, 0.8859952092170715, 0.8859938383102417, 0.8798038959503174, 0.5862186551094055, 0.5862186551094055, 0.8859938383102417, 0.9462903141975403, 0.5741891860961914, 0.8859938979148865, 0.8859938979148865, 0.9462899565696716, 0.8798038959503174, 0.946290910243988, 0.879804253578186, 0.3501218855381012, 0.3501218855381012, 0.3501218855381012, 0.42755305767059326, 0.42755305767059326, 0.8859938383102417, 0.9462903141975403, 0.886018693447113, 0.6017417311668396, 0.6017417311668396, 0.9084802865982056, 0.9462901949882507, 0.9462903141975403, 0.9462900757789612, 0.44112467765808105, 0.44112467765808105, 0.8859944939613342, 0.8859952092170715, 0.8799013495445251, 0.586226224899292, 0.586226224899292, 0.8798031210899353, 0.8799275755882263, 0.8859938979148865], \"Term\": [\"aggregation\", \"algorithm\", \"algorithm\", \"analysis\", \"analysis\", \"analytics\", \"application\", \"application\", \"base\", \"base\", \"baseball\", \"bitos\", \"bittorrent\", \"call\", \"cavlc\", \"channel\", \"chemical\", \"classification\", \"cloud\", \"coding\", \"compression\", \"conjunction\", \"correlate\", \"correlation\", \"coupler\", \"database\", \"database\", \"design\", \"design\", \"detection\", \"discovery\", \"distribute\", \"drive\", \"efficient\", \"element\", \"elements\", \"embed\", \"encoder\", \"engine\", \"enhance\", \"environment\", \"error\", \"expansion\", \"exploit\", \"exploration\", \"exploratory\", \"extraction\", \"feature\", \"flight\", \"gathering\", \"generation\", \"grover\", \"h.264\", \"implementation\", \"important\", \"indexing\", \"information\", \"interactive\", \"issue\", \"location\", \"lossy\", \"lump\", \"management\", \"mapping\", \"maximize\", \"mining\", \"modeling\", \"molecule\", \"morphology\", \"mpeg-4\", \"multi\", \"multiuser\", \"network\", \"network\", \"noisy\", \"novel\", \"object\", \"optical\", \"optimize\", \"passive\", \"pattern\", \"performance\", \"performance\", \"phase\", \"potential\", \"progressive\", \"quadrature\", \"randomness\", \"range\", \"recognition\", \"relational\", \"result\", \"scalable\", \"scalable\", \"scalable\", \"search\", \"search\", \"secret\", \"sensor\", \"similarity\", \"spatial\", \"spatial\", \"statistical\", \"streaming\", \"structure\", \"supporting\", \"system\", \"system\", \"textual\", \"transcoder\", \"universal\", \"using\", \"using\", \"video\", \"wavelet\", \"wireless\"]}, \"R\": 30, \"lambda.step\": 0.01, \"plot.opts\": {\"xlab\": \"PC1\", \"ylab\": \"PC2\"}, \"topic.order\": [1, 2, 3, 4, 5]};\n",
       "\n",
       "function LDAvis_load_lib(url, callback){\n",
       "  var s = document.createElement('script');\n",
       "  s.src = url;\n",
       "  s.async = true;\n",
       "  s.onreadystatechange = s.onload = callback;\n",
       "  s.onerror = function(){console.warn(\"failed to load library \" + url);};\n",
       "  document.getElementsByTagName(\"head\")[0].appendChild(s);\n",
       "}\n",
       "\n",
       "if(typeof(LDAvis) !== \"undefined\"){\n",
       "   // already loaded: just create the visualization\n",
       "   !function(LDAvis){\n",
       "       new LDAvis(\"#\" + \"ldavis_el1714821175455902404389825335\", ldavis_el1714821175455902404389825335_data);\n",
       "   }(LDAvis);\n",
       "}else if(typeof define === \"function\" && define.amd){\n",
       "   // require.js is available: use it to load d3/LDAvis\n",
       "   require.config({paths: {d3: \"https://cdnjs.cloudflare.com/ajax/libs/d3/3.5.5/d3.min\"}});\n",
       "   require([\"d3\"], function(d3){\n",
       "      window.d3 = d3;\n",
       "      LDAvis_load_lib(\"https://cdn.rawgit.com/bmabey/pyLDAvis/files/ldavis.v1.0.0.js\", function(){\n",
       "        new LDAvis(\"#\" + \"ldavis_el1714821175455902404389825335\", ldavis_el1714821175455902404389825335_data);\n",
       "      });\n",
       "    });\n",
       "}else{\n",
       "    // require.js not available: dynamically load d3 & LDAvis\n",
       "    LDAvis_load_lib(\"https://cdnjs.cloudflare.com/ajax/libs/d3/3.5.5/d3.min.js\", function(){\n",
       "         LDAvis_load_lib(\"https://cdn.rawgit.com/bmabey/pyLDAvis/files/ldavis.v1.0.0.js\", function(){\n",
       "                 new LDAvis(\"#\" + \"ldavis_el1714821175455902404389825335\", ldavis_el1714821175455902404389825335_data);\n",
       "            })\n",
       "         });\n",
       "}\n",
       "</script>"
      ],
      "text/plain": [
       "<IPython.core.display.HTML object>"
      ]
     },
     "execution_count": 24,
     "metadata": {},
     "output_type": "execute_result"
    }
   ],
   "source": [
    "import pyLDAvis.gensim\n",
    "lda_display = pyLDAvis.gensim.prepare(lda, corpus, dictionary, sort_topics=False)\n",
    "pyLDAvis.display(lda_display)"
   ]
  },
  {
   "cell_type": "code",
   "execution_count": 25,
   "metadata": {},
   "outputs": [
    {
     "name": "stderr",
     "output_type": "stream",
     "text": [
      "D:\\Anaconda3\\envs\\python36\\lib\\site-packages\\pyLDAvis\\_prepare.py:257: FutureWarning: Sorting because non-concatenation axis is not aligned. A future version\n",
      "of pandas will change to not sort by default.\n",
      "\n",
      "To accept the future behavior, pass 'sort=False'.\n",
      "\n",
      "To retain the current behavior and silence the warning, pass 'sort=True'.\n",
      "\n",
      "  return pd.concat([default_term_info] + list(topic_dfs))\n"
     ]
    },
    {
     "data": {
      "text/html": [
       "\n",
       "<link rel=\"stylesheet\" type=\"text/css\" href=\"https://cdn.rawgit.com/bmabey/pyLDAvis/files/ldavis.v1.0.0.css\">\n",
       "\n",
       "\n",
       "<div id=\"ldavis_el1714821175462050003053649050\"></div>\n",
       "<script type=\"text/javascript\">\n",
       "\n",
       "var ldavis_el1714821175462050003053649050_data = {\"mdsDat\": {\"x\": [0.02947713668167485, -0.10425387762252844, 0.07477674094085364], \"y\": [-0.0788165140140575, 0.019942716629003935, 0.05887379738505351], \"topics\": [1, 2, 3], \"cluster\": [1, 1, 1], \"Freq\": [31.678804397583008, 38.6827392578125, 29.638450622558594]}, \"tinfo\": {\"Category\": [\"Default\", \"Default\", \"Default\", \"Default\", \"Default\", \"Default\", \"Default\", \"Default\", \"Default\", \"Default\", \"Default\", \"Default\", \"Default\", \"Default\", \"Default\", \"Default\", \"Default\", \"Default\", \"Default\", \"Default\", \"Default\", \"Default\", \"Default\", \"Default\", \"Default\", \"Default\", \"Default\", \"Default\", \"Default\", \"Default\", \"Topic1\", \"Topic1\", \"Topic1\", \"Topic1\", \"Topic1\", \"Topic1\", \"Topic1\", \"Topic1\", \"Topic1\", \"Topic1\", \"Topic1\", \"Topic1\", \"Topic1\", \"Topic1\", \"Topic1\", \"Topic1\", \"Topic1\", \"Topic1\", \"Topic1\", \"Topic1\", \"Topic1\", \"Topic1\", \"Topic1\", \"Topic1\", \"Topic1\", \"Topic1\", \"Topic1\", \"Topic1\", \"Topic1\", \"Topic1\", \"Topic1\", \"Topic1\", \"Topic1\", \"Topic1\", \"Topic1\", \"Topic2\", \"Topic2\", \"Topic2\", \"Topic2\", \"Topic2\", \"Topic2\", \"Topic2\", \"Topic2\", \"Topic2\", \"Topic2\", \"Topic2\", \"Topic2\", \"Topic2\", \"Topic2\", \"Topic2\", \"Topic2\", \"Topic2\", \"Topic2\", \"Topic2\", \"Topic2\", \"Topic2\", \"Topic2\", \"Topic2\", \"Topic2\", \"Topic2\", \"Topic2\", \"Topic2\", \"Topic2\", \"Topic2\", \"Topic2\", \"Topic2\", \"Topic2\", \"Topic3\", \"Topic3\", \"Topic3\", \"Topic3\", \"Topic3\", \"Topic3\", \"Topic3\", \"Topic3\", \"Topic3\", \"Topic3\", \"Topic3\", \"Topic3\", \"Topic3\", \"Topic3\", \"Topic3\", \"Topic3\", \"Topic3\", \"Topic3\", \"Topic3\", \"Topic3\", \"Topic3\", \"Topic3\", \"Topic3\", \"Topic3\", \"Topic3\", \"Topic3\", \"Topic3\", \"Topic3\", \"Topic3\", \"Topic3\", \"Topic3\", \"Topic3\", \"Topic3\", \"Topic3\"], \"Freq\": [2.0, 2.0, 1.0, 2.0, 2.0, 2.0, 1.0, 1.0, 1.0, 1.0, 1.0, 1.0, 1.0, 1.0, 1.0, 1.0, 1.0, 1.0, 1.0, 1.0, 1.0, 1.0, 1.0, 1.0, 1.0, 1.0, 1.0, 1.0, 1.0, 1.0, 1.2582396268844604, 0.7189542651176453, 0.7189528346061707, 0.7189515233039856, 0.7189512252807617, 0.7189489006996155, 0.7189435958862305, 0.7188711166381836, 0.7188655734062195, 0.718863844871521, 0.7188605070114136, 0.7188199162483215, 0.7188128232955933, 0.7188113331794739, 0.7188100814819336, 0.718804121017456, 0.7187801003456116, 0.7187747955322266, 0.7187648415565491, 0.7187621593475342, 0.7187314629554749, 0.7187308073043823, 0.7187306880950928, 0.7187286019325256, 0.7187284827232361, 0.7187203168869019, 0.7183355093002319, 0.7183312177658081, 1.2684909105300903, 1.2577515840530396, 1.260074257850647, 0.7260041832923889, 0.7240644097328186, 0.7201185822486877, 0.719033420085907, 1.3485738039016724, 1.3485608100891113, 1.3485511541366577, 1.9406278133392334, 0.7704630494117737, 0.770462691783905, 0.770462691783905, 0.7704607248306274, 0.7704604268074036, 0.770459771156311, 0.7704585194587708, 0.7704420685768127, 0.7704405784606934, 0.7704386711120605, 0.7704384922981262, 0.770438015460968, 0.7704152464866638, 0.7704140543937683, 0.7704094648361206, 0.7704058289527893, 0.7703348398208618, 0.7703295350074768, 0.7703275084495544, 0.7703226804733276, 0.7703189253807068, 0.7703151106834412, 0.7701320052146912, 0.770123302936554, 0.770119309425354, 0.7701117396354675, 1.353363275527954, 0.7710300087928772, 1.749693512916565, 0.6997498273849487, 0.6997483372688293, 0.6997482776641846, 0.6997470259666443, 0.6997446417808533, 0.6997427344322205, 0.6997342705726624, 0.6996988654136658, 0.6996970176696777, 0.6996958255767822, 0.6996923089027405, 0.6996897459030151, 0.6996886134147644, 0.6996455192565918, 0.6996389031410217, 0.699638843536377, 0.6996321678161621, 0.6994194984436035, 0.6994017362594604, 0.6993991136550903, 0.6993982195854187, 0.6993417739868164, 0.6993309855461121, 0.6993159651756287, 0.6993077993392944, 0.6992246508598328, 0.6992067694664001, 0.6992027163505554, 0.6973077058792114, 1.2232697010040283, 0.7015113234519958, 0.7005137205123901, 0.6999207139015198], \"Term\": [\"search\", \"scalable\", \"spatial\", \"system\", \"network\", \"algorithm\", \"design\", \"analysis\", \"performance\", \"randomness\", \"generation\", \"secret\", \"wireless\", \"channel\", \"phase\", \"exploit\", \"textual\", \"chemical\", \"information\", \"molecule\", \"indexing\", \"mining\", \"interactive\", \"multi\", \"exploratory\", \"result\", \"error\", \"discovery\", \"drive\", \"modeling\", \"spatial\", \"engine\", \"expansion\", \"wavelet\", \"embed\", \"universal\", \"compression\", \"exploration\", \"recognition\", \"baseball\", \"pattern\", \"enhance\", \"bitos\", \"bittorrent\", \"streaming\", \"supporting\", \"mapping\", \"optimize\", \"transcoder\", \"conjunction\", \"sensor\", \"structure\", \"aggregation\", \"potential\", \"maximize\", \"range\", \"gathering\", \"correlate\", \"system\", \"network\", \"scalable\", \"database\", \"progressive\", \"coding\", \"using\", \"design\", \"analysis\", \"performance\", \"algorithm\", \"passive\", \"lump\", \"coupler\", \"elements\", \"quadrature\", \"lossy\", \"element\", \"video\", \"encoder\", \"mpeg-4\", \"cavlc\", \"h.264\", \"noisy\", \"correlation\", \"environment\", \"optical\", \"classification\", \"flight\", \"novel\", \"extraction\", \"feature\", \"call\", \"detection\", \"grover\", \"digital\", \"multiuser\", \"base\", \"application\", \"search\", \"randomness\", \"generation\", \"secret\", \"wireless\", \"channel\", \"phase\", \"exploit\", \"textual\", \"chemical\", \"information\", \"molecule\", \"indexing\", \"mining\", \"interactive\", \"multi\", \"exploratory\", \"result\", \"error\", \"discovery\", \"drive\", \"modeling\", \"location\", \"cloud\", \"analytics\", \"statistical\", \"important\", \"issue\", \"distribute\", \"similarity\", \"scalable\", \"management\", \"network\", \"using\"], \"Total\": [2.0, 2.0, 1.0, 2.0, 2.0, 2.0, 1.0, 1.0, 1.0, 1.0, 1.0, 1.0, 1.0, 1.0, 1.0, 1.0, 1.0, 1.0, 1.0, 1.0, 1.0, 1.0, 1.0, 1.0, 1.0, 1.0, 1.0, 1.0, 1.0, 1.0, 1.6264104843139648, 1.0869659185409546, 1.0869656801223755, 1.0869659185409546, 1.0869660377502441, 1.0869660377502441, 1.0869661569595337, 1.086966633796692, 1.0869667530059814, 1.0869667530059814, 1.0869669914245605, 1.086969017982483, 1.0869687795639038, 1.0869693756103516, 1.0869691371917725, 1.0869691371917725, 1.0869698524475098, 1.0869700908660889, 1.0869699716567993, 1.0869702100753784, 1.0869693756103516, 1.0869691371917725, 1.0869691371917725, 1.086969017982483, 1.0869735479354858, 1.0869739055633545, 1.0869743824005127, 1.0869746208190918, 2.1517183780670166, 2.1514339447021484, 2.6765191555023193, 1.6645108461380005, 1.612147331237793, 1.6649783849716187, 1.6120026111602783, 1.703731656074524, 1.7037304639816284, 1.7037299871444702, 2.8222081661224365, 1.125611662864685, 1.1256115436553955, 1.1256117820739746, 1.1256115436553955, 1.125611424446106, 1.125611424446106, 1.1256113052368164, 1.1256103515625, 1.1256102323532104, 1.125610113143921, 1.125610113143921, 1.125610113143921, 1.125607967376709, 1.1256078481674194, 1.1256074905395508, 1.1256071329116821, 1.1256012916564941, 1.125600814819336, 1.125600814819336, 1.1256004571914673, 1.125599980354309, 1.1255996227264404, 1.1255853176116943, 1.1255844831466675, 1.125583291053772, 1.1255834102630615, 2.243475914001465, 1.6650769710540771, 2.1226119995117188, 1.0725600719451904, 1.0725599527359009, 1.0725600719451904, 1.07256019115448, 1.0725603103637695, 1.072560429573059, 1.0725610256195068, 1.072563886642456, 1.0725641250610352, 1.0725642442703247, 1.0725643634796143, 1.0725648403167725, 1.0725643634796143, 1.072567105293274, 1.0725674629211426, 1.0725674629211426, 1.0725679397583008, 1.0725715160369873, 1.0725722312927246, 1.0725727081298828, 1.0725722312927246, 1.0725739002227783, 1.0725831985473633, 1.0725836753845215, 1.0725748538970947, 1.0725836753845215, 1.0725836753845215, 1.0725836753845215, 1.0727077722549438, 2.6765191555023193, 1.650437831878662, 2.1514339447021484, 1.6120026111602783], \"loglift\": [30.0, 29.0, 28.0, 27.0, 26.0, 25.0, 24.0, 23.0, 22.0, 21.0, 20.0, 19.0, 18.0, 17.0, 16.0, 15.0, 14.0, 13.0, 12.0, 11.0, 10.0, 9.0, 8.0, 7.0, 6.0, 5.0, 4.0, 3.0, 2.0, 1.0, 0.8928999900817871, 0.7361999750137329, 0.7361999750137329, 0.7361999750137329, 0.7361999750137329, 0.7361999750137329, 0.7361999750137329, 0.7361000180244446, 0.7361000180244446, 0.7360000014305115, 0.7360000014305115, 0.7360000014305115, 0.7360000014305115, 0.7360000014305115, 0.7360000014305115, 0.7360000014305115, 0.7358999848365784, 0.7358999848365784, 0.7358999848365784, 0.7358999848365784, 0.7358999848365784, 0.7358999848365784, 0.7358999848365784, 0.7358999848365784, 0.7358999848365784, 0.73580002784729, 0.7353000044822693, 0.7353000044822693, 0.6211000084877014, 0.6126999855041504, 0.3962000012397766, 0.3197999894618988, 0.3490999937057495, 0.31139999628067017, 0.34220001101493835, 0.7160000205039978, 0.7160000205039978, 0.7160000205039978, 0.5752999782562256, 0.5706999897956848, 0.5706999897956848, 0.5706999897956848, 0.5706999897956848, 0.5706999897956848, 0.5706999897956848, 0.5706999897956848, 0.5706999897956848, 0.5706999897956848, 0.5706999897956848, 0.5706999897956848, 0.5706999897956848, 0.5705999732017517, 0.5705999732017517, 0.5705999732017517, 0.5705999732017517, 0.5705000162124634, 0.5705000162124634, 0.5705000162124634, 0.5705000162124634, 0.5705000162124634, 0.5705000162124634, 0.5702999830245972, 0.5702999830245972, 0.5702999830245972, 0.5702999830245972, 0.44429999589920044, 0.17990000545978546, 1.0228999853134155, 0.7889999747276306, 0.7889999747276306, 0.7889999747276306, 0.7889999747276306, 0.7889999747276306, 0.7889999747276306, 0.7889999747276306, 0.7889000177383423, 0.7889000177383423, 0.7889000177383423, 0.7889000177383423, 0.7889000177383423, 0.7889000177383423, 0.7889000177383423, 0.7889000177383423, 0.7889000177383423, 0.7888000011444092, 0.7885000109672546, 0.7885000109672546, 0.7885000109672546, 0.7885000109672546, 0.7883999943733215, 0.7883999943733215, 0.7883999943733215, 0.7883999943733215, 0.7882000207901001, 0.7882000207901001, 0.7882000207901001, 0.7853999733924866, 0.43309998512268066, 0.3605000078678131, 0.09399999678134918, 0.38179999589920044], \"logprob\": [30.0, 29.0, 28.0, 27.0, 26.0, 25.0, 24.0, 23.0, 22.0, 21.0, 20.0, 19.0, 18.0, 17.0, 16.0, 15.0, 14.0, 13.0, 12.0, 11.0, 10.0, 9.0, 8.0, 7.0, 6.0, 5.0, 4.0, 3.0, 2.0, 1.0, -3.5185999870300293, -4.0782999992370605, -4.0782999992370605, -4.0782999992370605, -4.0782999992370605, -4.0782999992370605, -4.0782999992370605, -4.078400135040283, -4.078400135040283, -4.078400135040283, -4.078400135040283, -4.078499794006348, -4.078499794006348, -4.078499794006348, -4.078499794006348, -4.078499794006348, -4.078499794006348, -4.078499794006348, -4.078499794006348, -4.078499794006348, -4.07859992980957, -4.07859992980957, -4.07859992980957, -4.07859992980957, -4.07859992980957, -4.07859992980957, -4.079100131988525, -4.079100131988525, -3.510499954223633, -3.5190000534057617, -3.5171000957489014, -4.06850004196167, -4.071199893951416, -4.076700210571289, -4.078199863433838, -3.6489999294281006, -3.6489999294281006, -3.6489999294281006, -3.285099983215332, -4.208799839019775, -4.208799839019775, -4.208799839019775, -4.208799839019775, -4.208799839019775, -4.208799839019775, -4.208799839019775, -4.208899974822998, -4.208899974822998, -4.208899974822998, -4.208899974822998, -4.208899974822998, -4.208899974822998, -4.208899974822998, -4.208899974822998, -4.208899974822998, -4.209000110626221, -4.209000110626221, -4.209000110626221, -4.209000110626221, -4.209000110626221, -4.209000110626221, -4.2093000411987305, -4.2093000411987305, -4.2093000411987305, -4.2093000411987305, -3.6454999446868896, -4.208099842071533, -3.122299909591675, -4.03879976272583, -4.03879976272583, -4.03879976272583, -4.03879976272583, -4.03879976272583, -4.03879976272583, -4.03879976272583, -4.03879976272583, -4.038899898529053, -4.038899898529053, -4.038899898529053, -4.038899898529053, -4.038899898529053, -4.038899898529053, -4.038899898529053, -4.038899898529053, -4.038899898529053, -4.0391998291015625, -4.039299964904785, -4.039299964904785, -4.039299964904785, -4.039400100708008, -4.039400100708008, -4.039400100708008, -4.039400100708008, -4.0395002365112305, -4.039599895477295, -4.039599895477295, -4.042300224304199, -3.4802000522613525, -4.036300182342529, -4.037700176239014, -4.03849983215332]}, \"token.table\": {\"Topic\": [1, 1, 2, 2, 3, 1, 2, 1, 2, 1, 1, 1, 2, 2, 3, 3, 2, 3, 1, 2, 1, 1, 1, 2, 2, 1, 2, 2, 2, 2, 3, 3, 3, 2, 2, 1, 2, 1, 1, 2, 3, 1, 3, 1, 3, 2, 2, 2, 1, 3, 2, 2, 3, 3, 3, 3, 3, 3, 2, 2, 2, 3, 1, 1, 3, 3, 3, 2, 3, 2, 1, 3, 2, 2, 2, 1, 2, 1, 2, 3, 1, 1, 3, 2, 3, 1, 1, 3, 1, 3, 3, 3, 1, 3, 1, 3, 1, 1, 1, 1, 3, 3, 1, 1, 1, 3, 2, 1, 3], \"Freq\": [0.9199893474578857, 0.35433247685432434, 0.7086649537086487, 0.5869473218917847, 0.9323281645774841, 0.6005728244781494, 0.6005728244781494, 0.44573691487312317, 0.44573691487312317, 0.9199913144111633, 0.9199896454811096, 0.9199891090393066, 0.8884153366088867, 0.8884071111679077, 0.9323484897613525, 0.9323452115058899, 0.8884140253067017, 0.9323285818099976, 0.6006084084510803, 0.6006084084510803, 0.9199918508529663, 0.9199883937835693, 0.9199846982955933, 0.888408899307251, 0.8884057402610779, 0.6007770895957947, 0.6007770895957947, 0.5869469046592712, 0.888426661491394, 0.888428270816803, 0.9323381185531616, 0.9323281645774841, 0.9323377013206482, 0.8884061574935913, 0.888405978679657, 0.9199919700622559, 0.8884069919586182, 0.9199920296669006, 0.9199894070625305, 0.8884091377258301, 0.9323387742042542, 0.9199922680854797, 0.9323478937149048, 0.9199914336204529, 0.9323422908782959, 0.8884146809577942, 0.8884150981903076, 0.8884144425392151, 0.9199848771095276, 0.9323487877845764, 0.8884273171424866, 0.8884071111679077, 0.9323281645774841, 0.9323445558547974, 0.9323450922966003, 0.9323425889015198, 0.9323281645774841, 0.932336688041687, 0.8884060382843018, 0.888405978679657, 0.6058998107910156, 0.6058998107910156, 0.9199886918067932, 0.9199855923652649, 0.9323449730873108, 0.9323381185531616, 0.9323449730873108, 0.8884071111679077, 0.9323422908782959, 0.8884281516075134, 0.46480628848075867, 0.46480628848075867, 0.8884087800979614, 0.8884144425392151, 0.888409435749054, 0.9199885129928589, 0.8884058594703674, 0.919991135597229, 0.5869474411010742, 0.932348370552063, 0.9199894070625305, 0.6202906966209412, 0.6202906966209412, 0.8884060382843018, 0.9323487281799316, 0.919985294342041, 0.9199913144111633, 0.9323418736457825, 0.37361958622932434, 0.37361958622932434, 0.9422353506088257, 0.9323487281799316, 0.9199891090393066, 0.9322203397750854, 0.6148509383201599, 0.9323358535766602, 0.9199893474578857, 0.9199893474578857, 0.9199893474578857, 0.46474483609199524, 0.46474483609199524, 0.9323453903198242, 0.9199886322021484, 0.9199919700622559, 0.6203463673591614, 0.6203463673591614, 0.8884068727493286, 0.9199920296669006, 0.9323486089706421], \"Term\": [\"aggregation\", \"algorithm\", \"algorithm\", \"analysis\", \"analytics\", \"application\", \"application\", \"base\", \"base\", \"baseball\", \"bitos\", \"bittorrent\", \"call\", \"cavlc\", \"channel\", \"chemical\", \"classification\", \"cloud\", \"coding\", \"coding\", \"compression\", \"conjunction\", \"correlate\", \"correlation\", \"coupler\", \"database\", \"database\", \"design\", \"detection\", \"digital\", \"discovery\", \"distribute\", \"drive\", \"element\", \"elements\", \"embed\", \"encoder\", \"engine\", \"enhance\", \"environment\", \"error\", \"expansion\", \"exploit\", \"exploration\", \"exploratory\", \"extraction\", \"feature\", \"flight\", \"gathering\", \"generation\", \"grover\", \"h.264\", \"important\", \"indexing\", \"information\", \"interactive\", \"issue\", \"location\", \"lossy\", \"lump\", \"management\", \"management\", \"mapping\", \"maximize\", \"mining\", \"modeling\", \"molecule\", \"mpeg-4\", \"multi\", \"multiuser\", \"network\", \"network\", \"noisy\", \"novel\", \"optical\", \"optimize\", \"passive\", \"pattern\", \"performance\", \"phase\", \"potential\", \"progressive\", \"progressive\", \"quadrature\", \"randomness\", \"range\", \"recognition\", \"result\", \"scalable\", \"scalable\", \"search\", \"secret\", \"sensor\", \"similarity\", \"spatial\", \"statistical\", \"streaming\", \"structure\", \"supporting\", \"system\", \"system\", \"textual\", \"transcoder\", \"universal\", \"using\", \"using\", \"video\", \"wavelet\", \"wireless\"]}, \"R\": 30, \"lambda.step\": 0.01, \"plot.opts\": {\"xlab\": \"PC1\", \"ylab\": \"PC2\"}, \"topic.order\": [1, 2, 3]};\n",
       "\n",
       "function LDAvis_load_lib(url, callback){\n",
       "  var s = document.createElement('script');\n",
       "  s.src = url;\n",
       "  s.async = true;\n",
       "  s.onreadystatechange = s.onload = callback;\n",
       "  s.onerror = function(){console.warn(\"failed to load library \" + url);};\n",
       "  document.getElementsByTagName(\"head\")[0].appendChild(s);\n",
       "}\n",
       "\n",
       "if(typeof(LDAvis) !== \"undefined\"){\n",
       "   // already loaded: just create the visualization\n",
       "   !function(LDAvis){\n",
       "       new LDAvis(\"#\" + \"ldavis_el1714821175462050003053649050\", ldavis_el1714821175462050003053649050_data);\n",
       "   }(LDAvis);\n",
       "}else if(typeof define === \"function\" && define.amd){\n",
       "   // require.js is available: use it to load d3/LDAvis\n",
       "   require.config({paths: {d3: \"https://cdnjs.cloudflare.com/ajax/libs/d3/3.5.5/d3.min\"}});\n",
       "   require([\"d3\"], function(d3){\n",
       "      window.d3 = d3;\n",
       "      LDAvis_load_lib(\"https://cdn.rawgit.com/bmabey/pyLDAvis/files/ldavis.v1.0.0.js\", function(){\n",
       "        new LDAvis(\"#\" + \"ldavis_el1714821175462050003053649050\", ldavis_el1714821175462050003053649050_data);\n",
       "      });\n",
       "    });\n",
       "}else{\n",
       "    // require.js not available: dynamically load d3 & LDAvis\n",
       "    LDAvis_load_lib(\"https://cdnjs.cloudflare.com/ajax/libs/d3/3.5.5/d3.min.js\", function(){\n",
       "         LDAvis_load_lib(\"https://cdn.rawgit.com/bmabey/pyLDAvis/files/ldavis.v1.0.0.js\", function(){\n",
       "                 new LDAvis(\"#\" + \"ldavis_el1714821175462050003053649050\", ldavis_el1714821175462050003053649050_data);\n",
       "            })\n",
       "         });\n",
       "}\n",
       "</script>"
      ],
      "text/plain": [
       "<IPython.core.display.HTML object>"
      ]
     },
     "execution_count": 25,
     "metadata": {},
     "output_type": "execute_result"
    }
   ],
   "source": [
    "lda3 = gensim.models.ldamodel.LdaModel.load('model3.gensim')\n",
    "lda_display3 = pyLDAvis.gensim.prepare(lda3, corpus, dictionary, sort_topics=False)\n",
    "pyLDAvis.display(lda_display3)"
   ]
  },
  {
   "cell_type": "code",
   "execution_count": 26,
   "metadata": {},
   "outputs": [
    {
     "name": "stderr",
     "output_type": "stream",
     "text": [
      "D:\\Anaconda3\\envs\\python36\\lib\\site-packages\\pyLDAvis\\_prepare.py:257: FutureWarning: Sorting because non-concatenation axis is not aligned. A future version\n",
      "of pandas will change to not sort by default.\n",
      "\n",
      "To accept the future behavior, pass 'sort=False'.\n",
      "\n",
      "To retain the current behavior and silence the warning, pass 'sort=True'.\n",
      "\n",
      "  return pd.concat([default_term_info] + list(topic_dfs))\n"
     ]
    },
    {
     "data": {
      "text/html": [
       "\n",
       "<link rel=\"stylesheet\" type=\"text/css\" href=\"https://cdn.rawgit.com/bmabey/pyLDAvis/files/ldavis.v1.0.0.css\">\n",
       "\n",
       "\n",
       "<div id=\"ldavis_el1714821175463306568122360062\"></div>\n",
       "<script type=\"text/javascript\">\n",
       "\n",
       "var ldavis_el1714821175463306568122360062_data = {\"mdsDat\": {\"x\": [0.19678949370866766, -0.0051038322788920475, -0.0652793583242147, -0.07735405116415886, -0.05167138442618453, -0.01983166812948728, 0.024371114567880294, -0.02411080451135084, 0.01480876711362206, 0.0073817234441183235], \"y\": [0.01859457907258661, -0.038376571767774155, 0.1475024936293029, -0.04442900988261984, -0.04545391000139879, 0.08324414313448927, -0.00549969948799003, -0.09001252644712099, -0.02804225469178037, 0.0024727564423054145], \"topics\": [1, 2, 3, 4, 5, 6, 7, 8, 9, 10], \"cluster\": [1, 1, 1, 1, 1, 1, 1, 1, 1, 1], \"Freq\": [19.721416473388672, 6.369462013244629, 14.646805763244629, 14.637327194213867, 9.101353645324707, 11.482295036315918, 3.104550361633301, 12.04111099243164, 7.470232963562012, 1.425439715385437]}, \"tinfo\": {\"Category\": [\"Default\", \"Default\", \"Default\", \"Default\", \"Default\", \"Default\", \"Default\", \"Default\", \"Default\", \"Default\", \"Default\", \"Default\", \"Default\", \"Default\", \"Default\", \"Default\", \"Default\", \"Default\", \"Default\", \"Default\", \"Default\", \"Default\", \"Default\", \"Default\", \"Default\", \"Default\", \"Default\", \"Default\", \"Default\", \"Default\", \"Topic1\", \"Topic1\", \"Topic1\", \"Topic1\", \"Topic1\", \"Topic1\", \"Topic1\", \"Topic1\", \"Topic1\", \"Topic1\", \"Topic1\", \"Topic1\", \"Topic1\", \"Topic1\", \"Topic1\", \"Topic1\", \"Topic1\", \"Topic1\", \"Topic1\", \"Topic1\", \"Topic1\", \"Topic1\", \"Topic1\", \"Topic1\", \"Topic1\", \"Topic1\", \"Topic1\", \"Topic1\", \"Topic1\", \"Topic1\", \"Topic1\", \"Topic1\", \"Topic1\", \"Topic2\", \"Topic2\", \"Topic2\", \"Topic2\", \"Topic2\", \"Topic2\", \"Topic2\", \"Topic2\", \"Topic2\", \"Topic2\", \"Topic2\", \"Topic2\", \"Topic2\", \"Topic2\", \"Topic2\", \"Topic2\", \"Topic2\", \"Topic2\", \"Topic2\", \"Topic2\", \"Topic2\", \"Topic2\", \"Topic2\", \"Topic2\", \"Topic2\", \"Topic2\", \"Topic2\", \"Topic2\", \"Topic2\", \"Topic2\", \"Topic2\", \"Topic2\", \"Topic2\", \"Topic2\", \"Topic2\", \"Topic2\", \"Topic2\", \"Topic2\", \"Topic2\", \"Topic2\", \"Topic2\", \"Topic2\", \"Topic2\", \"Topic2\", \"Topic2\", \"Topic2\", \"Topic2\", \"Topic2\", \"Topic2\", \"Topic2\", \"Topic2\", \"Topic2\", \"Topic2\", \"Topic2\", \"Topic2\", \"Topic3\", \"Topic3\", \"Topic3\", \"Topic3\", \"Topic3\", \"Topic3\", \"Topic3\", \"Topic3\", \"Topic3\", \"Topic3\", \"Topic3\", \"Topic3\", \"Topic3\", \"Topic3\", \"Topic3\", \"Topic3\", \"Topic3\", \"Topic3\", \"Topic3\", \"Topic3\", \"Topic3\", \"Topic3\", \"Topic3\", \"Topic3\", \"Topic3\", \"Topic3\", \"Topic3\", \"Topic3\", \"Topic3\", \"Topic3\", \"Topic3\", \"Topic3\", \"Topic3\", \"Topic3\", \"Topic3\", \"Topic3\", \"Topic3\", \"Topic3\", \"Topic4\", \"Topic4\", \"Topic4\", \"Topic4\", \"Topic4\", \"Topic4\", \"Topic4\", \"Topic4\", \"Topic4\", \"Topic4\", \"Topic4\", \"Topic4\", \"Topic4\", \"Topic4\", \"Topic4\", \"Topic4\", \"Topic4\", \"Topic4\", \"Topic4\", \"Topic4\", \"Topic4\", \"Topic4\", \"Topic4\", \"Topic4\", \"Topic4\", \"Topic4\", \"Topic4\", \"Topic4\", \"Topic4\", \"Topic4\", \"Topic4\", \"Topic4\", \"Topic4\", \"Topic4\", \"Topic4\", \"Topic4\", \"Topic5\", \"Topic5\", \"Topic5\", \"Topic5\", \"Topic5\", \"Topic5\", \"Topic5\", \"Topic5\", \"Topic5\", \"Topic5\", \"Topic5\", \"Topic5\", \"Topic5\", \"Topic5\", \"Topic5\", \"Topic5\", \"Topic5\", \"Topic5\", \"Topic5\", \"Topic5\", \"Topic5\", \"Topic5\", \"Topic5\", \"Topic5\", \"Topic5\", \"Topic5\", \"Topic5\", \"Topic5\", \"Topic5\", \"Topic5\", \"Topic5\", \"Topic5\", \"Topic5\", \"Topic5\", \"Topic5\", \"Topic5\", \"Topic5\", \"Topic5\", \"Topic5\", \"Topic5\", \"Topic5\", \"Topic5\", \"Topic5\", \"Topic5\", \"Topic5\", \"Topic5\", \"Topic5\", \"Topic5\", \"Topic5\", \"Topic5\", \"Topic5\", \"Topic5\", \"Topic6\", \"Topic6\", \"Topic6\", \"Topic6\", \"Topic6\", \"Topic6\", \"Topic6\", \"Topic6\", \"Topic6\", \"Topic6\", \"Topic6\", \"Topic6\", \"Topic6\", \"Topic6\", \"Topic6\", \"Topic6\", \"Topic6\", \"Topic6\", \"Topic6\", \"Topic6\", \"Topic6\", \"Topic6\", \"Topic6\", \"Topic6\", \"Topic6\", \"Topic6\", \"Topic6\", \"Topic6\", \"Topic6\", \"Topic6\", \"Topic6\", \"Topic6\", \"Topic6\", \"Topic6\", \"Topic6\", \"Topic6\", \"Topic6\", \"Topic6\", \"Topic6\", \"Topic6\", \"Topic6\", \"Topic6\", \"Topic6\", \"Topic6\", \"Topic7\", \"Topic7\", \"Topic7\", \"Topic7\", \"Topic7\", \"Topic7\", \"Topic7\", \"Topic7\", \"Topic7\", \"Topic7\", \"Topic7\", \"Topic7\", \"Topic7\", \"Topic7\", \"Topic7\", \"Topic7\", \"Topic7\", \"Topic7\", \"Topic7\", \"Topic7\", \"Topic7\", \"Topic7\", \"Topic7\", \"Topic7\", \"Topic7\", \"Topic7\", \"Topic7\", \"Topic7\", \"Topic7\", \"Topic7\", \"Topic7\", \"Topic7\", \"Topic7\", \"Topic7\", \"Topic7\", \"Topic7\", \"Topic7\", \"Topic7\", \"Topic7\", \"Topic7\", \"Topic7\", \"Topic7\", \"Topic7\", \"Topic7\", \"Topic7\", \"Topic7\", \"Topic7\", \"Topic7\", \"Topic7\", \"Topic7\", \"Topic8\", \"Topic8\", \"Topic8\", \"Topic8\", \"Topic8\", \"Topic8\", \"Topic8\", \"Topic8\", \"Topic8\", \"Topic8\", \"Topic8\", \"Topic8\", \"Topic8\", \"Topic8\", \"Topic8\", \"Topic8\", \"Topic8\", \"Topic8\", \"Topic8\", \"Topic8\", \"Topic8\", \"Topic8\", \"Topic8\", \"Topic8\", \"Topic8\", \"Topic8\", \"Topic8\", \"Topic8\", \"Topic8\", \"Topic8\", \"Topic8\", \"Topic8\", \"Topic8\", \"Topic8\", \"Topic8\", \"Topic8\", \"Topic8\", \"Topic8\", \"Topic8\", \"Topic8\", \"Topic9\", \"Topic9\", \"Topic9\", \"Topic9\", \"Topic9\", \"Topic9\", \"Topic9\", \"Topic9\", \"Topic9\", \"Topic9\", \"Topic9\", \"Topic9\", \"Topic9\", \"Topic9\", \"Topic9\", \"Topic9\", \"Topic9\", \"Topic9\", \"Topic9\", \"Topic9\", \"Topic9\", \"Topic9\", \"Topic9\", \"Topic9\", \"Topic9\", \"Topic9\", \"Topic9\", \"Topic9\", \"Topic9\", \"Topic9\", \"Topic9\", \"Topic9\", \"Topic9\", \"Topic9\", \"Topic9\", \"Topic9\", \"Topic9\", \"Topic9\", \"Topic9\", \"Topic9\", \"Topic9\", \"Topic9\", \"Topic9\", \"Topic9\", \"Topic9\", \"Topic9\", \"Topic9\", \"Topic9\", \"Topic9\", \"Topic9\", \"Topic9\", \"Topic9\", \"Topic10\", \"Topic10\", \"Topic10\", \"Topic10\", \"Topic10\", \"Topic10\", \"Topic10\", \"Topic10\", \"Topic10\", \"Topic10\", \"Topic10\", \"Topic10\", \"Topic10\", \"Topic10\", \"Topic10\", \"Topic10\", \"Topic10\", \"Topic10\", \"Topic10\", \"Topic10\", \"Topic10\", \"Topic10\", \"Topic10\", \"Topic10\", \"Topic10\", \"Topic10\", \"Topic10\", \"Topic10\", \"Topic10\", \"Topic10\", \"Topic10\", \"Topic10\", \"Topic10\", \"Topic10\", \"Topic10\", \"Topic10\", \"Topic10\", \"Topic10\", \"Topic10\", \"Topic10\", \"Topic10\", \"Topic10\", \"Topic10\", \"Topic10\", \"Topic10\", \"Topic10\", \"Topic10\", \"Topic10\", \"Topic10\", \"Topic10\", \"Topic10\", \"Topic10\", \"Topic10\", \"Topic10\", \"Topic10\", \"Topic10\", \"Topic10\", \"Topic10\"], \"Freq\": [1.0, 2.0, 1.0, 2.0, 0.0, 0.0, 0.0, 0.0, 0.0, 0.0, 0.0, 0.0, 0.0, 2.0, 1.0, 1.0, 1.0, 1.0, 1.0, 1.0, 1.0, 1.0, 1.0, 1.0, 1.0, 1.0, 1.0, 1.0, 1.0, 1.0, 1.4229811429977417, 0.7453681826591492, 0.7453681826591492, 0.7453681826591492, 0.7453681826591492, 0.7453681826591492, 0.7453679442405701, 0.7453679442405701, 0.7453679442405701, 0.7453679442405701, 0.7453680038452148, 0.745367705821991, 0.7453680038452148, 0.745367705821991, 0.7453680038452148, 0.7453680038452148, 0.7453680038452148, 0.745367705821991, 0.7453680038452148, 0.745367705821991, 0.7453659772872925, 0.7453663349151611, 0.7453681826591492, 0.7453673481941223, 0.745367169380188, 0.7453504800796509, 0.745364785194397, 0.06776124238967896, 0.06776123493909836, 0.06776127219200134, 0.06776125729084015, 0.06776124984025955, 0.06776125729084015, 0.4941352903842926, 0.4941352903842926, 0.4941352903842926, 0.4941352903842926, 0.4941352903842926, 0.4941352903842926, 0.49413320422172546, 0.49413347244262695, 0.04492156207561493, 0.04492155835032463, 0.04492155462503433, 0.04492155462503433, 0.04492155462503433, 0.04492155462503433, 0.04492155462503433, 0.04492155462503433, 0.044921550899744034, 0.04492155835032463, 0.04492155462503433, 0.04492155462503433, 0.04492155462503433, 0.04492155462503433, 0.04492155462503433, 0.04492155462503433, 0.04492155462503433, 0.04492155835032463, 0.04492155835032463, 0.04492155835032463, 0.04492155835032463, 0.04492155462503433, 0.04492155462503433, 0.04492155462503433, 0.04492155462503433, 0.04492155462503433, 0.044921569526195526, 0.044921573251485825, 0.04492156580090523, 0.04492155835032463, 0.04492155835032463, 0.04492155835032463, 0.04492155462503433, 0.04492155835032463, 0.04492155462503433, 0.04492155462503433, 0.04492155462503433, 0.04492155462503433, 0.04492155835032463, 0.04492155462503433, 0.04492155462503433, 0.04492155462503433, 0.04492155462503433, 0.04492155462503433, 0.04492155462503433, 0.04492155835032463, 0.04492155462503433, 0.6746679544448853, 0.6746679544448853, 0.6746679544448853, 0.6746679544448853, 0.67466801404953, 0.67466801404953, 0.6746676564216614, 0.6746676564216614, 0.6746674180030823, 0.6746674180030823, 0.6746674180030823, 0.6746674180030823, 0.6746676564216614, 0.6746671199798584, 0.6746671199798584, 0.6746615171432495, 0.674670934677124, 0.6746687293052673, 0.6746628880500793, 0.6746704578399658, 0.6746616363525391, 0.061333831399679184, 0.061333827674388885, 0.06133387237787247, 0.061333827674388885, 0.06133382394909859, 0.06133382394909859, 0.06133382394909859, 0.06133382394909859, 0.06133382394909859, 0.06133383512496948, 0.06133384630084038, 0.06133383885025978, 0.06133382394909859, 0.06133382394909859, 0.061333831399679184, 0.06133382394909859, 0.06133382394909859, 0.6742314100265503, 0.6742314100265503, 0.6742314100265503, 0.6742314100265503, 0.6742312908172607, 0.6742312908172607, 0.6742312908172607, 0.6742312908172607, 0.674231231212616, 0.6742309331893921, 0.6742309331893921, 0.6742305755615234, 0.6742305755615234, 0.6742305755615234, 0.6742303371429443, 0.6742280125617981, 0.6742320656776428, 0.6742311120033264, 0.674232006072998, 0.6742161512374878, 0.6742324233055115, 0.06129414215683937, 0.06129414215683937, 0.061294179409742355, 0.06129414215683937, 0.06129413843154907, 0.06129413843154907, 0.06129413843154907, 0.06129413843154907, 0.06129413843154907, 0.06129413843154907, 0.06129413843154907, 0.06129414215683937, 0.06129413843154907, 0.06129414960741997, 0.06129414215683937, 0.5833196043968201, 0.5833195447921753, 0.5833195447921753, 0.5833195447921753, 0.5832054615020752, 0.5832022428512573, 0.5831940174102783, 0.583076536655426, 1.1136149168014526, 0.5831628441810608, 0.5831812024116516, 0.05302929878234863, 0.05302929878234863, 0.05302933230996132, 0.053029291331768036, 0.053029291331768036, 0.053029291331768036, 0.053029291331768036, 0.053029291331768036, 0.053029291331768036, 0.053029291331768036, 0.053029291331768036, 0.053029291331768036, 0.053029291331768036, 0.053029291331768036, 0.053029291331768036, 0.053029291331768036, 0.05302930250763893, 0.05302929878234863, 0.05302929878234863, 0.053029291331768036, 0.053029291331768036, 0.053029291331768036, 0.053029291331768036, 0.053029291331768036, 0.05302931368350983, 0.053029291331768036, 0.05302929878234863, 0.053029291331768036, 0.053029291331768036, 0.05302929878234863, 0.053029291331768036, 0.053029291331768036, 0.053029291331768036, 0.053029291331768036, 0.053029291331768036, 0.053029291331768036, 0.053029291331768036, 0.053029291331768036, 0.053029291331768036, 0.053029291331768036, 0.05302929878234863, 1.1967105865478516, 0.6268466114997864, 0.6268466114997864, 0.6268466114997864, 0.6268466114997864, 0.6268465518951416, 0.6268465518951416, 0.6268465518951416, 0.6268465518951416, 0.6268465518951416, 0.6268518567085266, 0.6268482208251953, 0.6268470287322998, 0.6268460750579834, 0.6268481016159058, 0.05698636919260025, 0.05698636919260025, 0.05698639899492264, 0.05698636919260025, 0.05698636919260025, 0.05698636174201965, 0.05698636174201965, 0.05698636174201965, 0.05698636174201965, 0.05698636919260025, 0.05698636174201965, 0.05698636174201965, 0.05698636174201965, 0.05698636174201965, 0.05698636174201965, 0.056986384093761444, 0.05698636919260025, 0.05698637291789055, 0.05698636174201965, 0.05698636174201965, 0.05698636174201965, 0.05698636174201965, 0.05698636174201965, 0.05698636919260025, 0.05698636174201965, 0.05698636919260025, 0.05698636919260025, 0.05698636174201965, 0.05698637664318085, 0.3268239498138428, 0.3268239498138428, 0.32682737708091736, 0.029711391776800156, 0.029711365699768066, 0.029711367562413216, 0.029711365699768066, 0.029711365699768066, 0.029711367562413216, 0.029711365699768066, 0.029711365699768066, 0.029711365699768066, 0.029711365699768066, 0.029711365699768066, 0.029711365699768066, 0.029711365699768066, 0.029711365699768066, 0.029847528785467148, 0.029781732708215714, 0.029777081683278084, 0.02977532520890236, 0.029711365699768066, 0.029711365699768066, 0.029711365699768066, 0.029711365699768066, 0.029711367562413216, 0.029711367562413216, 0.029711367562413216, 0.029711367562413216, 0.029711367562413216, 0.029711365699768066, 0.029711365699768066, 0.029711365699768066, 0.02980121225118637, 0.029790736734867096, 0.029711367562413216, 0.029711373150348663, 0.029711367562413216, 0.029711371287703514, 0.029711367562413216, 0.029711371287703514, 0.029711371287703514, 0.029711367562413216, 0.029711367562413216, 0.029711367562413216, 0.029711367562413216, 0.029711367562413216, 0.029711367562413216, 0.029711367562413216, 0.029711367562413216, 0.6573540568351746, 0.6573540568351746, 0.6573541760444641, 0.6573541760444641, 0.6573541760444641, 0.6573541760444641, 0.6573541760444641, 0.6573541760444641, 0.6573541760444641, 0.6573540568351746, 0.6573541164398193, 0.6573540568351746, 0.6573540568351746, 0.6573551893234253, 0.6573557257652283, 0.657357394695282, 0.05975978076457977, 0.059759777039289474, 0.05975981429219246, 0.059759773313999176, 0.059759773313999176, 0.059759773313999176, 0.059759773313999176, 0.059759773313999176, 0.059759773313999176, 0.059759773313999176, 0.059759773313999176, 0.059759773313999176, 0.059759773313999176, 0.059759773313999176, 0.05975979566574097, 0.059759799391031265, 0.059759773313999176, 0.059759777039289474, 0.059759773313999176, 0.059759777039289474, 0.05975978076457977, 0.05975979194045067, 0.059759773313999176, 0.059759777039289474, 0.5505542159080505, 0.5505542159080505, 0.5505542159080505, 0.5505542159080505, 0.5505542159080505, 0.5505542159080505, 0.5505542159080505, 0.5505611300468445, 0.5505638122558594, 0.050050582736730576, 0.05005057528614998, 0.050050605088472366, 0.05005057528614998, 0.05005057156085968, 0.05005057156085968, 0.05005057156085968, 0.05005057156085968, 0.05005057156085968, 0.05005057528614998, 0.05005057156085968, 0.05005057156085968, 0.05005057156085968, 0.05005057528614998, 0.05005057528614998, 0.05005057528614998, 0.05005057156085968, 0.050050582736730576, 0.05005057528614998, 0.05005057528614998, 0.05005057156085968, 0.05005057156085968, 0.05005057156085968, 0.05005057156085968, 0.05005057156085968, 0.05005057156085968, 0.05005057156085968, 0.05005057156085968, 0.050050582736730576, 0.05005057156085968, 0.05005057156085968, 0.05005057156085968, 0.05005057156085968, 0.05005057528614998, 0.05005057156085968, 0.05005057528614998, 0.05005057528614998, 0.05005057528614998, 0.05005057156085968, 0.050050582736730576, 0.05005057528614998, 0.05005057156085968, 0.05005057528614998, 0.017364446073770523, 0.017364446073770523, 0.01736445538699627, 0.017364446073770523, 0.017364444211125374, 0.017364444211125374, 0.017364444211125374, 0.017364444211125374, 0.017364444211125374, 0.017364444211125374, 0.017364444211125374, 0.017364444211125374, 0.017364444211125374, 0.017364444211125374, 0.017364444211125374, 0.017364442348480225, 0.017364446073770523, 0.017364444211125374, 0.017364444211125374, 0.017364444211125374, 0.017364446073770523, 0.017364446073770523, 0.017364446073770523, 0.017364444211125374, 0.017364446073770523, 0.017364446073770523, 0.017364446073770523, 0.017364446073770523, 0.017364444211125374, 0.017364444211125374, 0.017364444211125374, 0.017364444211125374, 0.017364444211125374, 0.017364444211125374, 0.017364444211125374, 0.017364446073770523, 0.017364444211125374, 0.017364444211125374, 0.017364444211125374, 0.017364444211125374, 0.017364444211125374, 0.017364444211125374, 0.017364444211125374, 0.017364444211125374, 0.017364446073770523, 0.017364446073770523, 0.017364446073770523, 0.017364444211125374, 0.017364446073770523, 0.017364446073770523, 0.017364446073770523, 0.017364446073770523, 0.017364444211125374, 0.017364446073770523, 0.017364444211125374, 0.017364446073770523, 0.017364444211125374, 0.017364444211125374], \"Term\": [\"network\", \"search\", \"management\", \"scalable\", \"correlate\", \"gathering\", \"molecule\", \"mining\", \"information\", \"indexing\", \"chemical\", \"textual\", \"similarity\", \"base\", \"phase\", \"randomness\", \"secret\", \"generation\", \"exploit\", \"channel\", \"wireless\", \"using\", \"database\", \"multi\", \"result\", \"interactive\", \"exploratory\", \"optimize\", \"mapping\", \"conjunction\", \"using\", \"video\", \"h.264\", \"encoder\", \"cavlc\", \"mpeg-4\", \"error\", \"discovery\", \"statistical\", \"modeling\", \"location\", \"aggregation\", \"baseball\", \"structure\", \"pattern\", \"recognition\", \"drive\", \"sensor\", \"exploration\", \"potential\", \"spatial\", \"design\", \"application\", \"performance\", \"coding\", \"network\", \"system\", \"gathering\", \"correlate\", \"similarity\", \"scalable\", \"database\", \"base\", \"chemical\", \"textual\", \"molecule\", \"mining\", \"information\", \"indexing\", \"similarity\", \"search\", \"correlate\", \"gathering\", \"channel\", \"exploit\", \"generation\", \"wireless\", \"phase\", \"secret\", \"randomness\", \"transcoder\", \"conjunction\", \"mapping\", \"optimize\", \"multi\", \"exploratory\", \"interactive\", \"result\", \"advertising\", \"platform\", \"issue\", \"important\", \"distribute\", \"maximize\", \"digital\", \"range\", \"overview\", \"network\", \"scalable\", \"algorithm\", \"economic\", \"effect\", \"analysis\", \"coupler\", \"design\", \"element\", \"elements\", \"lossy\", \"lump\", \"prefix\", \"passive\", \"quadrature\", \"aggregation\", \"potential\", \"sensor\", \"structure\", \"morphology\", \"novel\", \"engine\", \"embed\", \"expansion\", \"universal\", \"wavelet\", \"compression\", \"detection\", \"grover\", \"prefix\", \"effect\", \"economic\", \"deaggregation\", \"multiuser\", \"object\", \"morphology\", \"database\", \"progressive\", \"coding\", \"base\", \"system\", \"algorithm\", \"correlate\", \"gathering\", \"similarity\", \"chemical\", \"textual\", \"molecule\", \"mining\", \"information\", \"indexing\", \"search\", \"network\", \"scalable\", \"randomness\", \"potential\", \"efficient\", \"lump\", \"passive\", \"correlation\", \"environment\", \"optical\", \"noisy\", \"bitos\", \"enhance\", \"streaming\", \"supporting\", \"bittorrent\", \"cloud\", \"analytics\", \"efficient\", \"implementation\", \"relational\", \"analysis\", \"progressive\", \"performance\", \"application\", \"base\", \"scalable\", \"algorithm\", \"gathering\", \"correlate\", \"similarity\", \"information\", \"chemical\", \"indexing\", \"mining\", \"molecule\", \"textual\", \"potential\", \"design\", \"deaggregation\", \"coupler\", \"object\", \"morphology\", \"multi\", \"result\", \"interactive\", \"exploratory\", \"optimize\", \"mapping\", \"conjunction\", \"transcoder\", \"search\", \"base\", \"scalable\", \"gathering\", \"correlate\", \"similarity\", \"textual\", \"chemical\", \"mining\", \"indexing\", \"information\", \"molecule\", \"generation\", \"exploit\", \"wireless\", \"secret\", \"channel\", \"phase\", \"randomness\", \"issue\", \"important\", \"advertising\", \"overview\", \"digital\", \"range\", \"platform\", \"maximize\", \"algorithm\", \"enhance\", \"effect\", \"flight\", \"novel\", \"analysis\", \"coupler\", \"design\", \"element\", \"elements\", \"lossy\", \"lump\", \"passive\", \"quadrature\", \"aggregation\", \"potential\", \"sensor\", \"management\", \"digital\", \"maximize\", \"range\", \"overview\", \"advertising\", \"platform\", \"issue\", \"important\", \"distribute\", \"database\", \"spatial\", \"system\", \"scalable\", \"algorithm\", \"correlate\", \"gathering\", \"similarity\", \"chemical\", \"information\", \"indexing\", \"mining\", \"molecule\", \"textual\", \"wireless\", \"randomness\", \"secret\", \"phase\", \"generation\", \"exploit\", \"network\", \"implementation\", \"morphology\", \"lump\", \"passive\", \"quadrature\", \"aggregation\", \"potential\", \"sensor\", \"structure\", \"detection\", \"object\", \"lossy\", \"base\", \"correlate\", \"gathering\", \"network\", \"similarity\", \"chemical\", \"textual\", \"molecule\", \"mining\", \"information\", \"indexing\", \"channel\", \"exploit\", \"generation\", \"wireless\", \"phase\", \"randomness\", \"secret\", \"transcoder\", \"conjunction\", \"mapping\", \"optimize\", \"multi\", \"exploratory\", \"interactive\", \"result\", \"platform\", \"issue\", \"important\", \"distribute\", \"advertising\", \"maximize\", \"range\", \"digital\", \"base\", \"scalable\", \"design\", \"algorithm\", \"analysis\", \"system\", \"sensor\", \"progressive\", \"management\", \"coding\", \"application\", \"prefix\", \"effect\", \"economic\", \"deaggregation\", \"object\", \"morphology\", \"feature\", \"call\", \"quadrature\", \"passive\", \"lump\", \"lossy\", \"elements\", \"element\", \"coupler\", \"novel\", \"flight\", \"extraction\", \"classification\", \"analysis\", \"design\", \"algorithm\", \"gathering\", \"correlate\", \"similarity\", \"molecule\", \"textual\", \"chemical\", \"indexing\", \"information\", \"mining\", \"exploit\", \"channel\", \"wireless\", \"secret\", \"generation\", \"network\", \"scalable\", \"potential\", \"sensor\", \"structure\", \"morphology\", \"object\", \"database\", \"deaggregation\", \"economic\", \"secret\", \"wireless\", \"randomness\", \"phase\", \"channel\", \"exploit\", \"generation\", \"network\", \"scalable\", \"gathering\", \"correlate\", \"similarity\", \"information\", \"chemical\", \"indexing\", \"mining\", \"molecule\", \"textual\", \"transcoder\", \"conjunction\", \"mapping\", \"optimize\", \"exploratory\", \"interactive\", \"multi\", \"result\", \"issue\", \"platform\", \"important\", \"advertising\", \"maximize\", \"overview\", \"digital\", \"distribute\", \"range\", \"potential\", \"structure\", \"morphology\", \"aggregation\", \"quadrature\", \"passive\", \"lump\", \"sensor\", \"elements\", \"object\", \"deaggregation\", \"economic\", \"effect\", \"prefix\", \"application\", \"cavlc\", \"coding\", \"correlate\", \"gathering\", \"similarity\", \"chemical\", \"textual\", \"molecule\", \"mining\", \"information\", \"indexing\", \"channel\", \"secret\", \"wireless\", \"phase\", \"generation\", \"exploit\", \"randomness\", \"transcoder\", \"conjunction\", \"mapping\", \"optimize\", \"result\", \"interactive\", \"exploratory\", \"multi\", \"platform\", \"issue\", \"important\", \"advertising\", \"range\", \"distribute\", \"maximize\", \"digital\", \"overview\", \"structure\", \"coupler\", \"design\", \"element\", \"elements\", \"lossy\", \"lump\", \"passive\", \"quadrature\", \"aggregation\", \"potential\", \"sensor\", \"morphology\", \"object\", \"deaggregation\", \"economic\", \"effect\", \"prefix\", \"application\", \"cavlc\", \"coding\", \"encoder\", \"analysis\", \"novel\", \"flight\"], \"Total\": [1.0, 2.0, 1.0, 2.0, 0.0, 0.0, 0.0, 0.0, 0.0, 0.0, 0.0, 0.0, 0.0, 2.0, 1.0, 1.0, 1.0, 1.0, 1.0, 1.0, 1.0, 1.0, 1.0, 1.0, 1.0, 1.0, 1.0, 1.0, 1.0, 1.0, 1.85743248462677, 1.1798195838928223, 1.1798195838928223, 1.1798195838928223, 1.1798195838928223, 1.1798195838928223, 1.1798193454742432, 1.1798193454742432, 1.1798193454742432, 1.1798193454742432, 1.1798194646835327, 1.179819107055664, 1.1798194646835327, 1.179819107055664, 1.1798194646835327, 1.1798194646835327, 1.1798194646835327, 1.179819107055664, 1.1798194646835327, 1.179819107055664, 1.7496792078018188, 1.7774137258529663, 1.7927565574645996, 1.7927566766738892, 1.7931535243988037, 1.977428674697876, 2.363013505935669, 0.799325168132782, 0.799325168132782, 0.9514245390892029, 2.7157387733459473, 1.6854058504104614, 2.2587027549743652, 0.9514263272285461, 0.9514263272285461, 0.9514263272285461, 0.9514263272285461, 0.9514263272285461, 0.9514263272285461, 0.9514245390892029, 2.012010097503662, 0.799325168132782, 0.799325168132782, 1.0027161836624146, 1.0027161836624146, 1.0027161836624146, 1.0027161836624146, 1.0027161836624146, 1.0027161836624146, 1.0027161836624146, 1.0323960781097412, 1.0324478149414062, 1.0324513912200928, 1.0324528217315674, 1.0325028896331787, 1.0325028896331787, 1.0325028896331787, 1.0325028896331787, 1.0720728635787964, 1.0720728635787964, 1.0720728635787964, 1.0720728635787964, 1.0720728635787964, 1.0720728635787964, 1.0720728635787964, 1.0720728635787964, 1.0720728635787964, 1.977428674697876, 2.7157387733459473, 2.8959381580352783, 1.1155462265014648, 1.1155462265014648, 1.7127443552017212, 1.0998070240020752, 1.7774137258529663, 1.0998070240020752, 1.0998070240020752, 1.0998070240020752, 1.0998070240020752, 1.1155462265014648, 1.0998070240020752, 1.0998070240020752, 1.179819107055664, 1.179819107055664, 1.179819107055664, 1.179819107055664, 1.1155459880828857, 1.0998069047927856, 1.115546703338623, 1.115546703338623, 1.115546703338623, 1.115546703338623, 1.1155468225479126, 1.1155468225479126, 1.115546464920044, 1.115546464920044, 1.1155462265014648, 1.1155462265014648, 1.1155462265014648, 1.1155462265014648, 1.1155465841293335, 1.1155459880828857, 1.1155459880828857, 1.6854058504104614, 1.7284835577011108, 1.7931535243988037, 2.2587027549743652, 2.363013505935669, 2.8959381580352783, 0.799325168132782, 0.799325168132782, 0.9514245390892029, 0.9514263272285461, 0.9514263272285461, 0.9514263272285461, 0.9514263272285461, 0.9514263272285461, 0.9514263272285461, 2.012010097503662, 1.977428674697876, 2.7157387733459473, 1.0027161836624146, 1.179819107055664, 1.1151491403579712, 1.0998070240020752, 1.0998070240020752, 1.1151498556137085, 1.1151498556137085, 1.1151498556137085, 1.1151498556137085, 1.115149736404419, 1.115149736404419, 1.115149736404419, 1.115149736404419, 1.115149736404419, 1.1151493787765503, 1.1151493787765503, 1.1151491403579712, 1.1151491403579712, 1.1151491403579712, 1.7127443552017212, 1.7284835577011108, 1.7927566766738892, 1.7927565574645996, 2.2587027549743652, 2.7157387733459473, 2.8959381580352783, 0.799325168132782, 0.799325168132782, 0.9514245390892029, 0.9514263272285461, 0.9514263272285461, 0.9514263272285461, 0.9514263272285461, 0.9514263272285461, 0.9514263272285461, 1.179819107055664, 1.7774137258529663, 1.1155462265014648, 1.0998070240020752, 1.1155459880828857, 1.1155459880828857, 1.0325028896331787, 1.0325028896331787, 1.0325028896331787, 1.0325028896331787, 1.0324528217315674, 1.0324513912200928, 1.0324478149414062, 1.0323960781097412, 2.012010097503662, 2.2587027549743652, 2.7157387733459473, 0.799325168132782, 0.799325168132782, 0.9514245390892029, 0.9514263272285461, 0.9514263272285461, 0.9514263272285461, 0.9514263272285461, 0.9514263272285461, 0.9514263272285461, 1.0027161836624146, 1.0027161836624146, 1.0027161836624146, 1.0027161836624146, 1.0027161836624146, 1.0027161836624146, 1.0027161836624146, 1.0720728635787964, 1.0720728635787964, 1.0720728635787964, 1.0720728635787964, 1.0720728635787964, 1.0720728635787964, 1.0720728635787964, 1.0720728635787964, 2.8959381580352783, 1.115149736404419, 1.1155462265014648, 1.0998070240020752, 1.0998069047927856, 1.7127443552017212, 1.0998070240020752, 1.7774137258529663, 1.0998070240020752, 1.0998070240020752, 1.0998070240020752, 1.0998070240020752, 1.0998070240020752, 1.0998070240020752, 1.179819107055664, 1.179819107055664, 1.179819107055664, 1.6419368982315063, 1.0720728635787964, 1.0720728635787964, 1.0720728635787964, 1.0720728635787964, 1.0720728635787964, 1.0720728635787964, 1.0720728635787964, 1.0720728635787964, 1.0720728635787964, 1.6854058504104614, 1.7496792078018188, 2.363013505935669, 2.7157387733459473, 2.8959381580352783, 0.799325168132782, 0.799325168132782, 0.9514245390892029, 0.9514263272285461, 0.9514263272285461, 0.9514263272285461, 0.9514263272285461, 0.9514263272285461, 0.9514263272285461, 1.0027161836624146, 1.0027161836624146, 1.0027161836624146, 1.0027161836624146, 1.0027161836624146, 1.0027161836624146, 1.977428674697876, 1.1151491403579712, 1.1155459880828857, 1.0998070240020752, 1.0998070240020752, 1.0998070240020752, 1.179819107055664, 1.179819107055664, 1.179819107055664, 1.179819107055664, 1.115546464920044, 1.1155459880828857, 1.0998070240020752, 2.2587027549743652, 0.799325168132782, 0.799325168132782, 1.977428674697876, 0.9514245390892029, 0.9514263272285461, 0.9514263272285461, 0.9514263272285461, 0.9514263272285461, 0.9514263272285461, 0.9514263272285461, 1.0027161836624146, 1.0027161836624146, 1.0027161836624146, 1.0027161836624146, 1.0027161836624146, 1.0027161836624146, 1.0027161836624146, 1.0323960781097412, 1.0324478149414062, 1.0324513912200928, 1.0324528217315674, 1.0325028896331787, 1.0325028896331787, 1.0325028896331787, 1.0325028896331787, 1.0720728635787964, 1.0720728635787964, 1.0720728635787964, 1.0720728635787964, 1.0720728635787964, 1.0720728635787964, 1.0720728635787964, 1.0720728635787964, 2.2587027549743652, 2.7157387733459473, 1.7774137258529663, 2.8959381580352783, 1.7127443552017212, 2.363013505935669, 1.179819107055664, 1.7284835577011108, 1.6419368982315063, 1.7931535243988037, 1.7927565574645996, 1.1155462265014648, 1.1155462265014648, 1.1155462265014648, 1.1155462265014648, 1.1155459880828857, 1.1155459880828857, 1.0998069047927856, 1.0998069047927856, 1.0998070240020752, 1.0998070240020752, 1.0998070240020752, 1.0998070240020752, 1.0998070240020752, 1.0998070240020752, 1.0998070240020752, 1.0998069047927856, 1.0998070240020752, 1.0998069047927856, 1.0998069047927856, 1.7127443552017212, 1.7774137258529663, 2.8959381580352783, 0.799325168132782, 0.799325168132782, 0.9514245390892029, 0.9514263272285461, 0.9514263272285461, 0.9514263272285461, 0.9514263272285461, 0.9514263272285461, 0.9514263272285461, 1.0027161836624146, 1.0027161836624146, 1.0027161836624146, 1.0027161836624146, 1.0027161836624146, 1.977428674697876, 2.7157387733459473, 1.179819107055664, 1.179819107055664, 1.179819107055664, 1.1155459880828857, 1.1155459880828857, 1.6854058504104614, 1.1155462265014648, 1.1155462265014648, 1.0027161836624146, 1.0027161836624146, 1.0027161836624146, 1.0027161836624146, 1.0027161836624146, 1.0027161836624146, 1.0027161836624146, 1.977428674697876, 2.7157387733459473, 0.799325168132782, 0.799325168132782, 0.9514245390892029, 0.9514263272285461, 0.9514263272285461, 0.9514263272285461, 0.9514263272285461, 0.9514263272285461, 0.9514263272285461, 1.0323960781097412, 1.0324478149414062, 1.0324513912200928, 1.0324528217315674, 1.0325028896331787, 1.0325028896331787, 1.0325028896331787, 1.0325028896331787, 1.0720728635787964, 1.0720728635787964, 1.0720728635787964, 1.0720728635787964, 1.0720728635787964, 1.0720728635787964, 1.0720728635787964, 1.0720728635787964, 1.0720728635787964, 1.179819107055664, 1.179819107055664, 1.1155459880828857, 1.179819107055664, 1.0998070240020752, 1.0998070240020752, 1.0998070240020752, 1.179819107055664, 1.0998070240020752, 1.1155459880828857, 1.1155462265014648, 1.1155462265014648, 1.1155462265014648, 1.1155462265014648, 1.7927565574645996, 1.1798195838928223, 1.7931535243988037, 0.799325168132782, 0.799325168132782, 0.9514245390892029, 0.9514263272285461, 0.9514263272285461, 0.9514263272285461, 0.9514263272285461, 0.9514263272285461, 0.9514263272285461, 1.0027161836624146, 1.0027161836624146, 1.0027161836624146, 1.0027161836624146, 1.0027161836624146, 1.0027161836624146, 1.0027161836624146, 1.0323960781097412, 1.0324478149414062, 1.0324513912200928, 1.0324528217315674, 1.0325028896331787, 1.0325028896331787, 1.0325028896331787, 1.0325028896331787, 1.0720728635787964, 1.0720728635787964, 1.0720728635787964, 1.0720728635787964, 1.0720728635787964, 1.0720728635787964, 1.0720728635787964, 1.0720728635787964, 1.0720728635787964, 1.179819107055664, 1.0998070240020752, 1.7774137258529663, 1.0998070240020752, 1.0998070240020752, 1.0998070240020752, 1.0998070240020752, 1.0998070240020752, 1.0998070240020752, 1.179819107055664, 1.179819107055664, 1.179819107055664, 1.1155459880828857, 1.1155459880828857, 1.1155462265014648, 1.1155462265014648, 1.1155462265014648, 1.1155462265014648, 1.7927565574645996, 1.1798195838928223, 1.7931535243988037, 1.1798195838928223, 1.7127443552017212, 1.0998069047927856, 1.0998070240020752], \"loglift\": [30.0, 29.0, 28.0, 27.0, 26.0, 25.0, 24.0, 23.0, 22.0, 21.0, 20.0, 19.0, 18.0, 17.0, 16.0, 15.0, 14.0, 13.0, 12.0, 11.0, 10.0, 9.0, 8.0, 7.0, 6.0, 5.0, 4.0, 3.0, 2.0, 1.0, 1.3569999933242798, 1.164199948310852, 1.164199948310852, 1.164199948310852, 1.164199948310852, 1.164199948310852, 1.164199948310852, 1.164199948310852, 1.164199948310852, 1.164199948310852, 1.164199948310852, 1.164199948310852, 1.164199948310852, 1.164199948310852, 1.164199948310852, 1.164199948310852, 1.164199948310852, 1.164199948310852, 1.164199948310852, 1.164199948310852, 0.7702000141143799, 0.7544000148773193, 0.7458000183105469, 0.7458000183105469, 0.7455999851226807, 0.6478000283241272, 0.46959999203681946, -0.8442999720573425, -0.8442999720573425, -1.0184999704360962, -2.0673999786376953, -1.5902999639511108, -1.8831000328063965, 2.0985000133514404, 2.0985000133514404, 2.0985000133514404, 2.0985000133514404, 2.0985000133514404, 2.0985000133514404, 2.0985000133514404, 1.3495999574661255, -0.12520000338554382, -0.12520000338554382, -0.35190001130104065, -0.35190001130104065, -0.35190001130104065, -0.35190001130104065, -0.35190001130104065, -0.35190001130104065, -0.35190001130104065, -0.38109999895095825, -0.38109999895095825, -0.38109999895095825, -0.38109999895095825, -0.38119998574256897, -0.38119998574256897, -0.38119998574256897, -0.38119998574256897, -0.4187999963760376, -0.4187999963760376, -0.4187999963760376, -0.4187999963760376, -0.4187999963760376, -0.4187999963760376, -0.4187999963760376, -0.4187999963760376, -0.4187999963760376, -1.031000018119812, -1.3481999635696411, -1.412500023841858, -0.4584999978542328, -0.4584999978542328, -0.8873000144958496, -0.44429999589920044, -0.9243000149726868, -0.44429999589920044, -0.44429999589920044, -0.44429999589920044, -0.44429999589920044, -0.4584999978542328, -0.44429999589920044, -0.44429999589920044, -0.5145000219345093, -0.5145000219345093, -0.5145000219345093, -0.5145000219345093, -0.4584999978542328, -0.44429999589920044, 1.4180999994277954, 1.4180999994277954, 1.4180999994277954, 1.4180999994277954, 1.4180999994277954, 1.4180999994277954, 1.4180999994277954, 1.4180999994277954, 1.4180999994277954, 1.4180999994277954, 1.4180999994277954, 1.4180999994277954, 1.4180999994277954, 1.4180999994277954, 1.4180999994277954, 1.0053999423980713, 0.9801999926567078, 0.9434000253677368, 0.7125999927520752, 0.6675000190734863, 0.4641000032424927, -0.6464999914169312, -0.6464999914169312, -0.8206999897956848, -0.8206999897956848, -0.8206999897956848, -0.8206999897956848, -0.8206999897956848, -0.8206999897956848, -0.8206999897956848, -1.569599986076355, -1.552299976348877, -1.8695000410079956, -0.873199999332428, -1.0357999801635742, -0.9794999957084656, -0.9656000137329102, -0.9656000137329102, 1.4184000492095947, 1.4184000492095947, 1.4184000492095947, 1.4184000492095947, 1.4184000492095947, 1.4184000492095947, 1.4184000492095947, 1.4184000492095947, 1.4184000492095947, 1.4184000492095947, 1.4184000492095947, 1.4184000492095947, 1.4184000492095947, 1.4184000492095947, 0.989300012588501, 0.9801999926567078, 0.9437000155448914, 0.9437000155448914, 0.7125999927520752, 0.5282999873161316, 0.4641000032424927, -0.6464999914169312, -0.6464999914169312, -0.8206999897956848, -0.8206999897956848, -0.8206999897956848, -0.8206999897956848, -0.8206999897956848, -0.8206999897956848, -0.8206999897956848, -1.0357999801635742, -1.4456000328063965, -0.9797999858856201, -0.9656000137329102, -0.9797999858856201, -0.9797999858856201, 1.825700044631958, 1.825700044631958, 1.825700044631958, 1.825700044631958, 1.825600028038025, 1.825600028038025, 1.825600028038025, 1.8253999948501587, 1.8051999807357788, 1.0427000522613525, 0.8583999872207642, -0.31619998812675476, -0.31619998812675476, -0.4903999865055084, -0.4903999865055084, -0.4903999865055084, -0.4903999865055084, -0.4903999865055084, -0.4903999865055084, -0.4903999865055084, -0.542900025844574, -0.542900025844574, -0.542900025844574, -0.542900025844574, -0.542900025844574, -0.542900025844574, -0.542900025844574, -0.6097999811172485, -0.6097999811172485, -0.6097999811172485, -0.6097999811172485, -0.6097999811172485, -0.6097999811172485, -0.6097999811172485, -0.6097999811172485, -1.6035000085830688, -0.6492000222206116, -0.6495000123977661, -0.6352999806404114, -0.6352999806404114, -1.0782999992370605, -0.6352999806404114, -1.1153000593185425, -0.6352999806404114, -0.6352999806404114, -0.6352999806404114, -0.6352999806404114, -0.6352999806404114, -0.6352999806404114, -0.7055000066757202, -0.7055000066757202, -0.7055000066757202, 1.848099946975708, 1.6276999711990356, 1.6276999711990356, 1.6276999711990356, 1.6276999711990356, 1.6276999711990356, 1.6276999711990356, 1.6276999711990356, 1.6276999711990356, 1.6276999711990356, 1.1753000020980835, 1.1378999948501587, 0.8374000191688538, 0.698199987411499, 0.6340000033378601, -0.4765999913215637, -0.4765999913215637, -0.6507999897003174, -0.6507999897003174, -0.6507999897003174, -0.6507999897003174, -0.6507999897003174, -0.6507999897003174, -0.6507999897003174, -0.7032999992370605, -0.7032999992370605, -0.7032999992370605, -0.7032999992370605, -0.7032999992370605, -0.7032999992370605, -1.3824000358581543, -0.8095999956130981, -0.8098999857902527, -0.7957000136375427, -0.7957000136375427, -0.7957000136375427, -0.8658999800682068, -0.8658999800682068, -0.8658999800682068, -0.8658999800682068, -0.8098999857902527, -0.8098999857902527, -0.7957000136375427, -1.5154000520706177, 2.578000068664551, 2.578000068664551, 1.6721999645233154, 0.005900000222027302, 0.005900000222027302, 0.005900000222027302, 0.005900000222027302, 0.005900000222027302, 0.005900000222027302, 0.005900000222027302, -0.04659999907016754, -0.04659999907016754, -0.04659999907016754, -0.04659999907016754, -0.04659999907016754, -0.04659999907016754, -0.04659999907016754, -0.07119999825954437, -0.07349999994039536, -0.07370000332593918, -0.07370000332593918, -0.07590000331401825, -0.07590000331401825, -0.07590000331401825, -0.07590000331401825, -0.11349999904632568, -0.11349999904632568, -0.11349999904632568, -0.11349999904632568, -0.11349999904632568, -0.11349999904632568, -0.11349999904632568, -0.11349999904632568, -0.8557000160217285, -1.0403000116348267, -0.6190999746322632, -1.107200026512146, -0.5820000171661377, -0.9039000272750854, -0.2092999964952469, -0.5911999940872192, -0.5397999882698059, -0.6279000043869019, -0.6276999711990356, -0.15330000221729279, -0.15330000221729279, -0.15330000221729279, -0.15330000221729279, -0.15330000221729279, -0.15330000221729279, 1.6022000312805176, 1.6022000312805176, 1.6022000312805176, 1.6022000312805176, 1.6022000312805176, 1.6022000312805176, 1.6022000312805176, 1.6022000312805176, 1.6022000312805176, 1.6022000312805176, 1.6022000312805176, 1.6022000312805176, 1.6022000312805176, 1.1591999530792236, 1.1222000122070312, 0.6340000033378601, -0.4765999913215637, -0.4765999913215637, -0.6507999897003174, -0.6507999897003174, -0.6507999897003174, -0.6507999897003174, -0.6507999897003174, -0.6507999897003174, -0.6507999897003174, -0.7032999992370605, -0.7032999992370605, -0.7032999992370605, -0.7032999992370605, -0.7032999992370605, -1.3824000358581543, -1.6995999813079834, -0.8658999800682068, -0.8658999800682068, -0.8658999800682068, -0.8098999857902527, -0.8098999857902527, -1.222599983215332, -0.8098999857902527, -0.8098999857902527, 1.9946999549865723, 1.9946999549865723, 1.9946999549865723, 1.9946999549865723, 1.9946999549865723, 1.9946999549865723, 1.9946999549865723, 1.315600037574768, 0.9983999729156494, -0.17649999260902405, -0.17649999260902405, -0.3506999909877777, -0.3506999909877777, -0.3506999909877777, -0.3506999909877777, -0.3506999909877777, -0.3506999909877777, -0.3506999909877777, -0.4323999881744385, -0.4323999881744385, -0.4323999881744385, -0.4323999881744385, -0.4325000047683716, -0.4325000047683716, -0.4325000047683716, -0.4325000047683716, -0.4700999855995178, -0.4700999855995178, -0.4700999855995178, -0.4700999855995178, -0.4700999855995178, -0.4700999855995178, -0.4700999855995178, -0.4700999855995178, -0.4700999855995178, -0.5658000111579895, -0.5658000111579895, -0.5098000168800354, -0.5658000111579895, -0.49559998512268066, -0.49559998512268066, -0.49559998512268066, -0.5658000111579895, -0.49559998512268066, -0.5098000168800354, -0.5098000168800354, -0.5098000168800354, -0.5098000168800354, -0.5098000168800354, -0.9842000007629395, -0.5658000111579895, -0.984499990940094, 0.4212999939918518, 0.4212999939918518, 0.24719999730587006, 0.24719999730587006, 0.24719999730587006, 0.24719999730587006, 0.24719999730587006, 0.24719999730587006, 0.24719999730587006, 0.19460000097751617, 0.19460000097751617, 0.19460000097751617, 0.19460000097751617, 0.19460000097751617, 0.19460000097751617, 0.19460000097751617, 0.1655000001192093, 0.16539999842643738, 0.16539999842643738, 0.16539999842643738, 0.16539999842643738, 0.16539999842643738, 0.16539999842643738, 0.16539999842643738, 0.12780000269412994, 0.12780000269412994, 0.12780000269412994, 0.12780000269412994, 0.12780000269412994, 0.12780000269412994, 0.12780000269412994, 0.12780000269412994, 0.12780000269412994, 0.03200000151991844, 0.10220000147819519, -0.37779998779296875, 0.10220000147819519, 0.10220000147819519, 0.10220000147819519, 0.10220000147819519, 0.10220000147819519, 0.10220000147819519, 0.03200000151991844, 0.03200000151991844, 0.03200000151991844, 0.08799999952316284, 0.08799999952316284, 0.08799999952316284, 0.08799999952316284, 0.08799999952316284, 0.08799999952316284, -0.3864000141620636, 0.03200000151991844, -0.38659998774528503, 0.03200000151991844, -0.3407000005245209, 0.10220000147819519, 0.10220000147819519], \"logprob\": [30.0, 29.0, 28.0, 27.0, 26.0, 25.0, 24.0, 23.0, 22.0, 21.0, 20.0, 19.0, 18.0, 17.0, 16.0, 15.0, 14.0, 13.0, 12.0, 11.0, 10.0, 9.0, 8.0, 7.0, 6.0, 5.0, 4.0, 3.0, 2.0, 1.0, -2.921600103378296, -3.5683000087738037, -3.5683000087738037, -3.5683000087738037, -3.5683000087738037, -3.5683000087738037, -3.5683000087738037, -3.5683000087738037, -3.5683000087738037, -3.5683000087738037, -3.5683000087738037, -3.5683000087738037, -3.5683000087738037, -3.5683000087738037, -3.5683000087738037, -3.5683000087738037, -3.5683000087738037, -3.5683000087738037, -3.5683000087738037, -3.5683000087738037, -3.5683000087738037, -3.5683000087738037, -3.5683000087738037, -3.5683000087738037, -3.5683000087738037, -3.5683000087738037, -3.5683000087738037, -5.966100215911865, -5.966100215911865, -5.966100215911865, -5.966100215911865, -5.966100215911865, -5.966100215911865, -2.849100112915039, -2.849100112915039, -2.849100112915039, -2.849100112915039, -2.849100112915039, -2.849100112915039, -2.849100112915039, -2.849100112915039, -5.247000217437744, -5.247000217437744, -5.247000217437744, -5.247000217437744, -5.247000217437744, -5.247000217437744, -5.247000217437744, -5.247000217437744, -5.247000217437744, -5.247000217437744, -5.247000217437744, -5.247000217437744, -5.247000217437744, -5.247000217437744, -5.247000217437744, -5.247000217437744, -5.247000217437744, -5.247000217437744, -5.247000217437744, -5.247000217437744, -5.247000217437744, -5.247000217437744, -5.247000217437744, -5.247000217437744, -5.247000217437744, -5.247000217437744, -5.247000217437744, -5.247000217437744, -5.247000217437744, -5.247000217437744, -5.247000217437744, -5.247000217437744, -5.247000217437744, -5.247000217437744, -5.247000217437744, -5.247000217437744, -5.247000217437744, -5.247000217437744, -5.247000217437744, -5.247000217437744, -5.247000217437744, -5.247000217437744, -5.247000217437744, -5.247000217437744, -5.247000217437744, -5.247000217437744, -5.247000217437744, -3.3703999519348145, -3.3703999519348145, -3.3703999519348145, -3.3703999519348145, -3.3703999519348145, -3.3703999519348145, -3.3703999519348145, -3.3703999519348145, -3.3703999519348145, -3.3703999519348145, -3.3703999519348145, -3.3703999519348145, -3.3703999519348145, -3.3703999519348145, -3.3703999519348145, -3.3703999519348145, -3.3703999519348145, -3.3703999519348145, -3.3703999519348145, -3.3703999519348145, -3.3703999519348145, -5.7683000564575195, -5.7683000564575195, -5.7683000564575195, -5.7683000564575195, -5.7683000564575195, -5.7683000564575195, -5.7683000564575195, -5.7683000564575195, -5.7683000564575195, -5.7683000564575195, -5.7683000564575195, -5.7683000564575195, -5.7683000564575195, -5.7683000564575195, -5.7683000564575195, -5.7683000564575195, -5.7683000564575195, -3.3703999519348145, -3.3703999519348145, -3.3703999519348145, -3.3703999519348145, -3.3703999519348145, -3.3703999519348145, -3.3703999519348145, -3.3703999519348145, -3.3703999519348145, -3.3703999519348145, -3.3703999519348145, -3.3703999519348145, -3.3703999519348145, -3.3703999519348145, -3.3703999519348145, -3.3703999519348145, -3.3703999519348145, -3.3703999519348145, -3.3703999519348145, -3.3703999519348145, -3.3703999519348145, -5.7683000564575195, -5.7683000564575195, -5.7683000564575195, -5.7683000564575195, -5.7683000564575195, -5.7683000564575195, -5.7683000564575195, -5.7683000564575195, -5.7683000564575195, -5.7683000564575195, -5.7683000564575195, -5.7683000564575195, -5.7683000564575195, -5.7683000564575195, -5.7683000564575195, -3.04010009765625, -3.04010009765625, -3.04010009765625, -3.04010009765625, -3.040299892425537, -3.040299892425537, -3.040299892425537, -3.0404999256134033, -2.3935000896453857, -3.0404000282287598, -3.0404000282287598, -5.438000202178955, -5.438000202178955, -5.438000202178955, -5.438000202178955, -5.438000202178955, -5.438000202178955, -5.438000202178955, -5.438000202178955, -5.438000202178955, -5.438000202178955, -5.438000202178955, -5.438000202178955, -5.438000202178955, -5.438000202178955, -5.438000202178955, -5.438000202178955, -5.438000202178955, -5.438000202178955, -5.438000202178955, -5.438000202178955, -5.438000202178955, -5.438000202178955, -5.438000202178955, -5.438000202178955, -5.438000202178955, -5.438000202178955, -5.438000202178955, -5.438000202178955, -5.438000202178955, -5.438000202178955, -5.438000202178955, -5.438000202178955, -5.438000202178955, -5.438000202178955, -5.438000202178955, -5.438000202178955, -5.438000202178955, -5.438000202178955, -5.438000202178955, -5.438000202178955, -5.438000202178955, -2.5539000034332275, -3.200500011444092, -3.200500011444092, -3.200500011444092, -3.200500011444092, -3.200500011444092, -3.200500011444092, -3.200500011444092, -3.200500011444092, -3.200500011444092, -3.200500011444092, -3.200500011444092, -3.200500011444092, -3.200500011444092, -3.200500011444092, -5.598400115966797, -5.598400115966797, -5.598400115966797, -5.598400115966797, -5.598400115966797, -5.598400115966797, -5.598400115966797, -5.598400115966797, -5.598400115966797, -5.598400115966797, -5.598400115966797, -5.598400115966797, -5.598400115966797, -5.598400115966797, -5.598400115966797, -5.598400115966797, -5.598400115966797, -5.598400115966797, -5.598400115966797, -5.598400115966797, -5.598400115966797, -5.598400115966797, -5.598400115966797, -5.598400115966797, -5.598400115966797, -5.598400115966797, -5.598400115966797, -5.598400115966797, -5.598400115966797, -2.5439000129699707, -2.5439000129699707, -2.5439000129699707, -4.941800117492676, -4.941800117492676, -4.941800117492676, -4.941800117492676, -4.941800117492676, -4.941800117492676, -4.941800117492676, -4.941800117492676, -4.941800117492676, -4.941800117492676, -4.941800117492676, -4.941800117492676, -4.941800117492676, -4.941800117492676, -4.93720006942749, -4.9394001960754395, -4.939599990844727, -4.939599990844727, -4.941800117492676, -4.941800117492676, -4.941800117492676, -4.941800117492676, -4.941800117492676, -4.941800117492676, -4.941800117492676, -4.941800117492676, -4.941800117492676, -4.941800117492676, -4.941800117492676, -4.941800117492676, -4.938700199127197, -4.9390997886657715, -4.941800117492676, -4.941800117492676, -4.941800117492676, -4.941800117492676, -4.941800117492676, -4.941800117492676, -4.941800117492676, -4.941800117492676, -4.941800117492676, -4.941800117492676, -4.941800117492676, -4.941800117492676, -4.941800117492676, -4.941800117492676, -4.941800117492676, -3.200500011444092, -3.200500011444092, -3.200500011444092, -3.200500011444092, -3.200500011444092, -3.200500011444092, -3.200500011444092, -3.200500011444092, -3.200500011444092, -3.200500011444092, -3.200500011444092, -3.200500011444092, -3.200500011444092, -3.200500011444092, -3.200500011444092, -3.200500011444092, -5.598400115966797, -5.598400115966797, -5.598400115966797, -5.598400115966797, -5.598400115966797, -5.598400115966797, -5.598400115966797, -5.598400115966797, -5.598400115966797, -5.598400115966797, -5.598400115966797, -5.598400115966797, -5.598400115966797, -5.598400115966797, -5.598400115966797, -5.598400115966797, -5.598400115966797, -5.598400115966797, -5.598400115966797, -5.598400115966797, -5.598400115966797, -5.598400115966797, -5.598400115966797, -5.598400115966797, -2.900399923324585, -2.900399923324585, -2.900399923324585, -2.900399923324585, -2.900399923324585, -2.900399923324585, -2.900399923324585, -2.900399923324585, -2.900399923324585, -5.298299789428711, -5.298299789428711, -5.298299789428711, -5.298299789428711, -5.298299789428711, -5.298299789428711, -5.298299789428711, -5.298299789428711, -5.298299789428711, -5.298299789428711, -5.298299789428711, -5.298299789428711, -5.298299789428711, -5.298299789428711, -5.298299789428711, -5.298299789428711, -5.298299789428711, -5.298299789428711, -5.298299789428711, -5.298299789428711, -5.298299789428711, -5.298299789428711, -5.298299789428711, -5.298299789428711, -5.298299789428711, -5.298299789428711, -5.298299789428711, -5.298299789428711, -5.298299789428711, -5.298299789428711, -5.298299789428711, -5.298299789428711, -5.298299789428711, -5.298299789428711, -5.298299789428711, -5.298299789428711, -5.298299789428711, -5.298299789428711, -5.298299789428711, -5.298299789428711, -5.298299789428711, -5.298299789428711, -5.298299789428711, -4.700500011444092, -4.700500011444092, -4.700500011444092, -4.700500011444092, -4.700500011444092, -4.700500011444092, -4.700500011444092, -4.700500011444092, -4.700500011444092, -4.700500011444092, -4.700500011444092, -4.700500011444092, -4.700500011444092, -4.700500011444092, -4.700500011444092, -4.700500011444092, -4.700500011444092, -4.700500011444092, -4.700500011444092, -4.700500011444092, -4.700500011444092, -4.700500011444092, -4.700500011444092, -4.700500011444092, -4.700500011444092, -4.700500011444092, -4.700500011444092, -4.700500011444092, -4.700500011444092, -4.700500011444092, -4.700500011444092, -4.700500011444092, -4.700500011444092, -4.700500011444092, -4.700500011444092, -4.700500011444092, -4.700500011444092, -4.700500011444092, -4.700500011444092, -4.700500011444092, -4.700500011444092, -4.700500011444092, -4.700500011444092, -4.700500011444092, -4.700500011444092, -4.700500011444092, -4.700500011444092, -4.700500011444092, -4.700500011444092, -4.700500011444092, -4.700500011444092, -4.700500011444092, -4.700500011444092, -4.700500011444092, -4.700500011444092, -4.700500011444092, -4.700500011444092, -4.700500011444092]}, \"token.table\": {\"Topic\": [6, 1, 3, 4, 6, 8, 4, 8, 4, 1, 4, 3, 4, 5, 1, 4, 4, 8, 1, 9, 8, 4, 1, 3, 3, 5, 4, 8, 3, 6, 3, 1, 8, 3, 6, 1, 6, 1, 3, 3, 4, 8, 8, 3, 1, 3, 4, 4, 1, 3, 9, 1, 5, 8, 8, 8, 9, 3, 1, 4, 6, 5, 6, 1, 8, 8, 6, 5, 6, 1, 3, 1, 5, 3, 1, 9, 4, 8, 3, 4, 5, 6, 8, 1, 1, 4, 9, 6, 1, 3, 3, 4, 8, 9, 6, 1, 4, 5, 4, 5, 6, 9, 5, 9, 1, 1, 6, 1, 4, 1, 4, 1, 3, 6, 5, 3, 1, 1, 3, 9], \"Freq\": [0.9327723979949951, 0.8475875854492188, 0.3453112542629242, 0.3453112542629242, 0.3453112542629242, 0.3453112542629242, 0.5838583111763, 0.5838583111763, 0.8967408537864685, 0.5578002333641052, 0.5578002333641052, 0.4427320063114166, 0.4427320063114166, 0.4427320063114166, 0.8475872874259949, 0.8967405557632446, 0.8967405557632446, 0.9092504978179932, 0.8475872278213501, 0.9972911477088928, 0.9092504978179932, 0.8967408537864685, 0.5576767325401306, 0.5576767325401306, 0.8964213728904724, 0.9685719609260559, 0.8967404365539551, 0.9092504382133484, 0.5933288931846619, 0.5933288931846619, 0.8964218497276306, 0.5626152157783508, 0.5626152157783508, 0.8964216709136963, 0.9327723979949951, 0.8475874066352844, 0.9327723979949951, 0.8475872874259949, 0.8964218497276306, 0.8964218497276306, 0.8967410326004028, 0.9092504382133484, 0.9092504382133484, 0.8964214324951172, 0.8475872278213501, 0.8964214324951172, 0.8967405557632446, 0.8967404365539551, 0.8475874066352844, 0.8964214324951172, 0.9972911477088928, 0.8475872874259949, 0.9685202836990356, 0.9092504978179932, 0.9092504978179932, 0.9092504382133484, 0.9972911477088928, 0.8964216709136963, 0.8475872278213501, 0.8967410326004028, 0.9327723979949951, 0.9685202836990356, 0.9327723979949951, 0.8475872874259949, 0.9092504382133484, 0.9092504382133484, 0.6090368032455444, 0.9685686230659485, 0.9327723979949951, 0.8475874066352844, 0.8964220285415649, 0.8475872278213501, 0.9685202836990356, 0.8964215517044067, 0.5057072639465332, 0.5057072639465332, 0.8967404365539551, 0.9092504978179932, 0.8964220285415649, 0.8967404365539551, 0.9685672521591187, 0.9327723979949951, 0.9092504382133484, 0.8475872874259949, 0.5578001737594604, 0.5578001737594604, 0.9972911477088928, 0.9327723979949951, 0.8475875854492188, 0.8964218497276306, 0.5785418152809143, 0.5785418152809143, 0.9092504382133484, 0.9972911477088928, 0.9327723979949951, 0.8475872874259949, 0.8967410326004028, 0.9685202836990356, 0.3682239353656769, 0.3682239353656769, 0.3682239353656769, 0.3682239353656769, 0.4970153868198395, 0.9972911477088928, 0.8475875854492188, 0.5715333223342896, 0.5715333223342896, 0.8475874066352844, 0.8967405557632446, 0.8475875854492188, 0.8967405557632446, 0.4231884479522705, 0.4231884479522705, 0.4231884479522705, 0.9686204791069031, 0.8964214324951172, 0.538377583026886, 0.8475872278213501, 0.8964213728904724, 0.9972911477088928], \"Term\": [\"advertising\", \"aggregation\", \"algorithm\", \"algorithm\", \"algorithm\", \"algorithm\", \"analysis\", \"analysis\", \"analytics\", \"application\", \"application\", \"base\", \"base\", \"base\", \"baseball\", \"bitos\", \"bittorrent\", \"call\", \"cavlc\", \"channel\", \"classification\", \"cloud\", \"coding\", \"coding\", \"compression\", \"conjunction\", \"correlation\", \"coupler\", \"database\", \"database\", \"deaggregation\", \"design\", \"design\", \"detection\", \"digital\", \"discovery\", \"distribute\", \"drive\", \"economic\", \"effect\", \"efficient\", \"element\", \"elements\", \"embed\", \"encoder\", \"engine\", \"enhance\", \"environment\", \"error\", \"expansion\", \"exploit\", \"exploration\", \"exploratory\", \"extraction\", \"feature\", \"flight\", \"generation\", \"grover\", \"h.264\", \"implementation\", \"important\", \"interactive\", \"issue\", \"location\", \"lossy\", \"lump\", \"management\", \"mapping\", \"maximize\", \"modeling\", \"morphology\", \"mpeg-4\", \"multi\", \"multiuser\", \"network\", \"network\", \"noisy\", \"novel\", \"object\", \"optical\", \"optimize\", \"overview\", \"passive\", \"pattern\", \"performance\", \"performance\", \"phase\", \"platform\", \"potential\", \"prefix\", \"progressive\", \"progressive\", \"quadrature\", \"randomness\", \"range\", \"recognition\", \"relational\", \"result\", \"scalable\", \"scalable\", \"scalable\", \"scalable\", \"search\", \"secret\", \"sensor\", \"spatial\", \"spatial\", \"statistical\", \"streaming\", \"structure\", \"supporting\", \"system\", \"system\", \"system\", \"transcoder\", \"universal\", \"using\", \"video\", \"wavelet\", \"wireless\"]}, \"R\": 30, \"lambda.step\": 0.01, \"plot.opts\": {\"xlab\": \"PC1\", \"ylab\": \"PC2\"}, \"topic.order\": [1, 2, 3, 4, 5, 6, 7, 8, 9, 10]};\n",
       "\n",
       "function LDAvis_load_lib(url, callback){\n",
       "  var s = document.createElement('script');\n",
       "  s.src = url;\n",
       "  s.async = true;\n",
       "  s.onreadystatechange = s.onload = callback;\n",
       "  s.onerror = function(){console.warn(\"failed to load library \" + url);};\n",
       "  document.getElementsByTagName(\"head\")[0].appendChild(s);\n",
       "}\n",
       "\n",
       "if(typeof(LDAvis) !== \"undefined\"){\n",
       "   // already loaded: just create the visualization\n",
       "   !function(LDAvis){\n",
       "       new LDAvis(\"#\" + \"ldavis_el1714821175463306568122360062\", ldavis_el1714821175463306568122360062_data);\n",
       "   }(LDAvis);\n",
       "}else if(typeof define === \"function\" && define.amd){\n",
       "   // require.js is available: use it to load d3/LDAvis\n",
       "   require.config({paths: {d3: \"https://cdnjs.cloudflare.com/ajax/libs/d3/3.5.5/d3.min\"}});\n",
       "   require([\"d3\"], function(d3){\n",
       "      window.d3 = d3;\n",
       "      LDAvis_load_lib(\"https://cdn.rawgit.com/bmabey/pyLDAvis/files/ldavis.v1.0.0.js\", function(){\n",
       "        new LDAvis(\"#\" + \"ldavis_el1714821175463306568122360062\", ldavis_el1714821175463306568122360062_data);\n",
       "      });\n",
       "    });\n",
       "}else{\n",
       "    // require.js not available: dynamically load d3 & LDAvis\n",
       "    LDAvis_load_lib(\"https://cdnjs.cloudflare.com/ajax/libs/d3/3.5.5/d3.min.js\", function(){\n",
       "         LDAvis_load_lib(\"https://cdn.rawgit.com/bmabey/pyLDAvis/files/ldavis.v1.0.0.js\", function(){\n",
       "                 new LDAvis(\"#\" + \"ldavis_el1714821175463306568122360062\", ldavis_el1714821175463306568122360062_data);\n",
       "            })\n",
       "         });\n",
       "}\n",
       "</script>"
      ],
      "text/plain": [
       "<IPython.core.display.HTML object>"
      ]
     },
     "execution_count": 26,
     "metadata": {},
     "output_type": "execute_result"
    }
   ],
   "source": [
    "lda10 = gensim.models.ldamodel.LdaModel.load('model10.gensim')\n",
    "lda_display10 = pyLDAvis.gensim.prepare(lda10, corpus, dictionary, sort_topics=False)\n",
    "pyLDAvis.display(lda_display10)"
   ]
  },
  {
   "cell_type": "code",
   "execution_count": null,
   "metadata": {},
   "outputs": [],
   "source": []
  }
 ],
 "metadata": {
  "kernelspec": {
   "display_name": "python36",
   "language": "python",
   "name": "python36"
  },
  "language_info": {
   "codemirror_mode": {
    "name": "ipython",
    "version": 3
   },
   "file_extension": ".py",
   "mimetype": "text/x-python",
   "name": "python",
   "nbconvert_exporter": "python",
   "pygments_lexer": "ipython3",
   "version": "3.6.8"
  }
 },
 "nbformat": 4,
 "nbformat_minor": 2
}
