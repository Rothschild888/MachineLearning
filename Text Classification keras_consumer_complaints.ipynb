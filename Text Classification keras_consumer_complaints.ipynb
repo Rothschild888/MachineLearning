{
 "cells": [
  {
   "cell_type": "code",
   "execution_count": 1,
   "metadata": {},
   "outputs": [
    {
     "name": "stderr",
     "output_type": "stream",
     "text": [
      "Using TensorFlow backend.\n"
     ]
    }
   ],
   "source": [
    "import pandas as pd\n",
    "import numpy as np\n",
    "import gzip\n",
    "from collections import defaultdict\n",
    "from keras.utils.np_utils import to_categorical\n",
    "import matplotlib.pyplot as plt\n",
    "from keras.layers import Dense, LSTM, Embedding\n",
    "from keras.models import Sequential\n",
    "from keras.preprocessing.text import Tokenizer,text_to_word_sequence\n",
    "\n",
    "from keras.utils.np_utils import to_categorical\n",
    "from keras.preprocessing.sequence import pad_sequences"
   ]
  },
  {
   "cell_type": "code",
   "execution_count": 2,
   "metadata": {},
   "outputs": [],
   "source": [
    "vocab_size = 400000\n",
    "embedding_size = 50\n",
    "maxlen = 10\n",
    "# embeddings_path = 'glove.6B.50d.txt.gz'"
   ]
  },
  {
   "cell_type": "code",
   "execution_count": 3,
   "metadata": {},
   "outputs": [
    {
     "name": "stderr",
     "output_type": "stream",
     "text": [
      "/Applications/anaconda3/envs/python36/lib/python3.6/site-packages/IPython/core/interactiveshell.py:3049: DtypeWarning: Columns (5,6,11,16) have mixed types. Specify dtype option on import or set low_memory=False.\n",
      "  interactivity=interactivity, compiler=compiler, result=result)\n"
     ]
    }
   ],
   "source": [
    "import pandas as pd\n",
    "from sklearn.model_selection import train_test_split # from sklearn.cross_validation import train_test_split\n",
    "\n",
    "df = pd.read_csv('Data/Consumer_Complaints.csv', encoding='latin-1')\n",
    "df = df[pd.notnull(df['Consumer complaint narrative'])]\n",
    "train, test  = train_test_split( df, test_size=0.20, random_state=10)"
   ]
  },
  {
   "cell_type": "code",
   "execution_count": 8,
   "metadata": {},
   "outputs": [
    {
     "data": {
      "text/plain": [
       "(307325, 18)"
      ]
     },
     "execution_count": 8,
     "metadata": {},
     "output_type": "execute_result"
    }
   ],
   "source": [
    "train.shape"
   ]
  },
  {
   "cell_type": "code",
   "execution_count": 9,
   "metadata": {},
   "outputs": [
    {
     "data": {
      "text/plain": [
       "(76832, 18)"
      ]
     },
     "execution_count": 9,
     "metadata": {},
     "output_type": "execute_result"
    }
   ],
   "source": [
    "test.shape"
   ]
  },
  {
   "cell_type": "code",
   "execution_count": 10,
   "metadata": {},
   "outputs": [
    {
     "data": {
      "text/html": [
       "<div>\n",
       "<style scoped>\n",
       "    .dataframe tbody tr th:only-of-type {\n",
       "        vertical-align: middle;\n",
       "    }\n",
       "\n",
       "    .dataframe tbody tr th {\n",
       "        vertical-align: top;\n",
       "    }\n",
       "\n",
       "    .dataframe thead th {\n",
       "        text-align: right;\n",
       "    }\n",
       "</style>\n",
       "<table border=\"1\" class=\"dataframe\">\n",
       "  <thead>\n",
       "    <tr style=\"text-align: right;\">\n",
       "      <th></th>\n",
       "      <th>Date received</th>\n",
       "      <th>Product</th>\n",
       "      <th>Sub-product</th>\n",
       "      <th>Issue</th>\n",
       "      <th>Sub-issue</th>\n",
       "      <th>Consumer complaint narrative</th>\n",
       "      <th>Company public response</th>\n",
       "      <th>Company</th>\n",
       "      <th>State</th>\n",
       "      <th>ZIP code</th>\n",
       "      <th>Tags</th>\n",
       "      <th>Consumer consent provided?</th>\n",
       "      <th>Submitted via</th>\n",
       "      <th>Date sent to company</th>\n",
       "      <th>Company response to consumer</th>\n",
       "      <th>Timely response?</th>\n",
       "      <th>Consumer disputed?</th>\n",
       "      <th>Complaint ID</th>\n",
       "    </tr>\n",
       "  </thead>\n",
       "  <tbody>\n",
       "    <tr>\n",
       "      <th>726160</th>\n",
       "      <td>05/04/2016</td>\n",
       "      <td>Credit reporting</td>\n",
       "      <td>NaN</td>\n",
       "      <td>Incorrect information on credit report</td>\n",
       "      <td>Reinserted previously deleted info</td>\n",
       "      <td>I have XXXX medical bills on transunion and XX...</td>\n",
       "      <td>Company has responded to the consumer and the ...</td>\n",
       "      <td>TRANSUNION INTERMEDIATE HOLDINGS, INC.</td>\n",
       "      <td>FL</td>\n",
       "      <td>NaN</td>\n",
       "      <td>NaN</td>\n",
       "      <td>Consent provided</td>\n",
       "      <td>Web</td>\n",
       "      <td>05/06/2016</td>\n",
       "      <td>Closed with non-monetary relief</td>\n",
       "      <td>Yes</td>\n",
       "      <td>No</td>\n",
       "      <td>1910019</td>\n",
       "    </tr>\n",
       "    <tr>\n",
       "      <th>922801</th>\n",
       "      <td>03/19/2015</td>\n",
       "      <td>Bank account or service</td>\n",
       "      <td>Other bank product/service</td>\n",
       "      <td>Account opening, closing, or management</td>\n",
       "      <td>NaN</td>\n",
       "      <td>I was studying in the XXXX last year and opene...</td>\n",
       "      <td>Company chooses not to provide a public response</td>\n",
       "      <td>U.S. BANCORP</td>\n",
       "      <td>NaN</td>\n",
       "      <td>NaN</td>\n",
       "      <td>NaN</td>\n",
       "      <td>Consent provided</td>\n",
       "      <td>Web</td>\n",
       "      <td>03/23/2015</td>\n",
       "      <td>Closed with explanation</td>\n",
       "      <td>Yes</td>\n",
       "      <td>No</td>\n",
       "      <td>1291306</td>\n",
       "    </tr>\n",
       "    <tr>\n",
       "      <th>593993</th>\n",
       "      <td>01/06/2017</td>\n",
       "      <td>Credit reporting</td>\n",
       "      <td>NaN</td>\n",
       "      <td>Incorrect information on credit report</td>\n",
       "      <td>Information is not mine</td>\n",
       "      <td>Credit history request- never authorized, comp...</td>\n",
       "      <td>Company has responded to the consumer and the ...</td>\n",
       "      <td>Experian Information Solutions Inc.</td>\n",
       "      <td>MN</td>\n",
       "      <td>554XX</td>\n",
       "      <td>NaN</td>\n",
       "      <td>Consent provided</td>\n",
       "      <td>Web</td>\n",
       "      <td>02/27/2017</td>\n",
       "      <td>Closed with explanation</td>\n",
       "      <td>Yes</td>\n",
       "      <td>Yes</td>\n",
       "      <td>2276154</td>\n",
       "    </tr>\n",
       "    <tr>\n",
       "      <th>438900</th>\n",
       "      <td>09/03/2017</td>\n",
       "      <td>Credit card or prepaid card</td>\n",
       "      <td>Store credit card</td>\n",
       "      <td>Getting a credit card</td>\n",
       "      <td>Card opened as result of identity theft or fraud</td>\n",
       "      <td>Today on X/XX/17, I went to the XXXX XXXX XXXX...</td>\n",
       "      <td>NaN</td>\n",
       "      <td>Alliance Data Card Services</td>\n",
       "      <td>CA</td>\n",
       "      <td>940XX</td>\n",
       "      <td>NaN</td>\n",
       "      <td>Consent provided</td>\n",
       "      <td>Web</td>\n",
       "      <td>09/07/2017</td>\n",
       "      <td>Closed with non-monetary relief</td>\n",
       "      <td>Yes</td>\n",
       "      <td>NaN</td>\n",
       "      <td>2657667</td>\n",
       "    </tr>\n",
       "    <tr>\n",
       "      <th>308042</th>\n",
       "      <td>03/01/2018</td>\n",
       "      <td>Credit card or prepaid card</td>\n",
       "      <td>General-purpose credit card or charge card</td>\n",
       "      <td>Fees or interest</td>\n",
       "      <td>Problem with fees</td>\n",
       "      <td>I put {$10000.00} into a secured credit card w...</td>\n",
       "      <td>Company has responded to the consumer and the ...</td>\n",
       "      <td>WELLS FARGO &amp; COMPANY</td>\n",
       "      <td>FL</td>\n",
       "      <td>NaN</td>\n",
       "      <td>NaN</td>\n",
       "      <td>Consent provided</td>\n",
       "      <td>Web</td>\n",
       "      <td>03/01/2018</td>\n",
       "      <td>Closed with monetary relief</td>\n",
       "      <td>Yes</td>\n",
       "      <td>NaN</td>\n",
       "      <td>2830051</td>\n",
       "    </tr>\n",
       "  </tbody>\n",
       "</table>\n",
       "</div>"
      ],
      "text/plain": [
       "       Date received                      Product  \\\n",
       "726160    05/04/2016             Credit reporting   \n",
       "922801    03/19/2015      Bank account or service   \n",
       "593993    01/06/2017             Credit reporting   \n",
       "438900    09/03/2017  Credit card or prepaid card   \n",
       "308042    03/01/2018  Credit card or prepaid card   \n",
       "\n",
       "                                       Sub-product  \\\n",
       "726160                                         NaN   \n",
       "922801                  Other bank product/service   \n",
       "593993                                         NaN   \n",
       "438900                           Store credit card   \n",
       "308042  General-purpose credit card or charge card   \n",
       "\n",
       "                                          Issue  \\\n",
       "726160   Incorrect information on credit report   \n",
       "922801  Account opening, closing, or management   \n",
       "593993   Incorrect information on credit report   \n",
       "438900                    Getting a credit card   \n",
       "308042                         Fees or interest   \n",
       "\n",
       "                                               Sub-issue  \\\n",
       "726160                Reinserted previously deleted info   \n",
       "922801                                               NaN   \n",
       "593993                           Information is not mine   \n",
       "438900  Card opened as result of identity theft or fraud   \n",
       "308042                                 Problem with fees   \n",
       "\n",
       "                             Consumer complaint narrative  \\\n",
       "726160  I have XXXX medical bills on transunion and XX...   \n",
       "922801  I was studying in the XXXX last year and opene...   \n",
       "593993  Credit history request- never authorized, comp...   \n",
       "438900  Today on X/XX/17, I went to the XXXX XXXX XXXX...   \n",
       "308042  I put {$10000.00} into a secured credit card w...   \n",
       "\n",
       "                                  Company public response  \\\n",
       "726160  Company has responded to the consumer and the ...   \n",
       "922801   Company chooses not to provide a public response   \n",
       "593993  Company has responded to the consumer and the ...   \n",
       "438900                                                NaN   \n",
       "308042  Company has responded to the consumer and the ...   \n",
       "\n",
       "                                       Company State ZIP code Tags  \\\n",
       "726160  TRANSUNION INTERMEDIATE HOLDINGS, INC.    FL      NaN  NaN   \n",
       "922801                            U.S. BANCORP   NaN      NaN  NaN   \n",
       "593993     Experian Information Solutions Inc.    MN    554XX  NaN   \n",
       "438900             Alliance Data Card Services    CA    940XX  NaN   \n",
       "308042                   WELLS FARGO & COMPANY    FL      NaN  NaN   \n",
       "\n",
       "       Consumer consent provided? Submitted via Date sent to company  \\\n",
       "726160           Consent provided           Web           05/06/2016   \n",
       "922801           Consent provided           Web           03/23/2015   \n",
       "593993           Consent provided           Web           02/27/2017   \n",
       "438900           Consent provided           Web           09/07/2017   \n",
       "308042           Consent provided           Web           03/01/2018   \n",
       "\n",
       "           Company response to consumer Timely response? Consumer disputed?  \\\n",
       "726160  Closed with non-monetary relief              Yes                 No   \n",
       "922801          Closed with explanation              Yes                 No   \n",
       "593993          Closed with explanation              Yes                Yes   \n",
       "438900  Closed with non-monetary relief              Yes                NaN   \n",
       "308042      Closed with monetary relief              Yes                NaN   \n",
       "\n",
       "        Complaint ID  \n",
       "726160       1910019  \n",
       "922801       1291306  \n",
       "593993       2276154  \n",
       "438900       2657667  \n",
       "308042       2830051  "
      ]
     },
     "execution_count": 10,
     "metadata": {},
     "output_type": "execute_result"
    }
   ],
   "source": [
    "train.head()"
   ]
  },
  {
   "cell_type": "code",
   "execution_count": 39,
   "metadata": {},
   "outputs": [],
   "source": [
    "# Common methods to read data and get embeddings\n",
    "def read_data():\n",
    "    df_train = train\n",
    "    df_val = test\n",
    "    categories = list(set(df_train.Product.values))\n",
    "    return df_train, df_val, categories\n",
    "\n",
    "def load_embeddings():\n",
    "    word_index = {}\n",
    "    embeddings = np.zeros((vocab_size,embedding_size))\n",
    "    glove_data = r'C:\\Users\\Rothschild\\Downloads\\glove.6B.50d.txt'\n",
    "    file = open(glove_data, encoding=\"utf8\")\n",
    "    for i, line in enumerate(file):\n",
    "        line_tokens = line.split()\n",
    "        word = line_tokens[0]\n",
    "        embeddings[i] = np.asarray(line_tokens[1:],dtype='float32')\n",
    "        word_index[word] = i\n",
    "    return embeddings,word_index"
   ]
  },
  {
   "cell_type": "code",
   "execution_count": 32,
   "metadata": {},
   "outputs": [],
   "source": [
    "def get_embedding(word,word_index,embeddings):\n",
    "    if word in word_index:\n",
    "        return embeddings[word_index[word]].reshape(((embedding_size,1)))\n",
    "    else:\n",
    "        return np.zeros((embedding_size,1))"
   ]
  },
  {
   "cell_type": "code",
   "execution_count": 33,
   "metadata": {},
   "outputs": [],
   "source": [
    "# Methods for Neural Network Model\n",
    "def prepare_data(df_train,df_val,categories):\n",
    "    train_text = df_train['Consumer complaint narrative'].tolist()\n",
    "    val_text = df_val['Consumer complaint narrative'].tolist()\n",
    "    tk = Tokenizer(num_words = vocab_size, lower = True)\n",
    "    tk.fit_on_texts(train_text + val_text)\n",
    "    x_train = pad_sequences(tk.texts_to_sequences(train_text),maxlen=maxlen)\n",
    "    x_val = pad_sequences(tk.texts_to_sequences(val_text),maxlen=maxlen)\n",
    "    y_train = category_to_one_hot(df_train['Product'].values,categories)\n",
    "    y_val = category_to_one_hot(df_val['Product'].values,categories) \n",
    "    return tk.word_index,x_train,y_train,x_val,y_val\n",
    "\n",
    "def prepare_data_from_full_word_index(df_train,df_val,categories,word_index):\n",
    "    train_text = df_train['Consumer complaint narrative'].tolist()\n",
    "    val_text = df_val['Consumer complaint narrative'].tolist()\n",
    "    x_train = get_pad_sequences(train_text,word_index)\n",
    "    x_val = get_pad_sequences(val_text,word_index)\n",
    "    y_train = category_to_one_hot(df_train['Product'].values,categories)\n",
    "    y_val = category_to_one_hot(df_val['Product'].values,categories) \n",
    "    return word_index,x_train,y_train,x_val,y_val\n",
    "\n",
    "def get_pad_sequences(text_list,word_index):\n",
    "    seqs = []\n",
    "    for text in text_list:\n",
    "        word_seq = text_to_word_sequence(text.lower())\n",
    "        seq = []\n",
    "        for word in word_seq:\n",
    "          if word in word_index:\n",
    "            seq.append(word_index[word])\n",
    "        seqs.append(seq)\n",
    "    return pad_sequences(seqs,maxlen)\n",
    "\n",
    "\n",
    "# Convert the list of categories to one_hot vector\n",
    "def category_to_one_hot(cat_list,cat_master):\n",
    "    cat_dict = {}\n",
    "    for i,cat in enumerate(cat_master):\n",
    "        cat_dict[cat] = i\n",
    "    cat_integers = [cat_dict[cat] for cat in cat_list]\n",
    "    return to_categorical(cat_integers,num_classes=len(cat_master))\n",
    "\n",
    "# Convert one_hot to category\n",
    "def one_hot_to_category(cat_one_hot_list,cat_master):\n",
    "    return [cat_master[cat_one_hot.argmax()] for cat_one_hot in cat_one_hot_list]\n",
    "\n",
    "# Get the embedding weights for the model\n",
    "def get_embedding_matrix_for_model(embeddings,word_index):\n",
    "    train_val_words = min(vocab_size, len(word_index)) +1\n",
    "    embedding_matrix = np.zeros((train_val_words, embedding_size))\n",
    "    for word, i in word_index.items():\n",
    "        embedding_vector = get_embedding(word,word_index,embeddings).flatten()\n",
    "        if embedding_vector is not None: \n",
    "            embedding_matrix[i] = embedding_vector\n",
    "    return embedding_matrix\n",
    "\n",
    "# Build the keras model\n",
    "def build_model(embedding_matrix,categories):\n",
    "    model = Sequential()\n",
    "    model.add(Embedding(embedding_matrix.shape[0], embedding_size, weights=[embedding_matrix],input_length=maxlen,trainable=False))\n",
    "    model.add(LSTM(32))\n",
    "#   We don't lose much by replacing LSTM with this flatten layer (as we have short sequences)\n",
    "#   model.add(Flatten())\n",
    "    model.add(Dense(32, activation='relu'))\n",
    "    model.add(Dense(len(categories), activation='sigmoid'))\n",
    "    model.compile(optimizer='rmsprop',\n",
    "              loss='categorical_crossentropy',\n",
    "              metrics=['acc'])\n",
    "    return model\n",
    "\n",
    "def get_val(numerator,divisor):\n",
    "    return float('nan') if divisor == 0 else np.round(numerator/divisor,3)\n",
    "\n",
    "def analyze_predictions(categories,y_true,y_pred):\n",
    "    tp = defaultdict(int)\n",
    "    tn = defaultdict(int)\n",
    "    fp = defaultdict(int)\n",
    "    fn = defaultdict(int)\n",
    "    precisions = []\n",
    "    recalls = []\n",
    "    f1s = []\n",
    "    cat_counts = defaultdict(int)\n",
    "    for cat in y_true:\n",
    "        cat_counts[cat]+=1 \n",
    "    correct = 0\n",
    "    conf_mat = defaultdict(dict)\n",
    "    for cat1 in categories:\n",
    "        for cat2 in categories:\n",
    "            conf_mat[cat1][cat2] = 0\n",
    "    for y,y_hat in zip(y_true,y_pred):\n",
    "        conf_mat[y][y_hat]+=1\n",
    "        if y == y_hat:\n",
    "            correct+=1\n",
    "            tp[y]+=1\n",
    "        else:\n",
    "            fp[y_hat]+=1\n",
    "            fn[y]+=1\n",
    "    print('Overall Accuracy:',round(correct/len(y_pred),3))\n",
    "    for cat in categories:\n",
    "        precision = get_val(tp[cat],tp[cat]+fp[cat])\n",
    "        recall = get_val(tp[cat],(tp[cat]+fn[cat]))\n",
    "        f1 = get_val(2*precision*recall,precision + recall)\n",
    "        precisions.append(precision)\n",
    "        recalls.append(recall)  \n",
    "        f1s.append(f1)\n",
    "        print('{} --> Precision:{},Recall:{},F1:{}'.format(cat,precision,recall,f1))\n",
    "    print ('\\nAverages---> Precision:{}, Recall:{}, F1:{}'.format(np.round(np.nanmean(precisions),3),                                                                                                np.round(np.nanmean(recalls),3),\n",
    "                                                               np.round(np.nanmean(f1s),3))\n",
    "          )\n",
    "          \n",
    "    print('\\nConfusion Matrix')\n",
    "    for cat1 in categories:\n",
    "        print('\\n'  +cat1+'({}) --> '.format(cat_counts[cat1]),end='')\n",
    "        for cat2 in categories:\n",
    "            print('{}({})'.format(cat2,conf_mat[cat1][cat2]),end=' , ')\n",
    "    print('')\n",
    "    \n",
    "\n",
    "\n",
    "# From Deep Learning with Python book\n",
    "def make_history_plot(history):\n",
    "    acc = history.history['acc']\n",
    "    val_acc = history.history['val_acc']\n",
    "    loss = history.history['loss']\n",
    "    val_loss = history.history['val_loss']\n",
    "\n",
    "    epochs = range(1, len(acc) + 1)\n",
    "\n",
    "    plt.plot(epochs, acc, 'bo', label='Training acc')\n",
    "    plt.plot(epochs, val_acc, 'b', color='green',label='Validation acc')\n",
    "    plt.title('Training and validation accuracy')\n",
    "    plt.legend()\n",
    "\n",
    "    plt.figure()\n",
    "\n",
    "    plt.plot(epochs, loss, 'bo', label='Training loss')\n",
    "    plt.plot(epochs, val_loss, 'b', color='green',label='Validation loss')\n",
    "    plt.title('Training and validation loss')\n",
    "    plt.legend()\n",
    "    plt.show()"
   ]
  },
  {
   "cell_type": "code",
   "execution_count": 34,
   "metadata": {},
   "outputs": [],
   "source": [
    "import numpy as np\n",
    "np.random.seed(42) # for reproducibility\n",
    "from IPython.display import SVG\n",
    "from keras.utils.vis_utils import model_to_dot\n",
    "import matplotlib.pyplot as plt\n",
    "%matplotlib inline"
   ]
  },
  {
   "cell_type": "code",
   "execution_count": 35,
   "metadata": {},
   "outputs": [],
   "source": [
    "df_train,df_val,categories = read_data()"
   ]
  },
  {
   "cell_type": "code",
   "execution_count": 40,
   "metadata": {},
   "outputs": [],
   "source": [
    "# Load Glove 50-d embeddings\n",
    "embeddings,word_index = load_embeddings()"
   ]
  },
  {
   "cell_type": "code",
   "execution_count": 41,
   "metadata": {},
   "outputs": [],
   "source": [
    "# Prepare the data for the model\n",
    "tk_word_index,x_train,y_train,x_val,y_val = prepare_data_from_full_word_index(df_train,df_val,categories,word_index)"
   ]
  },
  {
   "cell_type": "code",
   "execution_count": 42,
   "metadata": {},
   "outputs": [
    {
     "name": "stdout",
     "output_type": "stream",
     "text": [
      "_________________________________________________________________\n",
      "Layer (type)                 Output Shape              Param #   \n",
      "=================================================================\n",
      "embedding_1 (Embedding)      (None, 10, 50)            20000050  \n",
      "_________________________________________________________________\n",
      "lstm_1 (LSTM)                (None, 32)                10624     \n",
      "_________________________________________________________________\n",
      "dense_1 (Dense)              (None, 32)                1056      \n",
      "_________________________________________________________________\n",
      "dense_2 (Dense)              (None, 18)                594       \n",
      "=================================================================\n",
      "Total params: 20,012,324\n",
      "Trainable params: 12,274\n",
      "Non-trainable params: 20,000,050\n",
      "_________________________________________________________________\n"
     ]
    }
   ],
   "source": [
    "# Get the embedding matrix for the model, build model, display model summary\n",
    "embedding_matrix = get_embedding_matrix_for_model(embeddings,word_index)\n",
    "model = build_model(embedding_matrix,categories)\n",
    "model.summary()"
   ]
  },
  {
   "cell_type": "code",
   "execution_count": 43,
   "metadata": {},
   "outputs": [
    {
     "name": "stdout",
     "output_type": "stream",
     "text": [
      "Train on 307325 samples, validate on 76832 samples\n",
      "Epoch 1/5\n",
      "307325/307325 [==============================] - 109s 356us/step - loss: 1.9574 - acc: 0.3618 - val_loss: 1.8896 - val_acc: 0.3902\n",
      "Epoch 2/5\n",
      "307325/307325 [==============================] - 102s 331us/step - loss: 1.8670 - acc: 0.3955 - val_loss: 1.8724 - val_acc: 0.3987\n",
      "Epoch 3/5\n",
      "307325/307325 [==============================] - 96s 313us/step - loss: 1.8544 - acc: 0.4006 - val_loss: 1.8682 - val_acc: 0.4002\n",
      "Epoch 4/5\n",
      "307325/307325 [==============================] - 96s 312us/step - loss: 1.8525 - acc: 0.4033 - val_loss: 1.8680 - val_acc: 0.4006\n",
      "Epoch 5/5\n",
      "307325/307325 [==============================] - 103s 336us/step - loss: 1.8529 - acc: 0.4043 - val_loss: 1.8736 - val_acc: 0.3998\n"
     ]
    }
   ],
   "source": [
    "# Train the model, record history\n",
    "history = model.fit(x_train, y_train,\n",
    "                    epochs=5,\n",
    "                    batch_size=24,\n",
    "                    shuffle=False,\n",
    "                    validation_data=(x_val, y_val))"
   ]
  },
  {
   "cell_type": "code",
   "execution_count": 44,
   "metadata": {},
   "outputs": [
    {
     "data": {
      "image/png": "[encoded data removed]",
      "text/plain": [
       "<Figure size 432x288 with 1 Axes>"
      ]
     },
     "metadata": {
      "needs_background": "light"
     },
     "output_type": "display_data"
    },
    {
     "data": {
      "image/png": "[encoded data removed]",
      "text/plain": [
       "<Figure size 432x288 with 1 Axes>"
      ]
     },
     "metadata": {
      "needs_background": "light"
     },
     "output_type": "display_data"
    }
   ],
   "source": [
    "make_history_plot(history)"
   ]
  },
  {
   "cell_type": "code",
   "execution_count": 45,
   "metadata": {},
   "outputs": [
    {
     "name": "stdout",
     "output_type": "stream",
     "text": [
      "Overall Accuracy: 0.406\n",
      "Consumer Loan --> Precision:0.31,Recall:0.064,F1:0.106\n",
      "Money transfer, virtual currency, or money service --> Precision:nan,Recall:0.0,F1:nan\n",
      "Credit card --> Precision:0.353,Recall:0.001,F1:0.002\n",
      "Virtual currency --> Precision:nan,Recall:0.0,F1:nan\n",
      "Credit reporting, credit repair services, or other personal consumer reports --> Precision:0.411,Recall:0.734,F1:0.527\n",
      "Credit reporting --> Precision:0.675,Recall:0.02,F1:0.039\n",
      "Other financial service --> Precision:nan,Recall:0.0,F1:nan\n",
      "Mortgage --> Precision:0.363,Recall:0.542,F1:0.435\n",
      "Bank account or service --> Precision:0.296,Recall:0.061,F1:0.101\n",
      "Debt collection --> Precision:0.452,Recall:0.549,F1:0.496\n",
      "Student loan --> Precision:0.458,Recall:0.213,F1:0.291\n",
      "Money transfers --> Precision:nan,Recall:0.0,F1:nan\n",
      "Checking or savings account --> Precision:0.231,Recall:0.107,F1:0.146\n",
      "Payday loan --> Precision:nan,Recall:0.0,F1:nan\n",
      "Credit card or prepaid card --> Precision:0.292,Recall:0.16,F1:0.207\n",
      "Payday loan, title loan, or personal loan --> Precision:nan,Recall:0.0,F1:nan\n",
      "Vehicle loan or lease --> Precision:0.2,Recall:0.0,F1:0.0\n",
      "Prepaid card --> Precision:nan,Recall:0.0,F1:nan\n",
      "\n",
      "Averages---> Precision:0.367, Recall:0.136, F1:0.214\n",
      "\n",
      "Confusion Matrix\n",
      "\n",
      "Consumer Loan(7554) --> Consumer Loan(482) , Money transfer, virtual currency, or money service(0) , Credit card(1) , Virtual currency(0) , Credit reporting, credit repair services, or other personal consumer reports(2321) , Credit reporting(1) , Other financial service(0) , Mortgage(2037) , Bank account or service(36) , Debt collection(2129) , Student loan(340) , Money transfers(0) , Checking or savings account(65) , Payday loan(0) , Credit card or prepaid card(140) , Payday loan, title loan, or personal loan(0) , Vehicle loan or lease(2) , Prepaid card(0) , \n",
      "Money transfer, virtual currency, or money service(4427) --> Consumer Loan(8) , Money transfer, virtual currency, or money service(0) , Credit card(1) , Virtual currency(0) , Credit reporting, credit repair services, or other personal consumer reports(1165) , Credit reporting(0) , Other financial service(0) , Mortgage(1231) , Bank account or service(77) , Debt collection(1298) , Student loan(20) , Money transfers(0) , Checking or savings account(465) , Payday loan(0) , Credit card or prepaid card(162) , Payday loan, title loan, or personal loan(0) , Vehicle loan or lease(0) , Prepaid card(0) , \n",
      "Credit card(14991) --> Consumer Loan(17) , Money transfer, virtual currency, or money service(0) , Credit card(12) , Virtual currency(0) , Credit reporting, credit repair services, or other personal consumer reports(5036) , Credit reporting(3) , Other financial service(0) , Mortgage(3320) , Bank account or service(238) , Debt collection(3556) , Student loan(218) , Money transfers(0) , Checking or savings account(302) , Payday loan(0) , Credit card or prepaid card(2289) , Payday loan, title loan, or personal loan(0) , Vehicle loan or lease(0) , Prepaid card(0) , \n",
      "Virtual currency(13) --> Consumer Loan(0) , Money transfer, virtual currency, or money service(0) , Credit card(0) , Virtual currency(0) , Credit reporting, credit repair services, or other personal consumer reports(4) , Credit reporting(0) , Other financial service(0) , Mortgage(6) , Bank account or service(0) , Debt collection(1) , Student loan(0) , Money transfers(0) , Checking or savings account(2) , Payday loan(0) , Credit card or prepaid card(0) , Payday loan, title loan, or personal loan(0) , Vehicle loan or lease(0) , Prepaid card(0) , \n",
      "Credit reporting, credit repair services, or other personal consumer reports(73883) --> Consumer Loan(244) , Money transfer, virtual currency, or money service(0) , Credit card(5) , Virtual currency(0) , Credit reporting, credit repair services, or other personal consumer reports(54235) , Credit reporting(225) , Other financial service(0) , Mortgage(6186) , Bank account or service(65) , Debt collection(11248) , Student loan(753) , Money transfers(0) , Checking or savings account(152) , Payday loan(0) , Credit card or prepaid card(768) , Payday loan, title loan, or personal loan(0) , Vehicle loan or lease(2) , Prepaid card(0) , \n",
      "Credit reporting(25369) --> Consumer Loan(55) , Money transfer, virtual currency, or money service(0) , Credit card(3) , Virtual currency(0) , Credit reporting, credit repair services, or other personal consumer reports(18348) , Credit reporting(500) , Other financial service(0) , Mortgage(2069) , Bank account or service(9) , Debt collection(3993) , Student loan(156) , Money transfers(0) , Checking or savings account(44) , Payday loan(0) , Credit card or prepaid card(192) , Payday loan, title loan, or personal loan(0) , Vehicle loan or lease(0) , Prepaid card(0) , \n",
      "Other financial service(234) --> Consumer Loan(1) , Money transfer, virtual currency, or money service(0) , Credit card(0) , Virtual currency(0) , Credit reporting, credit repair services, or other personal consumer reports(65) , Credit reporting(1) , Other financial service(0) , Mortgage(71) , Bank account or service(5) , Debt collection(72) , Student loan(6) , Money transfers(0) , Checking or savings account(9) , Payday loan(0) , Credit card or prepaid card(4) , Payday loan, title loan, or personal loan(0) , Vehicle loan or lease(0) , Prepaid card(0) , \n",
      "Mortgage(42527) --> Consumer Loan(32) , Money transfer, virtual currency, or money service(0) , Credit card(0) , Virtual currency(0) , Credit reporting, credit repair services, or other personal consumer reports(9627) , Credit reporting(0) , Other financial service(0) , Mortgage(23069) , Bank account or service(225) , Debt collection(7500) , Student loan(1268) , Money transfers(0) , Checking or savings account(297) , Payday loan(0) , Credit card or prepaid card(509) , Payday loan, title loan, or personal loan(0) , Vehicle loan or lease(0) , Prepaid card(0) , \n",
      "Bank account or service(11876) --> Consumer Loan(19) , Money transfer, virtual currency, or money service(0) , Credit card(0) , Virtual currency(0) , Credit reporting, credit repair services, or other personal consumer reports(2834) , Credit reporting(1) , Other financial service(0) , Mortgage(3508) , Bank account or service(721) , Debt collection(2796) , Student loan(85) , Money transfers(0) , Checking or savings account(1102) , Payday loan(0) , Credit card or prepaid card(810) , Payday loan, title loan, or personal loan(0) , Vehicle loan or lease(0) , Prepaid card(0) , \n",
      "Debt collection(69645) --> Consumer Loan(166) , Money transfer, virtual currency, or money service(0) , Credit card(1) , Virtual currency(0) , Credit reporting, credit repair services, or other personal consumer reports(22582) , Credit reporting(7) , Other financial service(0) , Mortgage(6946) , Bank account or service(80) , Debt collection(38245) , Student loan(774) , Money transfers(0) , Checking or savings account(291) , Payday loan(0) , Credit card or prepaid card(553) , Payday loan, title loan, or personal loan(0) , Vehicle loan or lease(0) , Prepaid card(0) , \n",
      "Student loan(17473) --> Consumer Loan(16) , Money transfer, virtual currency, or money service(0) , Credit card(0) , Virtual currency(0) , Credit reporting, credit repair services, or other personal consumer reports(4097) , Credit reporting(2) , Other financial service(0) , Mortgage(5130) , Bank account or service(17) , Debt collection(4214) , Student loan(3718) , Money transfers(0) , Checking or savings account(109) , Payday loan(0) , Credit card or prepaid card(170) , Payday loan, title loan, or personal loan(0) , Vehicle loan or lease(0) , Prepaid card(0) , \n",
      "Money transfers(1215) --> Consumer Loan(3) , Money transfer, virtual currency, or money service(0) , Credit card(0) , Virtual currency(0) , Credit reporting, credit repair services, or other personal consumer reports(261) , Credit reporting(0) , Other financial service(0) , Mortgage(351) , Bank account or service(22) , Debt collection(396) , Student loan(7) , Money transfers(0) , Checking or savings account(126) , Payday loan(0) , Credit card or prepaid card(49) , Payday loan, title loan, or personal loan(0) , Vehicle loan or lease(0) , Prepaid card(0) , \n",
      "Checking or savings account(10291) --> Consumer Loan(15) , Money transfer, virtual currency, or money service(0) , Credit card(2) , Virtual currency(0) , Credit reporting, credit repair services, or other personal consumer reports(2568) , Credit reporting(0) , Other financial service(0) , Mortgage(2933) , Bank account or service(564) , Debt collection(2444) , Student loan(40) , Money transfers(0) , Checking or savings account(1097) , Payday loan(0) , Credit card or prepaid card(628) , Payday loan, title loan, or personal loan(0) , Vehicle loan or lease(0) , Prepaid card(0) , \n",
      "Payday loan(1404) --> Consumer Loan(0) , Money transfer, virtual currency, or money service(0) , Credit card(0) , Virtual currency(0) , Credit reporting, credit repair services, or other personal consumer reports(237) , Credit reporting(0) , Other financial service(0) , Mortgage(414) , Bank account or service(4) , Debt collection(610) , Student loan(90) , Money transfers(0) , Checking or savings account(32) , Payday loan(0) , Credit card or prepaid card(17) , Payday loan, title loan, or personal loan(0) , Vehicle loan or lease(0) , Prepaid card(0) , \n",
      "Credit card or prepaid card(17172) --> Consumer Loan(24) , Money transfer, virtual currency, or money service(0) , Credit card(7) , Virtual currency(0) , Credit reporting, credit repair services, or other personal consumer reports(5934) , Credit reporting(0) , Other financial service(0) , Mortgage(3802) , Bank account or service(313) , Debt collection(3667) , Student loan(238) , Money transfers(0) , Checking or savings account(448) , Payday loan(0) , Credit card or prepaid card(2739) , Payday loan, title loan, or personal loan(0) , Vehicle loan or lease(0) , Prepaid card(0) , \n",
      "Payday loan, title loan, or personal loan(3561) --> Consumer Loan(42) , Money transfer, virtual currency, or money service(0) , Credit card(0) , Virtual currency(0) , Credit reporting, credit repair services, or other personal consumer reports(892) , Credit reporting(1) , Other financial service(0) , Mortgage(1048) , Bank account or service(27) , Debt collection(1178) , Student loan(239) , Money transfers(0) , Checking or savings account(62) , Payday loan(0) , Credit card or prepaid card(72) , Payday loan, title loan, or personal loan(0) , Vehicle loan or lease(0) , Prepaid card(0) , \n",
      "Vehicle loan or lease(4547) --> Consumer Loan(425) , Money transfer, virtual currency, or money service(0) , Credit card(0) , Virtual currency(0) , Credit reporting, credit repair services, or other personal consumer reports(1609) , Credit reporting(0) , Other financial service(0) , Mortgage(1169) , Bank account or service(15) , Debt collection(1011) , Student loan(169) , Money transfers(0) , Checking or savings account(38) , Payday loan(0) , Credit card or prepaid card(110) , Payday loan, title loan, or personal loan(0) , Vehicle loan or lease(1) , Prepaid card(0) , \n",
      "Prepaid card(1143) --> Consumer Loan(6) , Money transfer, virtual currency, or money service(0) , Credit card(2) , Virtual currency(0) , Credit reporting, credit repair services, or other personal consumer reports(232) , Credit reporting(0) , Other financial service(0) , Mortgage(281) , Bank account or service(16) , Debt collection(330) , Student loan(0) , Money transfers(0) , Checking or savings account(114) , Payday loan(0) , Credit card or prepaid card(162) , Payday loan, title loan, or personal loan(0) , Vehicle loan or lease(0) , Prepaid card(0) , \n"
     ]
    }
   ],
   "source": [
    "# Make and analyze training predictions\n",
    "train_predictions = one_hot_to_category(model.predict(x_train),categories)\n",
    "analyze_predictions(categories,df_train['Product'].values,train_predictions)"
   ]
  },
  {
   "cell_type": "code",
   "execution_count": 46,
   "metadata": {},
   "outputs": [
    {
     "name": "stdout",
     "output_type": "stream",
     "text": [
      "Overall Accuracy: 0.4\n",
      "Consumer Loan --> Precision:0.295,Recall:0.061,F1:0.101\n",
      "Money transfer, virtual currency, or money service --> Precision:nan,Recall:0.0,F1:nan\n",
      "Credit card --> Precision:0.364,Recall:0.001,F1:0.002\n",
      "Virtual currency --> Precision:nan,Recall:0.0,F1:nan\n",
      "Credit reporting, credit repair services, or other personal consumer reports --> Precision:0.413,Recall:0.724,F1:0.526\n",
      "Credit reporting --> Precision:0.637,Recall:0.02,F1:0.039\n",
      "Other financial service --> Precision:nan,Recall:0.0,F1:nan\n",
      "Mortgage --> Precision:0.35,Recall:0.532,F1:0.422\n",
      "Bank account or service --> Precision:0.271,Recall:0.058,F1:0.096\n",
      "Debt collection --> Precision:0.437,Recall:0.54,F1:0.483\n",
      "Student loan --> Precision:0.469,Recall:0.218,F1:0.298\n",
      "Money transfers --> Precision:nan,Recall:0.0,F1:nan\n",
      "Checking or savings account --> Precision:0.217,Recall:0.1,F1:0.137\n",
      "Payday loan --> Precision:nan,Recall:0.0,F1:nan\n",
      "Credit card or prepaid card --> Precision:0.281,Recall:0.148,F1:0.194\n",
      "Payday loan, title loan, or personal loan --> Precision:nan,Recall:0.0,F1:nan\n",
      "Vehicle loan or lease --> Precision:nan,Recall:0.0,F1:nan\n",
      "Prepaid card --> Precision:nan,Recall:0.0,F1:nan\n",
      "\n",
      "Averages---> Precision:0.373, Recall:0.133, F1:0.23\n",
      "\n",
      "Confusion Matrix\n",
      "\n",
      "Consumer Loan(1920) --> Consumer Loan(117) , Money transfer, virtual currency, or money service(0) , Credit card(0) , Virtual currency(0) , Credit reporting, credit repair services, or other personal consumer reports(610) , Credit reporting(0) , Other financial service(0) , Mortgage(501) , Bank account or service(11) , Debt collection(550) , Student loan(76) , Money transfers(0) , Checking or savings account(23) , Payday loan(0) , Credit card or prepaid card(32) , Payday loan, title loan, or personal loan(0) , Vehicle loan or lease(0) , Prepaid card(0) , \n",
      "Money transfer, virtual currency, or money service(1058) --> Consumer Loan(0) , Money transfer, virtual currency, or money service(0) , Credit card(0) , Virtual currency(0) , Credit reporting, credit repair services, or other personal consumer reports(297) , Credit reporting(0) , Other financial service(0) , Mortgage(286) , Bank account or service(25) , Debt collection(285) , Student loan(3) , Money transfers(0) , Checking or savings account(121) , Payday loan(0) , Credit card or prepaid card(41) , Payday loan, title loan, or personal loan(0) , Vehicle loan or lease(0) , Prepaid card(0) , \n",
      "Credit card(3847) --> Consumer Loan(6) , Money transfer, virtual currency, or money service(0) , Credit card(4) , Virtual currency(0) , Credit reporting, credit repair services, or other personal consumer reports(1277) , Credit reporting(1) , Other financial service(0) , Mortgage(903) , Bank account or service(72) , Debt collection(898) , Student loan(50) , Money transfers(0) , Checking or savings account(95) , Payday loan(0) , Credit card or prepaid card(541) , Payday loan, title loan, or personal loan(0) , Vehicle loan or lease(0) , Prepaid card(0) , \n",
      "Virtual currency(3) --> Consumer Loan(0) , Money transfer, virtual currency, or money service(0) , Credit card(0) , Virtual currency(0) , Credit reporting, credit repair services, or other personal consumer reports(1) , Credit reporting(0) , Other financial service(0) , Mortgage(1) , Bank account or service(0) , Debt collection(0) , Student loan(0) , Money transfers(0) , Checking or savings account(1) , Payday loan(0) , Credit card or prepaid card(0) , Payday loan, title loan, or personal loan(0) , Vehicle loan or lease(0) , Prepaid card(0) , \n",
      "Credit reporting, credit repair services, or other personal consumer reports(18750) --> Consumer Loan(79) , Money transfer, virtual currency, or money service(0) , Credit card(0) , Virtual currency(0) , Credit reporting, credit repair services, or other personal consumer reports(13576) , Credit reporting(63) , Other financial service(0) , Mortgage(1613) , Bank account or service(20) , Debt collection(2973) , Student loan(192) , Money transfers(0) , Checking or savings account(41) , Payday loan(0) , Credit card or prepaid card(193) , Payday loan, title loan, or personal loan(0) , Vehicle loan or lease(0) , Prepaid card(0) , \n",
      "Credit reporting(6219) --> Consumer Loan(9) , Money transfer, virtual currency, or money service(0) , Credit card(1) , Virtual currency(0) , Credit reporting, credit repair services, or other personal consumer reports(4359) , Credit reporting(123) , Other financial service(0) , Mortgage(563) , Bank account or service(7) , Debt collection(1040) , Student loan(36) , Money transfers(0) , Checking or savings account(12) , Payday loan(0) , Credit card or prepaid card(69) , Payday loan, title loan, or personal loan(0) , Vehicle loan or lease(0) , Prepaid card(0) , \n",
      "Other financial service(58) --> Consumer Loan(0) , Money transfer, virtual currency, or money service(0) , Credit card(0) , Virtual currency(0) , Credit reporting, credit repair services, or other personal consumer reports(14) , Credit reporting(0) , Other financial service(0) , Mortgage(13) , Bank account or service(0) , Debt collection(26) , Student loan(2) , Money transfers(0) , Checking or savings account(1) , Payday loan(0) , Credit card or prepaid card(2) , Payday loan, title loan, or personal loan(0) , Vehicle loan or lease(0) , Prepaid card(0) , \n",
      "Mortgage(10523) --> Consumer Loan(1) , Money transfer, virtual currency, or money service(0) , Credit card(0) , Virtual currency(0) , Credit reporting, credit repair services, or other personal consumer reports(2427) , Credit reporting(0) , Other financial service(0) , Mortgage(5597) , Bank account or service(50) , Debt collection(1945) , Student loan(316) , Money transfers(0) , Checking or savings account(71) , Payday loan(0) , Credit card or prepaid card(116) , Payday loan, title loan, or personal loan(0) , Vehicle loan or lease(0) , Prepaid card(0) , \n",
      "Bank account or service(3009) --> Consumer Loan(6) , Money transfer, virtual currency, or money service(0) , Credit card(0) , Virtual currency(0) , Credit reporting, credit repair services, or other personal consumer reports(730) , Credit reporting(0) , Other financial service(0) , Mortgage(906) , Bank account or service(176) , Debt collection(705) , Student loan(26) , Money transfers(0) , Checking or savings account(281) , Payday loan(0) , Credit card or prepaid card(179) , Payday loan, title loan, or personal loan(0) , Vehicle loan or lease(0) , Prepaid card(0) , \n",
      "Debt collection(17196) --> Consumer Loan(38) , Money transfer, virtual currency, or money service(0) , Credit card(1) , Virtual currency(0) , Credit reporting, credit repair services, or other personal consumer reports(5643) , Credit reporting(6) , Other financial service(0) , Mortgage(1827) , Bank account or service(18) , Debt collection(9283) , Student loan(171) , Money transfers(0) , Checking or savings account(69) , Payday loan(0) , Credit card or prepaid card(140) , Payday loan, title loan, or personal loan(0) , Vehicle loan or lease(0) , Prepaid card(0) , \n",
      "Student loan(4366) --> Consumer Loan(4) , Money transfer, virtual currency, or money service(0) , Credit card(0) , Virtual currency(0) , Credit reporting, credit repair services, or other personal consumer reports(1055) , Credit reporting(0) , Other financial service(0) , Mortgage(1238) , Bank account or service(13) , Debt collection(1043) , Student loan(950) , Money transfers(0) , Checking or savings account(11) , Payday loan(0) , Credit card or prepaid card(52) , Payday loan, title loan, or personal loan(0) , Vehicle loan or lease(0) , Prepaid card(0) , \n",
      "Money transfers(282) --> Consumer Loan(1) , Money transfer, virtual currency, or money service(0) , Credit card(1) , Virtual currency(0) , Credit reporting, credit repair services, or other personal consumer reports(65) , Credit reporting(0) , Other financial service(0) , Mortgage(76) , Bank account or service(3) , Debt collection(85) , Student loan(0) , Money transfers(0) , Checking or savings account(37) , Payday loan(0) , Credit card or prepaid card(14) , Payday loan, title loan, or personal loan(0) , Vehicle loan or lease(0) , Prepaid card(0) , \n",
      "Checking or savings account(2607) --> Consumer Loan(5) , Money transfer, virtual currency, or money service(0) , Credit card(0) , Virtual currency(0) , Credit reporting, credit repair services, or other personal consumer reports(639) , Credit reporting(0) , Other financial service(0) , Mortgage(735) , Bank account or service(161) , Debt collection(635) , Student loan(20) , Money transfers(0) , Checking or savings account(261) , Payday loan(0) , Credit card or prepaid card(151) , Payday loan, title loan, or personal loan(0) , Vehicle loan or lease(0) , Prepaid card(0) , \n",
      "Payday loan(343) --> Consumer Loan(0) , Money transfer, virtual currency, or money service(0) , Credit card(0) , Virtual currency(0) , Credit reporting, credit repair services, or other personal consumer reports(65) , Credit reporting(0) , Other financial service(0) , Mortgage(87) , Bank account or service(0) , Debt collection(157) , Student loan(25) , Money transfers(0) , Checking or savings account(5) , Payday loan(0) , Credit card or prepaid card(4) , Payday loan, title loan, or personal loan(0) , Vehicle loan or lease(0) , Prepaid card(0) , \n",
      "Credit card or prepaid card(4257) --> Consumer Loan(5) , Money transfer, virtual currency, or money service(0) , Credit card(4) , Virtual currency(0) , Credit reporting, credit repair services, or other personal consumer reports(1396) , Credit reporting(0) , Other financial service(0) , Mortgage(987) , Bank account or service(80) , Debt collection(969) , Student loan(65) , Money transfers(0) , Checking or savings account(122) , Payday loan(0) , Credit card or prepaid card(629) , Payday loan, title loan, or personal loan(0) , Vehicle loan or lease(0) , Prepaid card(0) , \n",
      "Payday loan, title loan, or personal loan(872) --> Consumer Loan(12) , Money transfer, virtual currency, or money service(0) , Credit card(0) , Virtual currency(0) , Credit reporting, credit repair services, or other personal consumer reports(233) , Credit reporting(0) , Other financial service(0) , Mortgage(266) , Bank account or service(3) , Debt collection(278) , Student loan(54) , Money transfers(0) , Checking or savings account(15) , Payday loan(0) , Credit card or prepaid card(11) , Payday loan, title loan, or personal loan(0) , Vehicle loan or lease(0) , Prepaid card(0) , \n",
      "Vehicle loan or lease(1215) --> Consumer Loan(113) , Money transfer, virtual currency, or money service(0) , Credit card(0) , Virtual currency(0) , Credit reporting, credit repair services, or other personal consumer reports(418) , Credit reporting(0) , Other financial service(0) , Mortgage(311) , Bank account or service(6) , Debt collection(294) , Student loan(38) , Money transfers(0) , Checking or savings account(7) , Payday loan(0) , Credit card or prepaid card(28) , Payday loan, title loan, or personal loan(0) , Vehicle loan or lease(0) , Prepaid card(0) , \n",
      "Prepaid card(307) --> Consumer Loan(0) , Money transfer, virtual currency, or money service(0) , Credit card(0) , Virtual currency(0) , Credit reporting, credit repair services, or other personal consumer reports(65) , Credit reporting(0) , Other financial service(0) , Mortgage(80) , Bank account or service(4) , Debt collection(90) , Student loan(3) , Money transfers(0) , Checking or savings account(32) , Payday loan(0) , Credit card or prepaid card(33) , Payday loan, title loan, or personal loan(0) , Vehicle loan or lease(0) , Prepaid card(0) , \n"
     ]
    }
   ],
   "source": [
    "# Make and analyze validation predictions\n",
    "val_predictions = one_hot_to_category(model.predict(x_val),categories)\n",
    "analyze_predictions(categories,df_val['Product'].values,val_predictions)"
   ]
  },
  {
   "cell_type": "code",
   "execution_count": null,
   "metadata": {},
   "outputs": [],
   "source": []
  }
 ],
 "metadata": {
  "kernelspec": {
   "display_name": "python36",
   "language": "python",
   "name": "python36"
  },
  "language_info": {
   "codemirror_mode": {
    "name": "ipython",
    "version": 3
   },
   "file_extension": ".py",
   "mimetype": "text/x-python",
   "name": "python",
   "nbconvert_exporter": "python",
   "pygments_lexer": "ipython3",
   "version": "3.6.8"
  }
 },
 "nbformat": 4,
 "nbformat_minor": 2
}
